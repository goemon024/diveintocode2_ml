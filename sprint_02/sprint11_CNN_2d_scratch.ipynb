{
 "cells": [
  {
   "cell_type": "markdown",
   "metadata": {},
   "source": [
    "## sprint11_CNN_2d"
   ]
  },
  {
   "cell_type": "code",
   "execution_count": 2,
   "metadata": {},
   "outputs": [],
   "source": [
    "import matplotlib.pyplot as plt\n",
    "%matplotlib inline\n",
    "import numpy as np\n",
    "import pandas as pd\n",
    "import seaborn as sns\n",
    "import matplotlib.patches as patches\n",
    "from sklearn.model_selection import train_test_split\n",
    "import math\n",
    "\n",
    "pd.set_option('display.max_columns', 250)\n",
    "np.set_printoptions(threshold=np.inf)"
   ]
  },
  {
   "cell_type": "code",
   "execution_count": 3,
   "metadata": {},
   "outputs": [],
   "source": [
    "class Conv_Initializer:\n",
    "    def WI(self, output_channels_num, input_channels_num, F):\n",
    "        WI = np.random.randn(output_channels_num, input_channels_num, F[0],F[1])\n",
    "        return WI\n",
    "    def BI(self, output_channels_num):\n",
    "        ### ２次元、３次元を１とする。Wとの演算でのシェイプを合わせるため### \n",
    "        BI = np.random.randn(output_channels_num,1,1) \n",
    "        return BI\n",
    "    \n",
    "class SimpleInitializer:\n",
    "    def __init__(self, sigma):\n",
    "        self.sigma = sigma\n",
    "    def W(self, n_nodes1, n_nodes2):\n",
    "        return self.sigma * np.random.randn(n_nodes1, n_nodes2)\n",
    "    def B(self, n_nodes2):\n",
    "        return np.random.randn(n_nodes2, 1).T"
   ]
  },
  {
   "cell_type": "code",
   "execution_count": 4,
   "metadata": {},
   "outputs": [],
   "source": [
    "class SGD2:\n",
    "    def __init__(self, lr=0.02):\n",
    "        self.lr = lr\n",
    "    def update(self, layer):\n",
    "        layer.W = layer.W - self.lr * layer.dW\n",
    "        layer.B = layer.B - self.lr * layer.dB.mean(axis=0)\n",
    "\n",
    "#        print(layer.W.shape,layer.B.shape)"
   ]
  },
  {
   "cell_type": "markdown",
   "metadata": {},
   "source": [
    "## 【問題1】2次元畳み込み層の作成\n",
    "## 【問題2】2次元畳み込み後の出力サイズ(get_output_shape関数)"
   ]
  },
  {
   "cell_type": "code",
   "execution_count": 58,
   "metadata": {},
   "outputs": [],
   "source": [
    "#SimpleConv2d(Conv_Initializer(), SGD2(0.01), F=[3, 3], S=[1,1], input_channels_num=1, output_channels_num=3)\n",
    "\n",
    "class SimpleConv2d:\n",
    "    def __init__(self, initializer, optimizer, F, S, input_channels_num=1, output_channels_num=3):\n",
    "\n",
    "        self.initializer = initializer\n",
    "        self.optimizer = optimizer\n",
    "        self.F = F\n",
    "        self.W = self.initializer.WI(output_channels_num, input_channels_num, self.F) \n",
    "        self.B = self.initializer.BI(output_channels_num)\n",
    "        self.dW = np.zeros((output_channels_num, input_channels_num, self.F[0],self.F[1]))\n",
    "        self.dB = np.zeros((output_channels_num,1,1))\n",
    "        \n",
    "        self.P = [0,0]\n",
    "        self.S = S\n",
    "    \n",
    "    def get_output_shape(self):\n",
    "        self.output_h = int((self.Z.shape[1] + self.P[0]*2 - self.F[0]) / self.S[0] + 1)\n",
    "        self.output_w = int((self.Z.shape[2] + self.P[1]*2 - self.F[1]) / self.S[1] + 1)\n",
    "        return self.output_h, self.output_w\n",
    "                \n",
    "    def forward(self, Z):\n",
    "        # Z = (入力チャネル数、1d入力、2d入力)\n",
    "        # A = (出力チャネル数、1d出力、2d出力)\n",
    "        self.Z = Z\n",
    "        self.get_output_shape()\n",
    "        self.A = np.zeros([self.W.shape[0], self.output_h, self.output_w])\n",
    "        \n",
    "        # 出力Ｃ、入力Ｃ，ｈ、ｗをforループで回す。\n",
    "        output_c_conv = []\n",
    "        for output_c in range(self.W.shape[0]):\n",
    "            convs = np.zeros((self.W.shape[1], self.output_h, self.output_w))\n",
    "            for input_c in range(self.W.shape[1]):\n",
    "                for i in range(self.output_h):\n",
    "                    for j in range(self.output_w):\n",
    "                        convs[input_c][i][j] = np.sum(self.Z[input_c][i:i+self.F[0],j:j+self.F[1]] * self.W[output_c][input_c]) \n",
    "            output_c_conv.append(convs)            \n",
    "        self.A = (np.sum(output_c_conv, axis=1) + self.B)\n",
    "        return self.A\n",
    "\n",
    "# convs[input_c][i][j] = np.sum(self.Z[input_c][i:i+self.F[0]][j:j+self.F[1]] * self.W[output_c][input_c]) と記載をするとエラー。\n",
    "# 別のコードとしては、self.A[output_c][i][j] = np.sum(self.Z[input_c][i:self.F[0]+i,j:self.F[1]+j] * self.W[output_c][input_c])\n",
    "# 配列をappendしてlist化したものを、np.sum(axis=1)で配列にしている。self.Bのshapeは（出力チャネル数、1、1）としなければならない。\n",
    "    \n",
    "    def backward(self, dA):\n",
    "        self.dB = np.sum(np.sum(dA,axis=1),axis=1)\n",
    "        self.dZ = np.zeros((self.Z.shape[0], self.Z.shape[1]+2, self.Z.shape[2]+2))\n",
    "        dA_pad = np.array([np.pad(x,1,\"constant\") for x in dA])\n",
    "\n",
    "        # for文 input_c:元の入力、output_c:元の出力、i: Wの出力チャネルサイズ数\n",
    "        for input_c in range(self.W.shape[1]):\n",
    "            for output_c in range(self.W.shape[0]):\n",
    "                for i in range(self.output_h):                \n",
    "                    for j in range(self.output_w):\n",
    "                        self.dW[output_c][input_c] = np.sum(self.Z[input_c][i:i+self.F[0],j:j+self.F[1]] * dA[output_c][i][j])\n",
    "\n",
    "        # for文　input_c:元の入力、output_c:元の出力、j：Zの1次元入力サイズ、s:1次元フィルタサイズ\n",
    "\n",
    "        for output_c in range(self.W.shape[0]):\n",
    "            for input_c in range(self.W.shape[1]):\n",
    "                for i in range(self.output_h):\n",
    "                    for j in range(self.output_w):\n",
    "                        self.dZ[input_c][i:self.F[0]+i, j:self.F[1]+j] += self.W[output_c][input_c] * dA[output_c][i][j]\n",
    "                        \n",
    "        self.dZ = self.dZ[:, 1:-1,1:-1]\n",
    "        delta = self.dZ\n",
    "        self = self.optimizer.update(self)\n",
    "        \n",
    "        return  delta\n"
   ]
  },
  {
   "cell_type": "code",
   "execution_count": 60,
   "metadata": {},
   "outputs": [
    {
     "data": {
      "text/plain": [
       "array([[[10., 10.],\n",
       "        [10., 10.]],\n",
       "\n",
       "       [[10., 10.],\n",
       "        [10., 10.]],\n",
       "\n",
       "       [[10., 10.],\n",
       "        [10., 10.]]])"
      ]
     },
     "execution_count": 60,
     "metadata": {},
     "output_type": "execute_result"
    }
   ],
   "source": [
    "#cnn.add(SimpleConv2d(Conv_Initializer(), SGD2(0.01), F=[3, 3], S=[1,1], input_channels_num=1, output_channels_num=3))\n",
    "\n",
    "clf = SimpleConv2d(Conv_Initializer(), SGD2(0.01), F=[3, 3], S=[1,1])\n",
    "XX = np.ones([1,4,4])\n",
    "clf.W = np.ones([3,1,3,3])\n",
    "clf.B = np.ones([3,1,1])\n",
    "temp11=clf.forward(XX)\n",
    "temp11"
   ]
  },
  {
   "cell_type": "code",
   "execution_count": 61,
   "metadata": {},
   "outputs": [
    {
     "data": {
      "text/plain": [
       "array([[[120., 120.,  60.,   0.],\n",
       "        [120., 120.,  60.,   0.],\n",
       "        [ 60.,  60.,  30.,   0.],\n",
       "        [  0.,   0.,   0.,   0.]]])"
      ]
     },
     "execution_count": 61,
     "metadata": {},
     "output_type": "execute_result"
    }
   ],
   "source": [
    "clf.backward(temp11)"
   ]
  },
  {
   "cell_type": "markdown",
   "metadata": {},
   "source": [
    "## 【問題3】最大プーリング層の作成"
   ]
  },
  {
   "cell_type": "code",
   "execution_count": 62,
   "metadata": {},
   "outputs": [],
   "source": [
    "class MaxPool2D:\n",
    "    def __init__(self,F,S):\n",
    "        self.F = (2,2)\n",
    "        self.S = (2,2)\n",
    "\n",
    "    def get_output_shape(self):\n",
    "        self.output_h = int((self.Z.shape[1] - self.F[0]) / self.S[0] + 1)\n",
    "        self.output_w = int((self.Z.shape[2] - self.F[1]) / self.S[1] + 1)\n",
    "        return self.output_h, self.output_w\n",
    "                    \n",
    "    def forward(self, Z):\n",
    "        self.Z = Z\n",
    "        self.output_shape = self.get_output_shape()\n",
    "        A = np.zeros([self.Z.shape[0], self.output_h, self.output_w])\n",
    "        self.A_index = np.zeros([self.Z.shape[0], self.output_h, self.output_w, 2]).astype(int)\n",
    "        for input_c in range(self.Z.shape[0]):\n",
    "            for i in range(self.output_h):\n",
    "                for j in range(self.output_w):\n",
    "                    A[input_c][i,j]= np.max(self.Z[input_c][i*self.S[0]:i*self.S[0]+self.F[0], j*self.S[1]:j*self.S[1]+self.F[1]])\n",
    "                    self.A_index[input_c][i,j] = np.unravel_index(np.argmax(self.Z[input_c][i*self.S[0]:i*self.S[0]+self.F[0],\n",
    "                                                                                       j*self.S[1]:j*self.S[1]+self.F[1]]),(2,2))+np.array([i*self.S[0],j*self.S[1]])\n",
    "        self.A = A\n",
    "        assert(np.array(A).shape == np.zeros([self.Z.shape[0], self.output_h, self.output_w]).shape)\n",
    "        return A\n",
    "        \n",
    "    def backward(self, dA):\n",
    "        dZ = np.zeros([self.Z.shape[0],self.Z.shape[1],self.Z.shape[2]])\n",
    "        for input_c in range(self.Z.shape[0]):\n",
    "            for i in range(self.output_h):\n",
    "                for j in range(self.output_w):\n",
    "                    h = self.A_index[input_c][i,j][0]\n",
    "                    w = self.A_index[input_c][i,j][1]\n",
    "                    dZ[input_c][h,w]=self.A[input_c][i,j]\n",
    "        \n",
    "        return dZ\n",
    "    \n"
   ]
  },
  {
   "cell_type": "code",
   "execution_count": 63,
   "metadata": {},
   "outputs": [
    {
     "name": "stdout",
     "output_type": "stream",
     "text": [
      "[[[ 0  1  2  3]\n",
      "  [ 4  5  6  7]\n",
      "  [ 8  9 10 11]\n",
      "  [12 13 14 15]]]\n"
     ]
    },
    {
     "data": {
      "text/plain": [
       "array([[[ 5.,  7.],\n",
       "        [13., 15.]]])"
      ]
     },
     "execution_count": 63,
     "metadata": {},
     "output_type": "execute_result"
    }
   ],
   "source": [
    "temp1 = np.array(range(16)).reshape(1,4,4)\n",
    "mp = MaxPool2D((2,2),(2,2))\n",
    "print(temp1)\n",
    "mp.forward(temp1)"
   ]
  },
  {
   "cell_type": "code",
   "execution_count": 64,
   "metadata": {},
   "outputs": [
    {
     "data": {
      "text/plain": [
       "array([[[ 0.,  0.,  0.,  0.],\n",
       "        [ 0.,  5.,  0.,  7.],\n",
       "        [ 0.,  0.,  0.,  0.],\n",
       "        [ 0., 13.,  0., 15.]]])"
      ]
     },
     "execution_count": 64,
     "metadata": {},
     "output_type": "execute_result"
    }
   ],
   "source": [
    "mp.backward(mp.forward(temp1))"
   ]
  },
  {
   "cell_type": "markdown",
   "metadata": {},
   "source": [
    "## 【問題5】平滑化"
   ]
  },
  {
   "cell_type": "code",
   "execution_count": 65,
   "metadata": {},
   "outputs": [],
   "source": [
    "class Flatten:\n",
    "\n",
    "    def forward(self,Z):\n",
    "        self.origin_shape = Z.shape\n",
    "        self.Z = Z.reshape(1,-1)\n",
    "        return self.Z\n",
    "    def backward(self,dA):\n",
    "        self.dA = dA.reshape(self.origin_shape)\n",
    "        return self.dA\n",
    "    "
   ]
  },
  {
   "cell_type": "code",
   "execution_count": 66,
   "metadata": {},
   "outputs": [
    {
     "name": "stdout",
     "output_type": "stream",
     "text": [
      "[[ 0  1  2  3  4  5  6  7  8  9 10 11 12 13 14 15]]\n",
      "[[[ 0  1  2  3]\n",
      "  [ 4  5  6  7]\n",
      "  [ 8  9 10 11]\n",
      "  [12 13 14 15]]]\n"
     ]
    }
   ],
   "source": [
    "FL = Flatten()\n",
    "print(FL.forward(temp1))\n",
    "print(FL.backward(FL.forward(temp1)))"
   ]
  },
  {
   "cell_type": "markdown",
   "metadata": {},
   "source": [
    "## 【問題6】学習と推定"
   ]
  },
  {
   "cell_type": "markdown",
   "metadata": {},
   "source": [
    "##  <活性化関数、初期化、学習モード>"
   ]
  },
  {
   "cell_type": "code",
   "execution_count": 10,
   "metadata": {},
   "outputs": [],
   "source": [
    "class Tanh:\n",
    "    def __init__(self):\n",
    "        self.out = None\n",
    "    def forward(self,x):\n",
    "#          out = 1/(1 + np.exp(-x))\n",
    "        out = (np.exp(x)-np.exp(-x))/(np.exp(x)+np.exp(-x))\n",
    "        self.out = out\n",
    "        return out\n",
    "    def backward(self,dout):\n",
    "        dx = dout * (1 - self.out**2) ### 確認。out?\n",
    "#         dx = dout * (1.0 - self.out) * self.out\n",
    "        return dx"
   ]
  },
  {
   "cell_type": "code",
   "execution_count": 8,
   "metadata": {},
   "outputs": [],
   "source": [
    "class Softmax:\n",
    "    def __init__(self):\n",
    "        self.loss = None\n",
    "        self.y = None\n",
    "        self.t = None\n",
    "    def forward(self,x):\n",
    "        self.y = np.exp(x)/ (np.sum(np.exp(x),axis=1).reshape(-1,1))\n",
    "        return self.y\n",
    "    def backward(self,t):\n",
    "        self.t = t\n",
    "        delta_sf = self.y -self.t\n",
    "#       self.loss = self.cross_entropy_error(self.y, self.t)\n",
    "        return delta_sf\n",
    "    def cross_entropy_error(self,y,t):\n",
    "        self.t = t\n",
    "        c_entropy = -1/len(self.t)*(np.sum(self.t*np.log(self.y))) ### ｔは1hot_encoder\n",
    "        return c_entropy"
   ]
  },
  {
   "cell_type": "code",
   "execution_count": 14,
   "metadata": {},
   "outputs": [],
   "source": [
    "class SGD:\n",
    "    def __init__(self, lr):\n",
    "        self.lr = lr\n",
    "    def update(self, layer):\n",
    "        layer.W = layer.W - self.lr * layer.dW\n",
    "        layer.B = layer.B - self.lr * layer.dB.mean(axis = 0) "
   ]
  },
  {
   "cell_type": "code",
   "execution_count": 16,
   "metadata": {},
   "outputs": [],
   "source": [
    "class Xavier_Initializer:\n",
    "    def __init__(self,xavier):\n",
    "        self.xavier = None\n",
    "    def WI(self, n_nodes1, n_nodes2):\n",
    "        self.xavier = 1/math.sqrt(n_nodes1)\n",
    "        WI = np.random.randn(n_nodes1, n_nodes2) * self.xavier\n",
    "        return WI\n",
    "    def BI(self, n_nodes2):\n",
    "        BI = np.random.randn(n_nodes2) * self.xavier\n",
    "        return BI"
   ]
  },
  {
   "cell_type": "code",
   "execution_count": 17,
   "metadata": {},
   "outputs": [],
   "source": [
    "class SimpleInitializer:\n",
    "\n",
    "    def __init__(self, sigma):\n",
    "        self.sigma = sigma\n",
    "    def WI(self, n_nodes1, n_nodes2):\n",
    "        WI = np.random.randn(n_nodes1, n_nodes2) * self.sigma\n",
    "        return WI\n",
    "    def BI(self, n_nodes2):\n",
    "        BI = np.random.randn(n_nodes2) * self.sigma\n",
    "        return BI"
   ]
  },
  {
   "cell_type": "code",
   "execution_count": 18,
   "metadata": {},
   "outputs": [],
   "source": [
    "class Xavier_Initializer2:\n",
    "    def __init__(self,xavier):\n",
    "        self.xavier = None\n",
    "    def WI(self, n_samples, n_channels, hight, width):\n",
    "        self.xavier = 1/math.sqrt(hight*width)\n",
    "        WI = np.random.randn(n_samples, n_channels, hight, width) * self.xavier\n",
    "        \n",
    "        return WI\n",
    "    def BI(self, n_nodes2):\n",
    "        BI = np.random.randn(n_nodes2) * self.xavier\n",
    "        return BI"
   ]
  },
  {
   "cell_type": "markdown",
   "metadata": {},
   "source": [
    "## データセットの定義"
   ]
  },
  {
   "cell_type": "code",
   "execution_count": 71,
   "metadata": {},
   "outputs": [],
   "source": [
    "from keras.datasets import mnist\n",
    "(X_train, y_train), (X_test, y_test) = mnist.load_data()"
   ]
  },
  {
   "cell_type": "code",
   "execution_count": 72,
   "metadata": {},
   "outputs": [],
   "source": [
    "### X_test y_testは使用しない？　###\n",
    "X_train = X_train.astype(np.float).reshape(60000,28,28)\n",
    "X_test = X_test.astype(np.float).reshape(10000,28,28)\n",
    "X_train /= 255\n",
    "X_test /= 255"
   ]
  },
  {
   "cell_type": "code",
   "execution_count": 73,
   "metadata": {},
   "outputs": [],
   "source": [
    "X_train = X_train[:, np.newaxis, :, :]\n",
    "X_test = X_test[:, np.newaxis, :, :]"
   ]
  },
  {
   "cell_type": "code",
   "execution_count": 74,
   "metadata": {},
   "outputs": [],
   "source": [
    "from sklearn.preprocessing import OneHotEncoder\n",
    "enc = OneHotEncoder(handle_unknown='ignore', sparse=False)\n",
    "y_train_one_hot = enc.fit_transform(y_train[:, np.newaxis])\n",
    "y_test_one_hot = enc.transform(y_test[:, np.newaxis])\n",
    "\n",
    "from sklearn.model_selection import train_test_split\n",
    "X_train, X_val, y_train, y_val = train_test_split(X_train, y_train_one_hot, test_size=0.2)"
   ]
  },
  {
   "cell_type": "markdown",
   "metadata": {},
   "source": [
    "## 全結合層（flattenを利用）など"
   ]
  },
  {
   "cell_type": "code",
   "execution_count": 68,
   "metadata": {},
   "outputs": [],
   "source": [
    "class FC:\n",
    "\n",
    "    def __init__(self, n_nodes1, n_nodes2, initializer, optimizer):\n",
    "        self.optimizer = optimizer\n",
    "        # 初期化\n",
    "        self.initializer = initializer\n",
    "        self.n_nodes1 = n_nodes1\n",
    "        self.n_nodes2 = n_nodes2        \n",
    "        # initializerのメソッドを使い、self.Wとself.Bを初期化する\n",
    "        self.W = self.initializer.WI(self.n_nodes1,self.n_nodes2)\n",
    "        self.B = self.initializer.BI(self.n_nodes2)\n",
    "\n",
    "    def forward(self, Z):\n",
    "        self.flatten = Flatten()\n",
    "        self.flat_Z = self.flatten.forward(Z)\n",
    "        A = np.dot(self.flat_Z, self.W)+ self.B\n",
    "        return A\n",
    "\n",
    "    def backward(self, dA):\n",
    "        self.dB = dA\n",
    "        self.dW = np.dot(self.flat_Z.T, dA)\n",
    "        dZ = self.flatten.backward(np.dot(dA, self.W.T))\n",
    "        self = self.optimizer.update(self) \n",
    "        return dZ\n"
   ]
  },
  {
   "cell_type": "code",
   "execution_count": 69,
   "metadata": {},
   "outputs": [],
   "source": [
    "class Scratch_Cnn2d_Classifier:        \n",
    "    def __init__(self, verbose = True, iter_num=1, lr=0.002, sigma=0.02):\n",
    "        self.verbose = verbose\n",
    "        self.iter_num = iter_num\n",
    "        self.lr = lr\n",
    "        self.sigma = sigma\n",
    "        self.network_layers = []\n",
    "        \n",
    "    def fit(self, X,y):\n",
    "        \n",
    "        for i in range(self.iter_num):\n",
    "            for mini_X, mini_y in zip(X,y):\n",
    "                mini_X =mini_X.reshape(1,28,28)\n",
    "                self.forward_network(mini_X)\n",
    "                self.back_network(mini_y)\n",
    "                \n",
    "    def add(self, l):\n",
    "        self.network_layers.append(l)\n",
    "        \n",
    "    def forward_network(self,next_input):\n",
    "        for l in self.network_layers:\n",
    "            next_input = l.forward(next_input)\n",
    "        return next_input\n",
    "        \n",
    "    def back_network(self,y):\n",
    "        next_input = y\n",
    "        for l in reversed(self.network_layers):\n",
    "            next_input = l.backward(next_input)\n",
    "            \n",
    "    def predict(self,X):\n",
    "      \n",
    "        preds = []\n",
    "        for x in X:\n",
    "            pred = self.forward_network(x)\n",
    "            preds.append(np.argmax(pred))\n",
    "        return preds        "
   ]
  },
  {
   "cell_type": "code",
   "execution_count": 75,
   "metadata": {},
   "outputs": [
    {
     "data": {
      "text/plain": [
       "(48000, 10)"
      ]
     },
     "execution_count": 75,
     "metadata": {},
     "output_type": "execute_result"
    }
   ],
   "source": [
    "y_train.shape"
   ]
  },
  {
   "cell_type": "code",
   "execution_count": 95,
   "metadata": {},
   "outputs": [],
   "source": [
    "cnn = Scratch_Cnn2d_Classifier()\n",
    "\n",
    "cnn.add(SimpleConv2d(Conv_Initializer(), SGD2(0.01), F=[3, 3], S=[1,1], input_channels_num=1, output_channels_num=3))\n",
    "cnn.add(MaxPool2D(F=(2, 2), S=2))\n",
    "cnn.add(Tanh())\n",
    "cnn.add(Tanh())\n",
    "cnn.add(FC(507, 200, SimpleInitializer(0.02), SGD(0.02)))\n",
    "cnn.add(Tanh())\n",
    "cnn.add(FC(200, 10, SimpleInitializer(0.02), SGD(0.02)))\n",
    "cnn.add(Softmax())\n",
    "\n",
    "cnn.fit(X_train[0:2999],y_train[0:2999])"
   ]
  },
  {
   "cell_type": "code",
   "execution_count": 96,
   "metadata": {},
   "outputs": [
    {
     "data": {
      "text/plain": [
       "0.7766666666666666"
      ]
     },
     "execution_count": 96,
     "metadata": {},
     "output_type": "execute_result"
    }
   ],
   "source": [
    "from sklearn.metrics import accuracy_score\n",
    "accuracy_score(y_test[0:300], cnn.predict(X_test[0:300]))\n"
   ]
  },
  {
   "cell_type": "markdown",
   "metadata": {},
   "source": [
    "## 【問題9】出力サイズとパラメータ数の計算"
   ]
  },
  {
   "cell_type": "markdown",
   "metadata": {},
   "source": [
    "\n",
    "    入力サイズ : 144×144, 3チャンネル\n",
    "    フィルタサイズ : 3×3, 6チャンネル\n",
    "    ストライド : 1\n",
    "    パディング : なし\n",
    "\n",
    "パラメータ数　６×３×３×３＋６＝１６８  \n",
    "出力サイズ　　１４２×１４２×６＝１２０９８４\n",
    "\n",
    "\n",
    "    入力サイズ : 60×60, 24チャンネル\n",
    "    フィルタサイズ : 3×3, 48チャンネル\n",
    "    ストライド　: 1\n",
    "    パディング : なし\n",
    "\n",
    "パラメータ数　４８×２４×３×３＋４８＝１０４１６  \n",
    "出力サイズ　　５８×５８×４８＝１６１４７２  \n",
    "\n",
    "\n",
    "    入力サイズ : 20×20, 10チャンネル\n",
    "    フィルタサイズ: 3×3, 20チャンネル\n",
    "    ストライド : 2\n",
    "    パディング : なし\n",
    "\n",
    "パラメータ数　２０×１０×３×３＋２０＝１８２０  \n",
    "出力サイズ　　９×９×２０＝１６２０  \n"
   ]
  },
  {
   "cell_type": "markdown",
   "metadata": {},
   "source": [
    "※　以下はメモ"
   ]
  },
  {
   "cell_type": "code",
   "execution_count": 88,
   "metadata": {},
   "outputs": [
    {
     "data": {
      "text/plain": [
       "array([ 110.35090414,   17.42174294, -115.20198824])"
      ]
     },
     "execution_count": 88,
     "metadata": {},
     "output_type": "execute_result"
    }
   ],
   "source": [
    "cnn.network_layers[0].dB"
   ]
  },
  {
   "cell_type": "code",
   "execution_count": 92,
   "metadata": {},
   "outputs": [
    {
     "data": {
      "text/plain": [
       "array([-86.24966074,  74.85441542, -42.68688208])"
      ]
     },
     "execution_count": 92,
     "metadata": {},
     "output_type": "execute_result"
    }
   ],
   "source": [
    "cnn.network_layers[0].dB"
   ]
  },
  {
   "cell_type": "code",
   "execution_count": 97,
   "metadata": {},
   "outputs": [
    {
     "data": {
      "text/plain": [
       "array([-140.50912397,   15.4857399 ,  125.20330263])"
      ]
     },
     "execution_count": 97,
     "metadata": {},
     "output_type": "execute_result"
    }
   ],
   "source": [
    "cnn.network_layers[0].dB"
   ]
  },
  {
   "cell_type": "code",
   "execution_count": 87,
   "metadata": {},
   "outputs": [
    {
     "data": {
      "text/plain": [
       "array([[[[-0.28160414, -0.15293035,  0.67173163],\n",
       "         [-0.8886815 , -0.35494127, -0.99650568],\n",
       "         [ 1.24010824, -0.45822004,  1.55409192]]],\n",
       "\n",
       "\n",
       "       [[[ 0.56498781,  1.4503962 , -0.61505901],\n",
       "         [-0.38846196, -1.19736636, -1.07165554],\n",
       "         [-0.12624013, -0.15166334, -0.21587572]]],\n",
       "\n",
       "\n",
       "       [[[-0.55059972,  0.281994  ,  0.88400459],\n",
       "         [-1.02268013, -0.63442587, -0.70707607],\n",
       "         [ 0.15991049,  0.89289107,  0.76495317]]]])"
      ]
     },
     "execution_count": 87,
     "metadata": {},
     "output_type": "execute_result"
    }
   ],
   "source": [
    "cnn.network_layers[0].W"
   ]
  },
  {
   "cell_type": "code",
   "execution_count": 93,
   "metadata": {},
   "outputs": [
    {
     "data": {
      "text/plain": [
       "array([[[[ 0.04022997, -2.46992965, -0.74870701],\n",
       "         [ 1.33582507, -1.47829346, -1.48727196],\n",
       "         [-1.5521729 , -0.35765659,  1.4609603 ]]],\n",
       "\n",
       "\n",
       "       [[[ 0.64507137, -1.57538347, -0.11367834],\n",
       "         [ 0.46592135, -0.42830212, -0.76913932],\n",
       "         [ 0.82896859, -1.9493051 ,  0.22489649]]],\n",
       "\n",
       "\n",
       "       [[[ 0.36050474,  0.15461494, -0.9170836 ],\n",
       "         [ 0.26876445,  0.22766495,  0.19831994],\n",
       "         [-0.14212663,  0.21903203,  1.1110323 ]]]])"
      ]
     },
     "execution_count": 93,
     "metadata": {},
     "output_type": "execute_result"
    }
   ],
   "source": [
    "cnn.network_layers[0].W"
   ]
  },
  {
   "cell_type": "code",
   "execution_count": 98,
   "metadata": {},
   "outputs": [
    {
     "data": {
      "text/plain": [
       "array([[[[-0.26118649,  0.91289749, -1.05585896],\n",
       "         [-0.55666682,  0.16417285,  0.482402  ],\n",
       "         [ 0.01573109, -1.38311144,  0.06238562]]],\n",
       "\n",
       "\n",
       "       [[[ 0.13534149,  0.49818183,  0.51786218],\n",
       "         [ 0.07937398,  0.19577898, -1.9428185 ],\n",
       "         [-0.30047763, -0.7351651 , -0.48899004]]],\n",
       "\n",
       "\n",
       "       [[[-0.86437243,  0.03029113,  1.32696095],\n",
       "         [ 0.89828227, -0.17134098, -0.88884581],\n",
       "         [-1.19681188,  0.30687879, -0.24680031]]]])"
      ]
     },
     "execution_count": 98,
     "metadata": {},
     "output_type": "execute_result"
    }
   ],
   "source": [
    "cnn.network_layers[0].W"
   ]
  },
  {
   "cell_type": "code",
   "execution_count": 89,
   "metadata": {},
   "outputs": [
    {
     "data": {
      "text/plain": [
       "array([[[ 0.41684991]],\n",
       "\n",
       "       [[ 0.03256858]],\n",
       "\n",
       "       [[-0.91995147]]])"
      ]
     },
     "execution_count": 89,
     "metadata": {},
     "output_type": "execute_result"
    }
   ],
   "source": [
    "cnn.network_layers[0].B"
   ]
  },
  {
   "cell_type": "code",
   "execution_count": 94,
   "metadata": {},
   "outputs": [
    {
     "data": {
      "text/plain": [
       "array([[[ 0.03885694]],\n",
       "\n",
       "       [[ 0.77695952]],\n",
       "\n",
       "       [[-0.33225684]]])"
      ]
     },
     "execution_count": 94,
     "metadata": {},
     "output_type": "execute_result"
    }
   ],
   "source": [
    "cnn.network_layers[0].B"
   ]
  },
  {
   "cell_type": "code",
   "execution_count": 99,
   "metadata": {},
   "outputs": [
    {
     "data": {
      "text/plain": [
       "array([[[-0.78547055]],\n",
       "\n",
       "       [[ 0.09945419]],\n",
       "\n",
       "       [[ 0.65748301]]])"
      ]
     },
     "execution_count": 99,
     "metadata": {},
     "output_type": "execute_result"
    }
   ],
   "source": [
    "cnn.network_layers[0].B"
   ]
  },
  {
   "cell_type": "code",
   "execution_count": null,
   "metadata": {},
   "outputs": [],
   "source": []
  }
 ],
 "metadata": {
  "kernelspec": {
   "display_name": "Python 3",
   "language": "python",
   "name": "python3"
  },
  "language_info": {
   "codemirror_mode": {
    "name": "ipython",
    "version": 3
   },
   "file_extension": ".py",
   "mimetype": "text/x-python",
   "name": "python",
   "nbconvert_exporter": "python",
   "pygments_lexer": "ipython3",
   "version": "3.7.4"
  }
 },
 "nbformat": 4,
 "nbformat_minor": 2
}

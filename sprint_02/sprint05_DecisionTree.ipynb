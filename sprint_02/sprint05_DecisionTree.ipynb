{
 "cells": [
  {
   "cell_type": "markdown",
   "metadata": {},
   "source": [
    "## Splint5 決定木 スクラッチ"
   ]
  },
  {
   "cell_type": "code",
   "execution_count": 282,
   "metadata": {},
   "outputs": [],
   "source": [
    "import matplotlib.pyplot as plt\n",
    "%matplotlib inline\n",
    "import numpy as np\n",
    "import pandas as pd\n",
    "\n",
    "pd.set_option('display.max_columns', 250)\n",
    "np.set_printoptions(threshold=np.inf)"
   ]
  },
  {
   "cell_type": "code",
   "execution_count": 283,
   "metadata": {},
   "outputs": [],
   "source": [
    "from sklearn.datasets import load_iris\n",
    "iris_dataset = load_iris()\n",
    "X = pd.DataFrame(iris_dataset[\"data\"], columns = iris_dataset[\"feature_names\"])\n",
    "y = pd.DataFrame(iris_dataset[\"target\"], columns =['target'])\n",
    "df = pd.concat([X,y],axis=1)\n",
    "df = df.iloc[0:100,[0,4]]\n",
    "\n",
    "df = df.sample(frac=1, random_state=1)\n",
    "df_test = df.iloc[80:100,:]\n",
    "df = df.iloc[0:80,:]"
   ]
  },
  {
   "cell_type": "markdown",
   "metadata": {},
   "source": [
    "## 【問題１】 不純度を求める関数"
   ]
  },
  {
   "cell_type": "code",
   "execution_count": 5,
   "metadata": {},
   "outputs": [
    {
     "data": {
      "text/plain": [
       "array([0, 0, 0, 0, 0, 0, 0, 0, 0, 0, 0, 0, 0, 0, 0, 1, 1, 1, 1, 1, 1, 1,\n",
       "       1, 1, 1, 1, 1, 1, 1, 1], dtype=int8)"
      ]
     },
     "execution_count": 5,
     "metadata": {},
     "output_type": "execute_result"
    }
   ],
   "source": [
    "example1 = np.ones(30,dtype=\"int8\")\n",
    "example1[0:15] = 0\n",
    "example1\n",
    "\n",
    "example2 = np.zeros(45,dtype=\"int8\")\n",
    "example2[0:15] = 6\n",
    "example2[30:45] = 13\n",
    "example1"
   ]
  },
  {
   "cell_type": "code",
   "execution_count": 6,
   "metadata": {},
   "outputs": [
    {
     "data": {
      "text/plain": [
       "0.5"
      ]
     },
     "execution_count": 6,
     "metadata": {},
     "output_type": "execute_result"
    }
   ],
   "source": [
    "### 入力が2種類のラベル限定　###\n",
    "\n",
    "def gini_function(node_t):\n",
    "    class1 = np.count_nonzero(node_t ==0 )\n",
    "    class2 = np.count_nonzero(node_t ==1 )\n",
    "    gini = 1 - (class1/len(node_t))**2 - (class2/len(node_t))**2\n",
    "    return gini    \n",
    "gini_function(example1)"
   ]
  },
  {
   "cell_type": "code",
   "execution_count": 16,
   "metadata": {},
   "outputs": [
    {
     "data": {
      "text/plain": [
       "(0.6666666666666667, 45)"
      ]
     },
     "execution_count": 16,
     "metadata": {},
     "output_type": "execute_result"
    }
   ],
   "source": [
    "### 入力が２以上のラベル　###\n",
    "\n",
    "def gini_function(node_t):\n",
    "    #　nodeのユニーク要素を導出\n",
    "    unique_class = np.unique(node_t)\n",
    "    # nodeのサンプル数\n",
    "    sample_num = len(node_t)\n",
    "\n",
    "    #　node内の各クラス合計計算用、確率計算用のnp定義\n",
    "    class_uni = np.array(range(len(unique_class)))\n",
    "    class_pro = np.array(range(len(unique_class)),dtype=\"float\")\n",
    "    count= 0\n",
    "    for i in unique_class:\n",
    "        class_uni[count]= np.sum(node_t==i)\n",
    "        class_pro[count]=(class_uni[count]/sample_num)**2\n",
    "        count = count + 1\n",
    "    \n",
    "    gini = 1 - np.sum(class_pro)\n",
    "        \n",
    "    return   gini,sample_num,\n",
    "\n",
    "gini_function(example2)\n"
   ]
  },
  {
   "cell_type": "markdown",
   "metadata": {},
   "source": [
    "## 【問題２】情報利得を求める関数"
   ]
  },
  {
   "cell_type": "markdown",
   "metadata": {},
   "source": [
    "次に、ノード間の 情報利得 を計算する関数を作成してください。問題1で作成したジニ不純度 I(t) を計算する関数を呼び出して使います。情報利得IG\n",
    "は以下の数式で求まります。うまく分けられている時ほど情報利得は大きくなります。  \n",
    "ここで分岐は2つのみであるため、分岐先を「左側のノード・右側のノード」と呼びます。  \n",
    "IG(p)=I(p)−Nleft,allNp,allI(left)−Nright,allNp,allI(right) 　  \n",
    "　  \n",
    "p: 親ノードを示すインデックス  \n",
    "left: 左側のノードを示すインデックス  \n",
    "right: 右側のノードを示すインデックス\n",
    "　  \n",
    "＜メモ＞  \n",
    "（情報利得）　＝　（親ノードのジニ係数）－（左側要素数／全要素数）＊（左側ノードのジニ係数）　  \n",
    "　　　　　　　　　　　　　　　　　　　　－（右側要素数／全要素数）＊（右側ノードのジニ係数）"
   ]
  },
  {
   "cell_type": "code",
   "execution_count": 17,
   "metadata": {},
   "outputs": [],
   "source": [
    "# iris データのラベル0と1('setosa', 'versicolor')、特徴量1（sepal_length）を使用。\n",
    "\n",
    "from sklearn.datasets import load_iris\n",
    "iris_dataset = load_iris()\n",
    "X = pd.DataFrame(iris_dataset[\"data\"], columns = iris_dataset[\"feature_names\"])\n",
    "y = pd.DataFrame(iris_dataset[\"target\"], columns =['target'])\n",
    "df = pd.concat([X,y],axis=1)\n",
    "df = df.iloc[0:100,[0,4]]\n",
    "#node_t = df\n",
    "# df[df.iloc[:,0]>6.8]\n",
    "# df.iloc[:,0]= (df.iloc[:,0] - min(df.iloc[:,0]))/(max(df.iloc[:,0]) - min(df.iloc[:,0]))\n",
    "# #df.iloc[:,0]\n",
    "# len(df[df.iloc[:,0] >0.5].values)\n",
    "#len(df.values)"
   ]
  },
  {
   "cell_type": "code",
   "execution_count": 18,
   "metadata": {},
   "outputs": [],
   "source": [
    "# 入力:2種類ラベルのpdのデータフレーム（問題1では入力がnp → 問題2では入力がpd）\n",
    "# 出力:ジニ係数、入力サンプル数\n",
    "\n",
    "def gini_func(node_t):\n",
    "    node_t0 = node_t.query(\"target==0\")\n",
    "    node_t1 = node_t.query(\"target==1\")\n",
    "    samp_t = len(node_t.values)\n",
    "    samp_t0 = len(node_t0.values)\n",
    "    samp_t1 = len(node_t1.values)\n",
    "    \n",
    "    gini = 1 - (samp_t0/samp_t)**2 - (samp_t1/samp_t)**2\n",
    "\n",
    "    # if samp_t0 >= samp_t1:\n",
    "    #    leaf_info = 0\n",
    "    # else:\n",
    "    #    leaf_info = 1\n",
    "    \n",
    "    return   gini, samp_t\n",
    "    "
   ]
  },
  {
   "cell_type": "code",
   "execution_count": 28,
   "metadata": {},
   "outputs": [],
   "source": [
    "#　0列目の特徴量を、閾値により２つに分割する（0列目は正規化処理、閾値は原則的に0.5）\n",
    "\n",
    "def node_split(node_t, threshold=0.5):\n",
    "    node_t.iloc[:,0] = (node_t.iloc[:,0] - min(node_t.iloc[:,0]))/(max(node_t.iloc[:,0]) - min(node_t.iloc[:,0]))\n",
    "    node_l = node_t[node_t.iloc[:,0] < threshold ]\n",
    "    node_r = node_t[node_t.iloc[:,0] >= threshold ]\n",
    "    return node_l, node_r\n",
    "\n",
    "#　情報利得を出力する関数。\n",
    "\n",
    "def info_gain(node_t, threshold):\n",
    "    node_1,node_2 = node_split(node_t,threshold)\n",
    "    gini_0, samp_0 = gini_func(node_t)\n",
    "    gini_1, samp_1 = gini_func(node_1)\n",
    "    gini_2, samp_2 = gini_func(node_2)\n",
    "    i_gain = gini_0 - samp_1/samp_0 * gini_1 - samp_2/samp_0 *gini_2\n",
    "    return i_gain\n"
   ]
  },
  {
   "cell_type": "code",
   "execution_count": 29,
   "metadata": {},
   "outputs": [
    {
     "data": {
      "text/plain": [
       "0.14319526627218943"
      ]
     },
     "execution_count": 29,
     "metadata": {},
     "output_type": "execute_result"
    }
   ],
   "source": [
    "### 検算用　diverの例に沿ったDataFrameを作成###\n",
    "\n",
    "temp1 = np.zeros(65)\n",
    "temp1 = temp1.reshape(65,1)\n",
    "temp2 = np.zeros(65)\n",
    "temp2 = temp2.reshape(65,1)\n",
    "temp1[0:10]=1\n",
    "temp1[30:60]=1\n",
    "temp2[30:65]=1\n",
    "\n",
    "temp = np.hstack([temp1,temp2])\n",
    "temp_pd = pd.DataFrame(data=temp, columns=[\"***\",\"target\"])\n",
    "info_gain(temp_pd,0.5)"
   ]
  },
  {
   "cell_type": "markdown",
   "metadata": {},
   "source": [
    "## 【問題３】学習"
   ]
  },
  {
   "cell_type": "markdown",
   "metadata": {},
   "source": [
    "空間の分割を行い、決定木のグラフを生成するコードを作成してください。今は深さ1の決定木なので、分割を1回だけ行います。  \n",
    "ここでグラフを生成するとは、1回の分割の際の条件としてどの特徴量がいくつ以上の時とするかを求めるということです。  \n",
    "訓練データに対して全ての組み合わせの分割を行い、その中でノード間の情報利得が最大となる分割をそのノードの分割基準として記録します。  \n",
    "クラスが混ざらない不純度が0のノード、または指定された深さのノードが 葉ノード となります。\n",
    "葉ノードにはクラスを記録しておき、これを推定時に分類するクラスとします。クラスが混ざらない場合はそのままのクラスを記録し、混ざっている場合は多数決により決めます。  \n",
    "《組み合わせの取り方》  \n",
    "全ての組み合わせの取り方は、最も単純には各特徴量の値自体をしきい値にして分割を行う方法があります。  \n",
    "片側の端は今回のスクラッチはこの方法で行なってください。\n",
    "他には中間の値をしきい値にする方法もあり、scikit-learnではこの方法が用いられています。  \n",
    "《補足》\n",
    "問題2の情報利得を計算する関数はこの問題3で利用する上では、親ノードの不純度 I(p)\n",
    "は固定されるため、左右のノードの不純度の合計を計算するだけでも同じ結果が得られることになります。しかし、ここでは親ノードを考慮した情報利得を計算する実装を行なってください。"
   ]
  },
  {
   "cell_type": "code",
   "execution_count": 149,
   "metadata": {},
   "outputs": [
    {
     "name": "stdout",
     "output_type": "stream",
     "text": [
      "0.4615384615384615\n"
     ]
    },
    {
     "data": {
      "text/plain": [
       "Text(0, 0.5, 'info_gain')"
      ]
     },
     "execution_count": 149,
     "metadata": {},
     "output_type": "execute_result"
    },
    {
     "data": {
      "image/png": "[encoded data removed]",
      "text/plain": [
       "<Figure size 432x288 with 1 Axes>"
      ]
     },
     "metadata": {
      "needs_background": "light"
     },
     "output_type": "display_data"
    }
   ],
   "source": [
    "count = 0\n",
    "# 閾値リスト\n",
    "thresh_list = np.zeros(len(df))\n",
    "# 閾値に対応する情報利得リスト\n",
    "ig_list = np.zeros(len(df))\n",
    "\n",
    "for i in df.iloc[:,0].values:\n",
    "    try:\n",
    "        ig_list[count] = info_gain(df,i)\n",
    "        thresh_list[count] = i\n",
    "    except ZeroDivisionError:\n",
    "        i = (df.iloc[count,0] + df.iloc[count+1,0])/2\n",
    "        ig_list[count] = info_gain(df,i)\n",
    "        thresh_list[count] = i\n",
    "    count = count + 1\n",
    "        \n",
    "df[\"info_gain\"]=ig_list\n",
    "df_temp = df.loc[df.info_gain == max(df.info_gain)]\n",
    "\n",
    "#閾値の保持（iloc[0,0]・・・複数の同一閾値が取れる場合があるので一番上だけ取る）\n",
    "split_rule = df_temp.iloc[0,0]\n",
    "print(split_rule)\n",
    "#グラフ作成\n",
    "plt.scatter(thresh_list,ig_list)\n",
    "plt.xlabel(\"threshold(normalized)\")\n",
    "plt.ylabel(\"info_gain\")\n"
   ]
  },
  {
   "cell_type": "markdown",
   "metadata": {},
   "source": [
    "## 【問題4】 推定"
   ]
  },
  {
   "cell_type": "markdown",
   "metadata": {},
   "source": [
    "まずはpredict関数を作成。\n",
    "predictには、dfの適当なトレインデータと問題3の学習で求められたsplit_rule(閾値)を代入している。"
   ]
  },
  {
   "cell_type": "code",
   "execution_count": 171,
   "metadata": {},
   "outputs": [
    {
     "data": {
      "text/plain": [
       "22"
      ]
     },
     "execution_count": 171,
     "metadata": {},
     "output_type": "execute_result"
    }
   ],
   "source": [
    "def predict(node_t,threshold):\n",
    "    node_t.iloc[:,0] = (node_t.iloc[:,0] - min(node_t.iloc[:,0]))/(max(node_t.iloc[:,0]) - min(node_t.iloc[:,0]))\n",
    "    node_l = node_t[node_t.iloc[:,0] < threshold ]\n",
    "    node_r = node_t[node_t.iloc[:,0] >= threshold ]\n",
    "    return node_l, node_r\n",
    "\n",
    "node_l,node_r =predict(df.iloc[25:75,:], split_rule)\n",
    "len(node_r) "
   ]
  },
  {
   "cell_type": "markdown",
   "metadata": {},
   "source": [
    "次に、ScratchDecesionTreeClassifierDepth1用の、ツリー構造作成用コードの作成する。  \n",
    "ツリー構造は、pandasにて定義しており（columns=[\"node\",\"parent\",\"info\",\"depth\",\"child\"]）、リーフノードが増えるごとにツリー構造の深さ（depth_max）にしたがってカラムが増大するようにした。"
   ]
  },
  {
   "cell_type": "code",
   "execution_count": 174,
   "metadata": {},
   "outputs": [
    {
     "data": {
      "text/html": [
       "<div>\n",
       "<style scoped>\n",
       "    .dataframe tbody tr th:only-of-type {\n",
       "        vertical-align: middle;\n",
       "    }\n",
       "\n",
       "    .dataframe tbody tr th {\n",
       "        vertical-align: top;\n",
       "    }\n",
       "\n",
       "    .dataframe thead th {\n",
       "        text-align: right;\n",
       "    }\n",
       "</style>\n",
       "<table border=\"1\" class=\"dataframe\">\n",
       "  <thead>\n",
       "    <tr style=\"text-align: right;\">\n",
       "      <th></th>\n",
       "      <th>node</th>\n",
       "      <th>parent</th>\n",
       "      <th>info</th>\n",
       "      <th>depth</th>\n",
       "      <th>child</th>\n",
       "    </tr>\n",
       "  </thead>\n",
       "  <tbody>\n",
       "    <tr>\n",
       "      <td>0</td>\n",
       "      <td>0</td>\n",
       "      <td>0</td>\n",
       "      <td>-1</td>\n",
       "      <td>0</td>\n",
       "      <td>[1, 2]</td>\n",
       "    </tr>\n",
       "    <tr>\n",
       "      <td>1</td>\n",
       "      <td>1</td>\n",
       "      <td>0</td>\n",
       "      <td>-1</td>\n",
       "      <td>1</td>\n",
       "      <td>[3, 4]</td>\n",
       "    </tr>\n",
       "    <tr>\n",
       "      <td>2</td>\n",
       "      <td>2</td>\n",
       "      <td>0</td>\n",
       "      <td>-1</td>\n",
       "      <td>1</td>\n",
       "      <td>[5, 6]</td>\n",
       "    </tr>\n",
       "    <tr>\n",
       "      <td>3</td>\n",
       "      <td>3</td>\n",
       "      <td>1</td>\n",
       "      <td>-1</td>\n",
       "      <td>2</td>\n",
       "      <td>[7, 8]</td>\n",
       "    </tr>\n",
       "    <tr>\n",
       "      <td>4</td>\n",
       "      <td>4</td>\n",
       "      <td>1</td>\n",
       "      <td>-1</td>\n",
       "      <td>2</td>\n",
       "      <td>[9, 10]</td>\n",
       "    </tr>\n",
       "    <tr>\n",
       "      <td>5</td>\n",
       "      <td>5</td>\n",
       "      <td>2</td>\n",
       "      <td>-1</td>\n",
       "      <td>2</td>\n",
       "      <td>[11, 12]</td>\n",
       "    </tr>\n",
       "    <tr>\n",
       "      <td>6</td>\n",
       "      <td>6</td>\n",
       "      <td>2</td>\n",
       "      <td>-1</td>\n",
       "      <td>2</td>\n",
       "      <td>[13, 14]</td>\n",
       "    </tr>\n",
       "    <tr>\n",
       "      <td>7</td>\n",
       "      <td>7</td>\n",
       "      <td>3</td>\n",
       "      <td>-1</td>\n",
       "      <td>3</td>\n",
       "      <td>0</td>\n",
       "    </tr>\n",
       "    <tr>\n",
       "      <td>8</td>\n",
       "      <td>8</td>\n",
       "      <td>3</td>\n",
       "      <td>-1</td>\n",
       "      <td>3</td>\n",
       "      <td>0</td>\n",
       "    </tr>\n",
       "    <tr>\n",
       "      <td>9</td>\n",
       "      <td>9</td>\n",
       "      <td>4</td>\n",
       "      <td>-1</td>\n",
       "      <td>3</td>\n",
       "      <td>0</td>\n",
       "    </tr>\n",
       "    <tr>\n",
       "      <td>10</td>\n",
       "      <td>10</td>\n",
       "      <td>4</td>\n",
       "      <td>-1</td>\n",
       "      <td>3</td>\n",
       "      <td>0</td>\n",
       "    </tr>\n",
       "    <tr>\n",
       "      <td>11</td>\n",
       "      <td>11</td>\n",
       "      <td>5</td>\n",
       "      <td>-1</td>\n",
       "      <td>3</td>\n",
       "      <td>0</td>\n",
       "    </tr>\n",
       "    <tr>\n",
       "      <td>12</td>\n",
       "      <td>12</td>\n",
       "      <td>5</td>\n",
       "      <td>-1</td>\n",
       "      <td>3</td>\n",
       "      <td>0</td>\n",
       "    </tr>\n",
       "    <tr>\n",
       "      <td>13</td>\n",
       "      <td>13</td>\n",
       "      <td>6</td>\n",
       "      <td>-1</td>\n",
       "      <td>3</td>\n",
       "      <td>0</td>\n",
       "    </tr>\n",
       "    <tr>\n",
       "      <td>14</td>\n",
       "      <td>14</td>\n",
       "      <td>6</td>\n",
       "      <td>-1</td>\n",
       "      <td>3</td>\n",
       "      <td>0</td>\n",
       "    </tr>\n",
       "  </tbody>\n",
       "</table>\n",
       "</div>"
      ],
      "text/plain": [
       "    node  parent  info  depth     child\n",
       "0      0       0    -1      0    [1, 2]\n",
       "1      1       0    -1      1    [3, 4]\n",
       "2      2       0    -1      1    [5, 6]\n",
       "3      3       1    -1      2    [7, 8]\n",
       "4      4       1    -1      2   [9, 10]\n",
       "5      5       2    -1      2  [11, 12]\n",
       "6      6       2    -1      2  [13, 14]\n",
       "7      7       3    -1      3         0\n",
       "8      8       3    -1      3         0\n",
       "9      9       4    -1      3         0\n",
       "10    10       4    -1      3         0\n",
       "11    11       5    -1      3         0\n",
       "12    12       5    -1      3         0\n",
       "13    13       6    -1      3         0\n",
       "14    14       6    -1      3         0"
      ]
     },
     "execution_count": 174,
     "metadata": {},
     "output_type": "execute_result"
    }
   ],
   "source": [
    "## ツリー構造を作成 ##\n",
    "tree_df = pd.DataFrame(columns=[\"node\",\"parent\",\"info\",\"depth\",\"child\"], dtype=int)\n",
    "# 根ノードの設定\n",
    "tree_df.loc[0,:] =[0,0,-1,0,0] \n",
    "# 葉ノードの作成。根→葉（depth_max:3）\n",
    "node_count = len(tree_df)\n",
    "depth_max = 3\n",
    "for depth in range(depth_max):\n",
    "    for number in range(2**depth):\n",
    "        parent_number = (node_count-1)/2\n",
    "        for i in range(2):\n",
    "            tree_df.at[node_count+i,\"node\"] = node_count+i\n",
    "            tree_df.at[node_count+i,\"parent\"] = parent_number\n",
    "            tree_df.at[node_count+i,\"info\"] = -1\n",
    "            tree_df.at[node_count+i,\"depth\"] = depth + 1\n",
    "            tree_df.at[node_count+i,\"child\"] = 0\n",
    "        node_count = len(tree_df)\n",
    "#tree_df\n",
    "tree_df = tree_df.astype(\"int8\")\n",
    "tree_df = tree_df.astype({'child': object})\n",
    "\n",
    "# child カラムに記録。葉→根\n",
    "for i in range(1,len(tree_df)):\n",
    "    if tree_df.at[tree_df.at[i,\"parent\"], \"child\"] == 0:\n",
    "        list = []\n",
    "        list = tree_df.at[i,\"node\"]\n",
    "        tree_df.at[tree_df.at[i,\"parent\"] , \"child\"] = list\n",
    "    else:\n",
    "        list = []\n",
    "        list = tree_df.at[tree_df.at[i,\"parent\"],\"child\"]\n",
    "        list = np.append(list, tree_df.at[i,\"node\"])\n",
    "        tree_df.at[tree_df.at[i,\"parent\"] , \"child\"] = list\n",
    "tree_df"
   ]
  },
  {
   "cell_type": "markdown",
   "metadata": {},
   "source": [
    "以上を踏まえて、ScratchDecesionTreeClassifierDepth1を作成した。"
   ]
  },
  {
   "cell_type": "code",
   "execution_count": 187,
   "metadata": {},
   "outputs": [],
   "source": [
    "class ScratchDecesionTreeClassifierDepth1():\n",
    "\n",
    "    def __init__(self, max_depth):\n",
    "        # ハイパーパラメータを属性として記録\n",
    "        self.depth_max = max_depth\n",
    "        \n",
    "        # インスタンス変数\n",
    "        self.split_rule = 0.5\n",
    "        self.tree_df = pd.DataFrame()## ツリー構造を作成 ##\n",
    "        # 分岐をカウントさせる　split_count\n",
    "\n",
    "    def tree_generate(self):\n",
    "        tree_df = pd.DataFrame(columns=[\"node\",\"parent\",\"info\",\"depth\",\"child\"], dtype=int)\n",
    "        tree_df.loc[0,:] =[0,-1,-1,0,0] \n",
    "        node_count = len(tree_df)\n",
    "\n",
    "        for depth in range(self.depth_max):\n",
    "            for number in range(2**depth):\n",
    "                parent_number = (node_count-1)/2\n",
    "                for i in range(2):\n",
    "                    tree_df.at[node_count+i,\"node\"] = node_count+i\n",
    "                    tree_df.at[node_count+i,\"parent\"] = parent_number\n",
    "                    tree_df.at[node_count+i,\"info\"] = -1\n",
    "                    tree_df.at[node_count+i,\"depth\"] = depth + 1\n",
    "                    tree_df.at[node_count+i,\"child\"] = 0\n",
    "                node_count = len(tree_df)\n",
    "\n",
    "        tree_df = tree_df.astype(\"int8\")\n",
    "        tree_df = tree_df.astype({'child': object})\n",
    "\n",
    "        for i in range(1,len(tree_df)):\n",
    "            if tree_df.at[tree_df.at[i,\"parent\"], \"child\"] == 0:\n",
    "                list = []\n",
    "                list = tree_df.at[i,\"node\"]\n",
    "                tree_df.at[tree_df.at[i,\"parent\"] , \"child\"] = list\n",
    "            else:\n",
    "                list = []\n",
    "                list = tree_df.at[tree_df.at[i,\"parent\"],\"child\"]\n",
    "                list = np.append(list, tree_df.at[i,\"node\"])\n",
    "                tree_df.at[tree_df.at[i,\"parent\"] , \"child\"] = list\n",
    "        return tree_df\n",
    "    \n",
    "    def split_decision(self,X):\n",
    "    # 入力Ⅹの左端列に適応する閾値を判断する。左端列は正規化。\n",
    "        thresh_list = np.zeros(len(X))\n",
    "        ig_list = np.zeros(len(X))\n",
    "        X.iloc[:,0] = (X.iloc[:,0] - min(X.iloc[:,0]))/(max(X.iloc[:,0]) - min(X.iloc[:,0]))\n",
    "        count = 0\n",
    "        for val in X.iloc[:,0].values :\n",
    "            try:\n",
    "                ig_list[count] = self.info_gain(X,val)\n",
    "                thresh_list[count] = val\n",
    "            except ZeroDivisionError:\n",
    "                val = (X.iloc[count,0] + X.iloc[count+1,0])/2\n",
    "                ig_list[count] = self.info_gain(X,val)\n",
    "                thresh_list[count] = val\n",
    "            count = count + 1\n",
    "        \n",
    "        X[\"info_gain\"] = ig_list\n",
    "        X_temp = X.loc[X.info_gain == max(X.info_gain)]\n",
    "        split_rule = X_temp.iloc[0,0]\n",
    "        return split_rule\n",
    "    \n",
    "        \n",
    "    def gini_func(self,X):\n",
    "        X_t0 = X.query(\"target==0\")\n",
    "        X_t1 = X.query(\"target==1\")\n",
    "        samp_t = len(X)\n",
    "        samp_t0 = len(X_t0)\n",
    "        samp_t1 = len(X_t1)\n",
    "        \n",
    "        gini = 1 - (samp_t0/samp_t)**2 - (samp_t1/samp_t)**2\n",
    "        return   gini, samp_t\n",
    "\n",
    "    def leaf_info(self, X):\n",
    "        X_t0 = X.query(\"target==0\")\n",
    "        X_t1 = X.query(\"target==1\")\n",
    "        samp_t0 = len(X_t0)\n",
    "        samp_t1 = len(X_t1)\n",
    "        if samp_t1 > samp_t0:\n",
    "            leaf = 1\n",
    "        else:\n",
    "            leaf = 0\n",
    "        return leaf\n",
    "        \n",
    "    \n",
    "    def node_split(self, X, threshold=0.5, parent_node = None):\n",
    "        node_l = X[X.iloc[:,0] < threshold ]\n",
    "        node_r = X[X.iloc[:,0] >= threshold ]\n",
    "   \n",
    "        return node_l, node_r\n",
    "\n",
    "    def info_gain(self, X, threshold):\n",
    "        node_1,node_2 = self.node_split(X,threshold)\n",
    "        gini_0, samp_0 = self.gini_func(X)\n",
    "        gini_1, samp_1 = self.gini_func(node_1)\n",
    "        gini_2, samp_2 = self.gini_func(node_2)\n",
    "        i_gain = gini_0 - samp_1/samp_0 * gini_1 - samp_2/samp_0 *gini_2\n",
    "        return i_gain\n",
    "    \n",
    "    def fit(self, X):\n",
    "        self.tree_df = self.tree_generate()\n",
    "\n",
    "        p_node = 0\n",
    "        self.split_rule = self.split_decision(X)\n",
    "        node_l,node_r = self.node_split(X,split_rule,0)\n",
    "        leaf_1 = self.leaf_info(node_l)\n",
    "        leaf_2 = self.leaf_info(node_r)\n",
    "        \n",
    "        child_list = []\n",
    "        child_list = self.tree_df.at[p_node,\"child\"]\n",
    "        self.tree_df.at[child_list[0],\"info\"]  = leaf_1\n",
    "        self.tree_df.at[child_list[1],\"info\"]  = leaf_2\n",
    "        \n",
    "        print(\"閾値:{}\".format(self.split_rule))\n",
    "        print(self.tree_df)\n",
    "\n",
    "    def predict(self, X_test):\n",
    "\n",
    "        X_test.iloc[:,0] = (X_test.iloc[:,0] - min(X_test.iloc[:,0]))/(max(X_test.iloc[:,0]) - min(X_test.iloc[:,0]))\n",
    "        pred_node_l, pred_node_r = self.node_split(X_test,self.split_rule,0)\n",
    "        \n",
    "        # 親ノードから子ノードのindexを取得。\n",
    "        p_node = 0\n",
    "        child_list = []\n",
    "        child_list = self.tree_df.at[p_node,\"child\"]\n",
    "\n",
    "        #node_l に対する処理\n",
    "        left_pred = self.tree_df.at[child_list[0],\"info\"]\n",
    "        pred_node_l.loc[:,\"predict\"] = left_pred\n",
    "        #node_r に対する処理\n",
    "        right_pred = self.tree_df.at[child_list[1],\"info\"]\n",
    "        pred_node_r.loc[:,\"predict\"] = right_pred\n",
    "                \n",
    "        return pred_node_l,pred_node_r"
   ]
  },
  {
   "cell_type": "markdown",
   "metadata": {},
   "source": [
    "## 【問題５】　学習と推定"
   ]
  },
  {
   "cell_type": "code",
   "execution_count": 285,
   "metadata": {},
   "outputs": [
    {
     "name": "stdout",
     "output_type": "stream",
     "text": [
      "閾値:0.4615384615384615\n",
      "   node  parent  info  depth   child\n",
      "0     0      -1    -1      0  [1, 2]\n",
      "1     1       0     0      1       0\n",
      "2     2       0     1      1       0\n",
      "\n",
      "\n",
      "    sepal length (cm)  target  predict\n",
      "29           0.041667       0        0\n",
      "28           0.250000       0        0\n",
      "11           0.083333       0        0\n",
      "18           0.458333       0        0\n",
      "20           0.333333       0        0\n",
      "25           0.166667       0        0\n",
      "6            0.000000       0        0\n",
      "1            0.125000       0        0\n",
      "16           0.333333       0        0\n",
      "64           0.416667       1        0\n",
      "79           0.458333       1        0\n",
      "5            0.333333       0        0\n",
      "9            0.125000       0        0\n",
      "12           0.083333       0        0\n",
      "37           0.125000       0        0\n",
      "\n",
      "\n",
      "    sepal length (cm)  target  predict\n",
      "50           1.000000       1        1\n",
      "71           0.625000       1        1\n",
      "76           0.916667       1        1\n",
      "75           0.833333       1        1\n",
      "72           0.708333       1        1\n"
     ]
    }
   ],
   "source": [
    "clf = ScratchDecesionTreeClassifierDepth1(1)\n",
    "clf.fit(df)\n",
    "print(\"\\n\")\n",
    "pred_l,pred_r = clf.predict(df_test)\n",
    "print(pred_l)\n",
    "print(\"\\n\")\n",
    "print(pred_r)"
   ]
  },
  {
   "cell_type": "markdown",
   "metadata": {},
   "source": [
    "根ノードにおける閾値、ツリー構造のデータフレーム、ノード１とノード２に分類されたサンプルが表示された。   \n",
    "分類がうまく行かなかったサンプルが若干ある。"
   ]
  },
  {
   "cell_type": "markdown",
   "metadata": {},
   "source": [
    "## sklearnによる決定木。"
   ]
  },
  {
   "cell_type": "code",
   "execution_count": 203,
   "metadata": {},
   "outputs": [],
   "source": [
    "from sklearn.metrics import accuracy_score\n",
    "from sklearn.metrics import precision_score\n",
    "from sklearn.metrics import recall_score\n",
    "from sklearn.metrics import f1_score\n",
    "from sklearn.metrics import confusion_matrix\n",
    "\n",
    "from sklearn.tree import DecisionTreeClassifier\n",
    "from sklearn.preprocessing import StandardScaler"
   ]
  },
  {
   "cell_type": "code",
   "execution_count": null,
   "metadata": {},
   "outputs": [],
   "source": [
    "scaler = StandardScaler()\n",
    "scaler.fit(X_train,y_train)\n",
    "norml_X_train = scaler.transform(X_train)\n",
    "norml_X_test = scaler.transform(X_test)"
   ]
  },
  {
   "cell_type": "code",
   "execution_count": 286,
   "metadata": {},
   "outputs": [],
   "source": [
    "X = pd.DataFrame(iris_dataset[\"data\"], columns = iris_dataset[\"feature_names\"])\n",
    "y = pd.DataFrame(iris_dataset[\"target\"], columns =['target'])\n",
    "df = pd.concat([X,y],axis=1)\n",
    "\n",
    "df = df.iloc[0:100,:]\n",
    "df = df.sample(frac=1, random_state=1)\n",
    "\n",
    "df_test = df.iloc[80:100,:]\n",
    "df = df.iloc[0:80,:]\n",
    "\n",
    "X_train = df.iloc[:,0].values.reshape(-1,1)\n",
    "y_train = df.iloc[:,4].values.reshape(-1,1)\n",
    "X_test = df_test.iloc[:,0].values.reshape(-1,1)\n",
    "y_test = df_test.iloc[:,4].values.reshape(-1,1)"
   ]
  },
  {
   "cell_type": "code",
   "execution_count": 287,
   "metadata": {},
   "outputs": [],
   "source": [
    "scaler = StandardScaler()\n",
    "scaler.fit(X_train)\n",
    "X_train = scaler.transform(X_train)\n",
    "X_test = scaler.transform(X_test)"
   ]
  },
  {
   "cell_type": "code",
   "execution_count": 288,
   "metadata": {},
   "outputs": [
    {
     "name": "stdout",
     "output_type": "stream",
     "text": [
      "推定結果ＤＴＣ：[0 0 0 1 0 1 0 0 1 1 0 0 1 1 0 1 0 1 0 0]\n",
      "正解率：0.95\n",
      "適合率：[1.    0.875]\n",
      "再現率：[0.92307692 1.        ]\n",
      "Ｆ値：[0.96       0.93333333]\n",
      "混合行列：\n",
      "[[12  1]\n",
      " [ 0  7]]\n"
     ]
    }
   ],
   "source": [
    "clf_DT = DecisionTreeClassifier()\n",
    "DTC_iris = clf_DT.fit(X_train, y_train)\n",
    "\n",
    "print(\"推定結果ＤＴＣ：{}\".format(DTC_iris.predict(X_test)))\n",
    "estimate_DTC = DTC_iris.predict(X_test)\n",
    "\n",
    "ac_score3 = accuracy_score(y_test, estimate_DTC)\n",
    "print(\"正解率：{}\".format(ac_score3))\n",
    "pre_score3 = precision_score(y_test, estimate_DTC, average=None)\n",
    "print(\"適合率：{}\".format(pre_score3))\n",
    "rcl_score3 = recall_score(y_test, estimate_DTC, average=None)\n",
    "print(\"再現率：{}\".format(rcl_score3))\n",
    "fone_score3 = f1_score(y_test, estimate_DTC, average=None)\n",
    "print(\"Ｆ値：{}\".format(fone_score3))\n",
    "print(\"混合行列：\\n{}\".format(confusion_matrix(y_test, estimate_DTC)))"
   ]
  },
  {
   "cell_type": "markdown",
   "metadata": {},
   "source": [
    "推定結果は、スクラッチの場合と概ね一致した。"
   ]
  },
  {
   "cell_type": "markdown",
   "metadata": {},
   "source": [
    "## 【問題6】決定領域の可視化"
   ]
  },
  {
   "cell_type": "markdown",
   "metadata": {},
   "source": [
    "### 可視化の便宜上、sklearnによる推定に２つの特徴量を用いて2軸のマップを準備する。"
   ]
  },
  {
   "cell_type": "code",
   "execution_count": 291,
   "metadata": {},
   "outputs": [],
   "source": [
    "X_train = df.iloc[:,0:2].values.reshape(-1,2)\n",
    "y_train = df.iloc[:,4].values.reshape(-1,1)\n",
    "X_test = df_test.iloc[:,0:2].values.reshape(-1,2)\n",
    "y_test = df_test.iloc[:,4].values.reshape(-1,1)\n",
    "scaler = StandardScaler()\n",
    "scaler.fit(X_train)\n",
    "X_train = scaler.transform(X_train)\n",
    "X_test = scaler.transform(X_test)"
   ]
  },
  {
   "cell_type": "code",
   "execution_count": 292,
   "metadata": {},
   "outputs": [
    {
     "name": "stdout",
     "output_type": "stream",
     "text": [
      "推定結果ＤＴＣ：[0 0 0 0 0 1 0 0 1 1 0 0 1 1 0 1 0 1 0 0]\n",
      "正解率：1.0\n"
     ]
    }
   ],
   "source": [
    "clf_DT = DecisionTreeClassifier()\n",
    "DTC_iris = clf_DT.fit(X_train, y_train)\n",
    "\n",
    "print(\"推定結果ＤＴＣ：{}\".format(DTC_iris.predict(X_test)))\n",
    "estimate_DTC = DTC_iris.predict(X_test)\n",
    "\n",
    "ac_score3 = accuracy_score(y_test, estimate_DTC)\n",
    "print(\"正解率：{}\".format(ac_score3))"
   ]
  },
  {
   "cell_type": "code",
   "execution_count": 325,
   "metadata": {},
   "outputs": [],
   "source": [
    "import matplotlib.pyplot as plt\n",
    "from matplotlib.colors import ListedColormap\n",
    "import matplotlib.patches as mpatches\n",
    "\n",
    "def decision_region(X, y, model, step=0.01, title='decision region', xlabel='xlabel', ylabel='ylabel',\n",
    "                    target_names=['versicolor', 'virginica']):\n",
    "    # setting\n",
    "    scatter_color = ['red', 'blue']\n",
    "    contourf_color = ['pink', 'skyblue']\n",
    "    n_class = 2\n",
    "\n",
    "    # pred\n",
    "    mesh_f0, mesh_f1  = np.meshgrid(np.arange(np.min(X[:,0])-0.5, np.max(X[:,0])+0.5, step), np.arange(np.min(X[:,1])-0.5, np.max(X[:,1])+0.5, step))\n",
    "    mesh = np.c_[np.ravel(mesh_f0),np.ravel(mesh_f1)]\n",
    "    y_pred = model.predict(mesh).reshape(mesh_f0.shape)\n",
    "\n",
    "    # plot\n",
    "    plt.title(title)\n",
    "    plt.xlabel(xlabel)\n",
    "    plt.ylabel(ylabel)\n",
    "    \n",
    "    ###　スクラッチの決定木による閾値の加筆　###\n",
    "    plt.plot([0.4615,0.4615],[-1.5,2.0], \"red\", linestyle='dashed')\n",
    "    \n",
    "    plt.contourf(mesh_f0, mesh_f1, y_pred, n_class-1, cmap=ListedColormap(contourf_color))\n",
    "    plt.contour(mesh_f0, mesh_f1, y_pred, n_class-1, colors='y', linewidths=3, alpha=0.5)\n",
    "    for i, target in enumerate(set(y)):\n",
    "        print(i)\n",
    "        plt.scatter(X[y==target][:, 0], X[y==target][:, 1], s=80, color=scatter_color[i], marker='o')\n",
    "    patches = [mpatches.Patch(color=scatter_color[i], label=target_names[i]) for i in range(n_class)]\n",
    "    plt.legend(handles=patches)\n",
    "    plt.legend()\n",
    "    plt.show()"
   ]
  },
  {
   "cell_type": "code",
   "execution_count": 326,
   "metadata": {},
   "outputs": [
    {
     "name": "stderr",
     "output_type": "stream",
     "text": [
      "No handles with labels found to put in legend.\n"
     ]
    },
    {
     "name": "stdout",
     "output_type": "stream",
     "text": [
      "0\n",
      "1\n"
     ]
    },
    {
     "data": {
      "image/png": "[encoded data removed]",
      "text/plain": [
       "<Figure size 432x288 with 1 Axes>"
      ]
     },
     "metadata": {
      "needs_background": "light"
     },
     "output_type": "display_data"
    }
   ],
   "source": [
    "decision_region(X_test, estimate_DTC, DTC_iris)"
   ]
  },
  {
   "cell_type": "code",
   "execution_count": 295,
   "metadata": {},
   "outputs": [
    {
     "data": {
      "text/plain": [
       "0.4615384615384615"
      ]
     },
     "execution_count": 295,
     "metadata": {},
     "output_type": "execute_result"
    }
   ],
   "source": [
    "clf.split_rule"
   ]
  },
  {
   "cell_type": "markdown",
   "metadata": {},
   "source": [
    "視覚化されたマップ上に、スクラッチによる決定領域（sulit_ruleによる閾値）を記載した。"
   ]
  },
  {
   "cell_type": "code",
   "execution_count": null,
   "metadata": {},
   "outputs": [],
   "source": []
  },
  {
   "cell_type": "code",
   "execution_count": null,
   "metadata": {},
   "outputs": [],
   "source": []
  },
  {
   "cell_type": "code",
   "execution_count": null,
   "metadata": {},
   "outputs": [],
   "source": []
  },
  {
   "cell_type": "code",
   "execution_count": null,
   "metadata": {},
   "outputs": [],
   "source": []
  },
  {
   "cell_type": "code",
   "execution_count": null,
   "metadata": {},
   "outputs": [],
   "source": []
  },
  {
   "cell_type": "code",
   "execution_count": null,
   "metadata": {},
   "outputs": [],
   "source": []
  },
  {
   "cell_type": "code",
   "execution_count": null,
   "metadata": {},
   "outputs": [],
   "source": []
  },
  {
   "cell_type": "code",
   "execution_count": null,
   "metadata": {},
   "outputs": [],
   "source": []
  },
  {
   "cell_type": "markdown",
   "metadata": {},
   "source": [
    "＜試作したコードを、勉強用に残しておく＞"
   ]
  },
  {
   "cell_type": "code",
   "execution_count": 13,
   "metadata": {},
   "outputs": [],
   "source": [
    "def tree_generate(root,depth):\n",
    "    # root:pd、depth:int\n",
    "    \n",
    "    count = 0\n",
    "    tree_list = []\n",
    "#     while(true)\n",
    "#         tree_list[count] = node(count,)\n",
    "  \n",
    "def node_generate(number):\n",
    "    temp_list = node(number)\n",
    "    if node(number).depth < max_depth and node(number)._info == -1 :\n",
    "        tree_list.append(node(new1))\n",
    "        tree_list.append(node(new2))\n",
    "    else:\n",
    "        pass\n",
    "    \n",
    "def node(number,parent,depth,info):\n",
    "    node_number = number\n",
    "    parent_node =1\n",
    "    depth = 13\n",
    "    _info = -1\n",
    "    return [node_number,parent_node,depth,_info]\n",
    "#     return depth_info,parent_node,node_number"
   ]
  },
  {
   "cell_type": "code",
   "execution_count": 41,
   "metadata": {},
   "outputs": [],
   "source": [
    "for i in range(0):\n",
    "    print(\"as\")"
   ]
  },
  {
   "cell_type": "code",
   "execution_count": 8,
   "metadata": {},
   "outputs": [
    {
     "ename": "NameError",
     "evalue": "name 'tree_df' is not defined",
     "output_type": "error",
     "traceback": [
      "\u001b[1;31m---------------------------------------------------------------------------\u001b[0m",
      "\u001b[1;31mNameError\u001b[0m                                 Traceback (most recent call last)",
      "\u001b[1;32m<ipython-input-8-57f723619fb0>\u001b[0m in \u001b[0;36m<module>\u001b[1;34m\u001b[0m\n\u001b[0;32m     13\u001b[0m         \u001b[0mparent_number\u001b[0m \u001b[1;33m=\u001b[0m \u001b[1;33m(\u001b[0m\u001b[0mnode_count\u001b[0m\u001b[1;33m-\u001b[0m\u001b[1;36m1\u001b[0m\u001b[1;33m)\u001b[0m\u001b[1;33m/\u001b[0m\u001b[1;36m2\u001b[0m\u001b[1;33m\u001b[0m\u001b[1;33m\u001b[0m\u001b[0m\n\u001b[0;32m     14\u001b[0m         \u001b[1;32mfor\u001b[0m \u001b[0mi\u001b[0m \u001b[1;32min\u001b[0m \u001b[0mrange\u001b[0m\u001b[1;33m(\u001b[0m\u001b[1;36m2\u001b[0m\u001b[1;33m)\u001b[0m\u001b[1;33m:\u001b[0m\u001b[1;33m\u001b[0m\u001b[1;33m\u001b[0m\u001b[0m\n\u001b[1;32m---> 15\u001b[1;33m             \u001b[0mtree_df\u001b[0m\u001b[1;33m.\u001b[0m\u001b[0mat\u001b[0m\u001b[1;33m[\u001b[0m\u001b[0mnode_count\u001b[0m\u001b[1;33m+\u001b[0m\u001b[0mi\u001b[0m\u001b[1;33m,\u001b[0m\u001b[1;34m\"node\"\u001b[0m\u001b[1;33m]\u001b[0m \u001b[1;33m=\u001b[0m \u001b[0mnode_count\u001b[0m\u001b[1;33m+\u001b[0m\u001b[0mi\u001b[0m\u001b[1;33m\u001b[0m\u001b[1;33m\u001b[0m\u001b[0m\n\u001b[0m\u001b[0;32m     16\u001b[0m             \u001b[0mtree_df\u001b[0m\u001b[1;33m.\u001b[0m\u001b[0mat\u001b[0m\u001b[1;33m[\u001b[0m\u001b[0mnode_count\u001b[0m\u001b[1;33m+\u001b[0m\u001b[0mi\u001b[0m\u001b[1;33m,\u001b[0m\u001b[1;34m\"parent\"\u001b[0m\u001b[1;33m]\u001b[0m \u001b[1;33m=\u001b[0m \u001b[0mparent_number\u001b[0m\u001b[1;33m\u001b[0m\u001b[1;33m\u001b[0m\u001b[0m\n\u001b[0;32m     17\u001b[0m             \u001b[0mtree_df\u001b[0m\u001b[1;33m.\u001b[0m\u001b[0mat\u001b[0m\u001b[1;33m[\u001b[0m\u001b[0mnode_count\u001b[0m\u001b[1;33m+\u001b[0m\u001b[0mi\u001b[0m\u001b[1;33m,\u001b[0m\u001b[1;34m\"info\"\u001b[0m\u001b[1;33m]\u001b[0m \u001b[1;33m=\u001b[0m \u001b[1;33m-\u001b[0m\u001b[1;36m1\u001b[0m\u001b[1;33m\u001b[0m\u001b[1;33m\u001b[0m\u001b[0m\n",
      "\u001b[1;31mNameError\u001b[0m: name 'tree_df' is not defined"
     ]
    }
   ],
   "source": [
    "class LeafNode():\n",
    "    def __init__(self,number,parent,depth):\n",
    "        # ハイパーパラメータを属性として記録\n",
    "        # インスタンス変数\n",
    "        self.node_number = number\n",
    "        self.parent_node = parent\n",
    "        self.leaf_info = -1\n",
    "        self.depth = depth + 1\n",
    "depth_max = 2\n",
    "node_count = 1\n",
    "for depth in range(depth_max):\n",
    "    for number in range(2**depth):\n",
    "        parent_number = (node_count-1)/2\n",
    "        for i in range(2):\n",
    "            tree_df.at[node_count+i,\"node\"] = node_count+i\n",
    "            tree_df.at[node_count+i,\"parent\"] = parent_number\n",
    "            tree_df.at[node_count+i,\"info\"] = -1\n",
    "            tree_df.at[node_count+i,\"depth\"] = depth + 1\n",
    "        node_count = len(tree_df)\n",
    "tree_df"
   ]
  },
  {
   "cell_type": "code",
   "execution_count": 144,
   "metadata": {},
   "outputs": [],
   "source": [
    "def node_generate(max_depth):\n",
    "    tree_df = pd.DataFrame(columns=[\"node\",\"parent\",\"info\",\"depth\",\"child\"],dtype=int)\n",
    "    root = pd.Series([0,0,0,0,0], index=tree_df.columns)\n",
    "\n",
    "    tree_df=tree_df.append(root,ignore_index=True)\n",
    "    n_count=0\n",
    "\n",
    "    if max_depth > 0:\n",
    "        for depth in range(max_depth):\n",
    "            for i in range(2**depth):\n",
    "                n_count = n_count+1 \n",
    "                parent = (n_count+2)//2\n",
    "                node_l = pd.Series([n_count,parent,-1,depth+1,0], index=tree_df.columns)\n",
    "                n_count = n_count+1\n",
    "                node_r = pd.Series([n_count,parent,-1,depth+1,0], index=tree_df.columns)\n",
    "                tree_df = tree_df.append(node_l,ignore_index=True)\n",
    "                tree_df = tree_df.append(node_r,ignore_index=True)\n",
    "\n",
    "    return tree_df\n",
    "\n",
    "def leaf_info(self, X):\n",
    "    X_t0 = X.query(\"target==0\")\n",
    "    X_t1 = X.query(\"target==1\")\n",
    "    samp_t0 = len(X_t0)\n",
    "    samp_t1 = len(X_t1)\n",
    "    if samp_t1 > samp_t0:\n",
    "        leaf = 1\n",
    "    else:\n",
    "        leaf = 0\n",
    "    return leaf"
   ]
  },
  {
   "cell_type": "code",
   "execution_count": 327,
   "metadata": {},
   "outputs": [
    {
     "data": {
      "text/html": [
       "<div>\n",
       "<style scoped>\n",
       "    .dataframe tbody tr th:only-of-type {\n",
       "        vertical-align: middle;\n",
       "    }\n",
       "\n",
       "    .dataframe tbody tr th {\n",
       "        vertical-align: top;\n",
       "    }\n",
       "\n",
       "    .dataframe thead th {\n",
       "        text-align: right;\n",
       "    }\n",
       "</style>\n",
       "<table border=\"1\" class=\"dataframe\">\n",
       "  <thead>\n",
       "    <tr style=\"text-align: right;\">\n",
       "      <th></th>\n",
       "      <th>node</th>\n",
       "      <th>parent</th>\n",
       "      <th>info</th>\n",
       "      <th>depth</th>\n",
       "      <th>child</th>\n",
       "    </tr>\n",
       "  </thead>\n",
       "  <tbody>\n",
       "    <tr>\n",
       "      <td>0</td>\n",
       "      <td>0</td>\n",
       "      <td>0</td>\n",
       "      <td>0</td>\n",
       "      <td>0</td>\n",
       "      <td>0</td>\n",
       "    </tr>\n",
       "    <tr>\n",
       "      <td>1</td>\n",
       "      <td>1</td>\n",
       "      <td>1</td>\n",
       "      <td>-1</td>\n",
       "      <td>1</td>\n",
       "      <td>0</td>\n",
       "    </tr>\n",
       "    <tr>\n",
       "      <td>2</td>\n",
       "      <td>2</td>\n",
       "      <td>1</td>\n",
       "      <td>-1</td>\n",
       "      <td>1</td>\n",
       "      <td>0</td>\n",
       "    </tr>\n",
       "    <tr>\n",
       "      <td>3</td>\n",
       "      <td>3</td>\n",
       "      <td>2</td>\n",
       "      <td>-1</td>\n",
       "      <td>2</td>\n",
       "      <td>0</td>\n",
       "    </tr>\n",
       "    <tr>\n",
       "      <td>4</td>\n",
       "      <td>4</td>\n",
       "      <td>2</td>\n",
       "      <td>-1</td>\n",
       "      <td>2</td>\n",
       "      <td>0</td>\n",
       "    </tr>\n",
       "    <tr>\n",
       "      <td>5</td>\n",
       "      <td>5</td>\n",
       "      <td>3</td>\n",
       "      <td>-1</td>\n",
       "      <td>2</td>\n",
       "      <td>0</td>\n",
       "    </tr>\n",
       "    <tr>\n",
       "      <td>6</td>\n",
       "      <td>6</td>\n",
       "      <td>3</td>\n",
       "      <td>-1</td>\n",
       "      <td>2</td>\n",
       "      <td>0</td>\n",
       "    </tr>\n",
       "    <tr>\n",
       "      <td>7</td>\n",
       "      <td>7</td>\n",
       "      <td>4</td>\n",
       "      <td>-1</td>\n",
       "      <td>3</td>\n",
       "      <td>0</td>\n",
       "    </tr>\n",
       "    <tr>\n",
       "      <td>8</td>\n",
       "      <td>8</td>\n",
       "      <td>4</td>\n",
       "      <td>-1</td>\n",
       "      <td>3</td>\n",
       "      <td>0</td>\n",
       "    </tr>\n",
       "    <tr>\n",
       "      <td>9</td>\n",
       "      <td>9</td>\n",
       "      <td>5</td>\n",
       "      <td>-1</td>\n",
       "      <td>3</td>\n",
       "      <td>0</td>\n",
       "    </tr>\n",
       "    <tr>\n",
       "      <td>10</td>\n",
       "      <td>10</td>\n",
       "      <td>5</td>\n",
       "      <td>-1</td>\n",
       "      <td>3</td>\n",
       "      <td>0</td>\n",
       "    </tr>\n",
       "    <tr>\n",
       "      <td>11</td>\n",
       "      <td>11</td>\n",
       "      <td>6</td>\n",
       "      <td>-1</td>\n",
       "      <td>3</td>\n",
       "      <td>0</td>\n",
       "    </tr>\n",
       "    <tr>\n",
       "      <td>12</td>\n",
       "      <td>12</td>\n",
       "      <td>6</td>\n",
       "      <td>-1</td>\n",
       "      <td>3</td>\n",
       "      <td>0</td>\n",
       "    </tr>\n",
       "    <tr>\n",
       "      <td>13</td>\n",
       "      <td>13</td>\n",
       "      <td>7</td>\n",
       "      <td>-1</td>\n",
       "      <td>3</td>\n",
       "      <td>0</td>\n",
       "    </tr>\n",
       "    <tr>\n",
       "      <td>14</td>\n",
       "      <td>14</td>\n",
       "      <td>7</td>\n",
       "      <td>-1</td>\n",
       "      <td>3</td>\n",
       "      <td>0</td>\n",
       "    </tr>\n",
       "  </tbody>\n",
       "</table>\n",
       "</div>"
      ],
      "text/plain": [
       "    node  parent  info  depth  child\n",
       "0      0       0     0      0      0\n",
       "1      1       1    -1      1      0\n",
       "2      2       1    -1      1      0\n",
       "3      3       2    -1      2      0\n",
       "4      4       2    -1      2      0\n",
       "5      5       3    -1      2      0\n",
       "6      6       3    -1      2      0\n",
       "7      7       4    -1      3      0\n",
       "8      8       4    -1      3      0\n",
       "9      9       5    -1      3      0\n",
       "10    10       5    -1      3      0\n",
       "11    11       6    -1      3      0\n",
       "12    12       6    -1      3      0\n",
       "13    13       7    -1      3      0\n",
       "14    14       7    -1      3      0"
      ]
     },
     "execution_count": 327,
     "metadata": {},
     "output_type": "execute_result"
    }
   ],
   "source": [
    "node_generate(3)\n"
   ]
  },
  {
   "cell_type": "code",
   "execution_count": 131,
   "metadata": {},
   "outputs": [
    {
     "data": {
      "text/html": [
       "<div>\n",
       "<style scoped>\n",
       "    .dataframe tbody tr th:only-of-type {\n",
       "        vertical-align: middle;\n",
       "    }\n",
       "\n",
       "    .dataframe tbody tr th {\n",
       "        vertical-align: top;\n",
       "    }\n",
       "\n",
       "    .dataframe thead th {\n",
       "        text-align: right;\n",
       "    }\n",
       "</style>\n",
       "<table border=\"1\" class=\"dataframe\">\n",
       "  <thead>\n",
       "    <tr style=\"text-align: right;\">\n",
       "      <th></th>\n",
       "      <th>node</th>\n",
       "      <th>parent</th>\n",
       "      <th>info</th>\n",
       "      <th>depth</th>\n",
       "      <th>instance</th>\n",
       "    </tr>\n",
       "  </thead>\n",
       "  <tbody>\n",
       "    <tr>\n",
       "      <td>0</td>\n",
       "      <td>0</td>\n",
       "      <td>0</td>\n",
       "      <td>-1</td>\n",
       "      <td>0</td>\n",
       "      <td>&lt;__main__.LeafNode object at 0x00000261D2689508&gt;</td>\n",
       "    </tr>\n",
       "    <tr>\n",
       "      <td>2</td>\n",
       "      <td>2</td>\n",
       "      <td>0</td>\n",
       "      <td>-1</td>\n",
       "      <td>1</td>\n",
       "      <td>&lt;__main__.LeafNode object at 0x00000261D3B3AE08&gt;</td>\n",
       "    </tr>\n",
       "    <tr>\n",
       "      <td>1</td>\n",
       "      <td>1</td>\n",
       "      <td>0</td>\n",
       "      <td>-1</td>\n",
       "      <td>1</td>\n",
       "      <td>NaN</td>\n",
       "    </tr>\n",
       "    <tr>\n",
       "      <td>4</td>\n",
       "      <td>4</td>\n",
       "      <td>1</td>\n",
       "      <td>-1</td>\n",
       "      <td>2</td>\n",
       "      <td>&lt;__main__.LeafNode object at 0x00000261D3B3AE88&gt;</td>\n",
       "    </tr>\n",
       "    <tr>\n",
       "      <td>3</td>\n",
       "      <td>3</td>\n",
       "      <td>1</td>\n",
       "      <td>-1</td>\n",
       "      <td>2</td>\n",
       "      <td>NaN</td>\n",
       "    </tr>\n",
       "    <tr>\n",
       "      <td>6</td>\n",
       "      <td>6</td>\n",
       "      <td>2</td>\n",
       "      <td>-1</td>\n",
       "      <td>2</td>\n",
       "      <td>&lt;__main__.LeafNode object at 0x00000261D3B6DE08&gt;</td>\n",
       "    </tr>\n",
       "    <tr>\n",
       "      <td>5</td>\n",
       "      <td>5</td>\n",
       "      <td>2</td>\n",
       "      <td>-1</td>\n",
       "      <td>2</td>\n",
       "      <td>NaN</td>\n",
       "    </tr>\n",
       "    <tr>\n",
       "      <td>8</td>\n",
       "      <td>8</td>\n",
       "      <td>3</td>\n",
       "      <td>-1</td>\n",
       "      <td>3</td>\n",
       "      <td>&lt;__main__.LeafNode object at 0x00000261D3B0CAC8&gt;</td>\n",
       "    </tr>\n",
       "    <tr>\n",
       "      <td>7</td>\n",
       "      <td>7</td>\n",
       "      <td>3</td>\n",
       "      <td>-1</td>\n",
       "      <td>3</td>\n",
       "      <td>NaN</td>\n",
       "    </tr>\n",
       "    <tr>\n",
       "      <td>10</td>\n",
       "      <td>10</td>\n",
       "      <td>4</td>\n",
       "      <td>-1</td>\n",
       "      <td>3</td>\n",
       "      <td>&lt;__main__.LeafNode object at 0x00000261D3B3ABC8&gt;</td>\n",
       "    </tr>\n",
       "    <tr>\n",
       "      <td>9</td>\n",
       "      <td>9</td>\n",
       "      <td>4</td>\n",
       "      <td>-1</td>\n",
       "      <td>3</td>\n",
       "      <td>NaN</td>\n",
       "    </tr>\n",
       "    <tr>\n",
       "      <td>12</td>\n",
       "      <td>12</td>\n",
       "      <td>5</td>\n",
       "      <td>-1</td>\n",
       "      <td>3</td>\n",
       "      <td>&lt;__main__.LeafNode object at 0x00000261D3B3A5C8&gt;</td>\n",
       "    </tr>\n",
       "    <tr>\n",
       "      <td>11</td>\n",
       "      <td>11</td>\n",
       "      <td>5</td>\n",
       "      <td>-1</td>\n",
       "      <td>3</td>\n",
       "      <td>NaN</td>\n",
       "    </tr>\n",
       "    <tr>\n",
       "      <td>14</td>\n",
       "      <td>14</td>\n",
       "      <td>6</td>\n",
       "      <td>-1</td>\n",
       "      <td>3</td>\n",
       "      <td>&lt;__main__.LeafNode object at 0x00000261D3B6BA48&gt;</td>\n",
       "    </tr>\n",
       "    <tr>\n",
       "      <td>13</td>\n",
       "      <td>13</td>\n",
       "      <td>6</td>\n",
       "      <td>-1</td>\n",
       "      <td>3</td>\n",
       "      <td>NaN</td>\n",
       "    </tr>\n",
       "  </tbody>\n",
       "</table>\n",
       "</div>"
      ],
      "text/plain": [
       "    node  parent  info  depth  \\\n",
       "0      0       0    -1      0   \n",
       "2      2       0    -1      1   \n",
       "1      1       0    -1      1   \n",
       "4      4       1    -1      2   \n",
       "3      3       1    -1      2   \n",
       "6      6       2    -1      2   \n",
       "5      5       2    -1      2   \n",
       "8      8       3    -1      3   \n",
       "7      7       3    -1      3   \n",
       "10    10       4    -1      3   \n",
       "9      9       4    -1      3   \n",
       "12    12       5    -1      3   \n",
       "11    11       5    -1      3   \n",
       "14    14       6    -1      3   \n",
       "13    13       6    -1      3   \n",
       "\n",
       "                                            instance  \n",
       "0   <__main__.LeafNode object at 0x00000261D2689508>  \n",
       "2   <__main__.LeafNode object at 0x00000261D3B3AE08>  \n",
       "1                                                NaN  \n",
       "4   <__main__.LeafNode object at 0x00000261D3B3AE88>  \n",
       "3                                                NaN  \n",
       "6   <__main__.LeafNode object at 0x00000261D3B6DE08>  \n",
       "5                                                NaN  \n",
       "8   <__main__.LeafNode object at 0x00000261D3B0CAC8>  \n",
       "7                                                NaN  \n",
       "10  <__main__.LeafNode object at 0x00000261D3B3ABC8>  \n",
       "9                                                NaN  \n",
       "12  <__main__.LeafNode object at 0x00000261D3B3A5C8>  \n",
       "11                                               NaN  \n",
       "14  <__main__.LeafNode object at 0x00000261D3B6BA48>  \n",
       "13                                               NaN  "
      ]
     },
     "execution_count": 131,
     "metadata": {},
     "output_type": "execute_result"
    }
   ],
   "source": [
    "class LeafNode():\n",
    "    def __init__(self,number,parent,depth):\n",
    "        # ハイパーパラメータを属性として記録\n",
    "        # インスタンス変数\n",
    "        self.node_number = number\n",
    "        self.parent_node = parent\n",
    "        self.leaf_info = -1\n",
    "        self.depth = depth + 1\n",
    "depth_max = 3\n",
    "\n",
    "tree_df1 = pd.DataFrame(columns=[\"node\",\"parent\",\"info\",\"depth\",\"instance\"])\n",
    "\n",
    "LFN1 = LeafNode(1,0,0)\n",
    "#list = list.append(LFN1)\n",
    "#node_count =len(list)\n",
    "\n",
    "tree_df1.at[0,\"node\"]= 0\n",
    "tree_df1.at[0,\"parent\"] = 0\n",
    "tree_df1.at[0,\"info\"] = -1\n",
    "tree_df1.at[0,\"depth\"] = 0\n",
    "tree_df1.at[0,\"instance\"] = 0\n",
    "node_count = len(tree_df1)\n",
    "tree_df1.at[0,\"instance\"] = LFN1\n",
    "\n",
    "depth_max = 3\n",
    "for depth in range(depth_max):\n",
    "    for number in range(2**depth):\n",
    "        parent_number = (node_count-1)/2\n",
    "        for i in range(2):\n",
    "            LFN = LeafNode(node_count+i , parent_number , depth+1)\n",
    "            tree_df1.at[node_count+1,\"instance\"] = LFN\n",
    "            tree_df1.at[node_count+i,\"node\"] = node_count+i\n",
    "            tree_df1.at[node_count+i,\"parent\"] = parent_number\n",
    "            tree_df1.at[node_count+i,\"info\"] = -1\n",
    "            tree_df1.at[node_count+i,\"depth\"] = depth + 1\n",
    "        node_count = len(tree_df1)\n",
    "        \n",
    "tree_df1 = tree_df1.astype({\"node\":int,\"parent\":int,\"info\":int,\"depth\":int,'instance': object})\n",
    "tree_df1"
   ]
  }
 ],
 "metadata": {
  "kernelspec": {
   "display_name": "Python 3",
   "language": "python",
   "name": "python3"
  },
  "language_info": {
   "codemirror_mode": {
    "name": "ipython",
    "version": 3
   },
   "file_extension": ".py",
   "mimetype": "text/x-python",
   "name": "python",
   "nbconvert_exporter": "python",
   "pygments_lexer": "ipython3",
   "version": "3.7.4"
  }
 },
 "nbformat": 4,
 "nbformat_minor": 2
}

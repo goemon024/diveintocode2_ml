{
 "cells": [
  {
   "cell_type": "markdown",
   "metadata": {},
   "source": [
    "## 【問題1】コンペティション内容の把握\n",
    "\n",
    "・何を学習し、何を予測するのか  \n",
    "　application_trainデータを前処理、特徴量生成して学習し、application_testデータにおける48744名の停滞リスクを予測する（taeget0かtarget1かを予測する。）\n",
    " \n",
    "・どのようなファイルを作りKaggleに提出するか 。\n",
    "　作成された学習モデルを用いてapplication_testデータから停滞リスクを予測した結果を提出する（48744行2列の、submission.csvのフォーマット）\n",
    "\n",
    "・提出されたものはどういった指標値で評価されるのか  \n",
    "   ＲＯＣ曲線。"
   ]
  },
  {
   "cell_type": "markdown",
   "metadata": {},
   "source": [
    "## 【問題2】学習と検証\n",
    "　データを簡単に分析、前処理し、学習、検証するまでの一連の流れを作成・実行してください。検証にはこのコンペティションで使用される評価指標を用いるようにしてください。学習に用いる手法は指定しません。"
   ]
  },
  {
   "cell_type": "code",
   "execution_count": 2,
   "metadata": {},
   "outputs": [],
   "source": [
    "import matplotlib.pyplot as plt\n",
    "%matplotlib inline\n",
    "import numpy as np\n",
    "import pandas as pd\n",
    "import seaborn as sns\n",
    "import matplotlib.patches as patches\n",
    "\n",
    "pd.set_option('display.max_columns', 250)\n",
    "np.set_printoptions(threshold=np.inf)\n",
    "\n"
   ]
  },
  {
   "cell_type": "code",
   "execution_count": 3,
   "metadata": {},
   "outputs": [],
   "source": [
    "# 学習用データ。（提出前の検証は、学習用データをsplitして行う。）\n",
    "df = pd.read_csv(\"application_train.csv\")\n",
    "# 提出用のテストデータ\n",
    "#application_test = pd.read_csv(\"application_test.csv\")"
   ]
  },
  {
   "cell_type": "markdown",
   "metadata": {},
   "source": [
    "## ＊データの簡易分析"
   ]
  },
  {
   "cell_type": "code",
   "execution_count": 129,
   "metadata": {},
   "outputs": [
    {
     "name": "stdout",
     "output_type": "stream",
     "text": [
      "<class 'pandas.core.frame.DataFrame'>\n",
      "RangeIndex: 307511 entries, 0 to 307510\n",
      "Columns: 122 entries, SK_ID_CURR to AMT_REQ_CREDIT_BUREAU_YEAR\n",
      "dtypes: float64(65), int64(41), object(16)\n",
      "memory usage: 286.2+ MB\n",
      "None\n"
     ]
    }
   ],
   "source": [
    "print(df.info())"
   ]
  },
  {
   "cell_type": "code",
   "execution_count": 5,
   "metadata": {},
   "outputs": [
    {
     "data": {
      "text/html": [
       "<div>\n",
       "<style scoped>\n",
       "    .dataframe tbody tr th:only-of-type {\n",
       "        vertical-align: middle;\n",
       "    }\n",
       "\n",
       "    .dataframe tbody tr th {\n",
       "        vertical-align: top;\n",
       "    }\n",
       "\n",
       "    .dataframe thead th {\n",
       "        text-align: right;\n",
       "    }\n",
       "</style>\n",
       "<table border=\"1\" class=\"dataframe\">\n",
       "  <thead>\n",
       "    <tr style=\"text-align: right;\">\n",
       "      <th></th>\n",
       "      <th>NAME_CONTRACT_TYPE</th>\n",
       "      <th>CODE_GENDER</th>\n",
       "      <th>FLAG_OWN_CAR</th>\n",
       "      <th>FLAG_OWN_REALTY</th>\n",
       "      <th>NAME_TYPE_SUITE</th>\n",
       "      <th>NAME_INCOME_TYPE</th>\n",
       "      <th>NAME_EDUCATION_TYPE</th>\n",
       "      <th>NAME_FAMILY_STATUS</th>\n",
       "      <th>NAME_HOUSING_TYPE</th>\n",
       "      <th>OCCUPATION_TYPE</th>\n",
       "      <th>WEEKDAY_APPR_PROCESS_START</th>\n",
       "      <th>ORGANIZATION_TYPE</th>\n",
       "      <th>FONDKAPREMONT_MODE</th>\n",
       "      <th>HOUSETYPE_MODE</th>\n",
       "      <th>WALLSMATERIAL_MODE</th>\n",
       "      <th>EMERGENCYSTATE_MODE</th>\n",
       "    </tr>\n",
       "  </thead>\n",
       "  <tbody>\n",
       "    <tr>\n",
       "      <td>0</td>\n",
       "      <td>Cash loans</td>\n",
       "      <td>M</td>\n",
       "      <td>N</td>\n",
       "      <td>Y</td>\n",
       "      <td>Unaccompanied</td>\n",
       "      <td>Working</td>\n",
       "      <td>Secondary / secondary special</td>\n",
       "      <td>Single / not married</td>\n",
       "      <td>House / apartment</td>\n",
       "      <td>Laborers</td>\n",
       "      <td>WEDNESDAY</td>\n",
       "      <td>Business Entity Type 3</td>\n",
       "      <td>reg oper account</td>\n",
       "      <td>block of flats</td>\n",
       "      <td>Stone, brick</td>\n",
       "      <td>No</td>\n",
       "    </tr>\n",
       "    <tr>\n",
       "      <td>1</td>\n",
       "      <td>Cash loans</td>\n",
       "      <td>F</td>\n",
       "      <td>N</td>\n",
       "      <td>N</td>\n",
       "      <td>Family</td>\n",
       "      <td>State servant</td>\n",
       "      <td>Higher education</td>\n",
       "      <td>Married</td>\n",
       "      <td>House / apartment</td>\n",
       "      <td>Core staff</td>\n",
       "      <td>MONDAY</td>\n",
       "      <td>School</td>\n",
       "      <td>reg oper account</td>\n",
       "      <td>block of flats</td>\n",
       "      <td>Block</td>\n",
       "      <td>No</td>\n",
       "    </tr>\n",
       "    <tr>\n",
       "      <td>2</td>\n",
       "      <td>Revolving loans</td>\n",
       "      <td>M</td>\n",
       "      <td>Y</td>\n",
       "      <td>Y</td>\n",
       "      <td>Unaccompanied</td>\n",
       "      <td>Working</td>\n",
       "      <td>Secondary / secondary special</td>\n",
       "      <td>Single / not married</td>\n",
       "      <td>House / apartment</td>\n",
       "      <td>Laborers</td>\n",
       "      <td>MONDAY</td>\n",
       "      <td>Government</td>\n",
       "      <td>NaN</td>\n",
       "      <td>NaN</td>\n",
       "      <td>NaN</td>\n",
       "      <td>NaN</td>\n",
       "    </tr>\n",
       "    <tr>\n",
       "      <td>3</td>\n",
       "      <td>Cash loans</td>\n",
       "      <td>F</td>\n",
       "      <td>N</td>\n",
       "      <td>Y</td>\n",
       "      <td>Unaccompanied</td>\n",
       "      <td>Working</td>\n",
       "      <td>Secondary / secondary special</td>\n",
       "      <td>Civil marriage</td>\n",
       "      <td>House / apartment</td>\n",
       "      <td>Laborers</td>\n",
       "      <td>WEDNESDAY</td>\n",
       "      <td>Business Entity Type 3</td>\n",
       "      <td>NaN</td>\n",
       "      <td>NaN</td>\n",
       "      <td>NaN</td>\n",
       "      <td>NaN</td>\n",
       "    </tr>\n",
       "    <tr>\n",
       "      <td>4</td>\n",
       "      <td>Cash loans</td>\n",
       "      <td>M</td>\n",
       "      <td>N</td>\n",
       "      <td>Y</td>\n",
       "      <td>Unaccompanied</td>\n",
       "      <td>Working</td>\n",
       "      <td>Secondary / secondary special</td>\n",
       "      <td>Single / not married</td>\n",
       "      <td>House / apartment</td>\n",
       "      <td>Core staff</td>\n",
       "      <td>THURSDAY</td>\n",
       "      <td>Religion</td>\n",
       "      <td>NaN</td>\n",
       "      <td>NaN</td>\n",
       "      <td>NaN</td>\n",
       "      <td>NaN</td>\n",
       "    </tr>\n",
       "  </tbody>\n",
       "</table>\n",
       "</div>"
      ],
      "text/plain": [
       "  NAME_CONTRACT_TYPE CODE_GENDER FLAG_OWN_CAR FLAG_OWN_REALTY NAME_TYPE_SUITE  \\\n",
       "0         Cash loans           M            N               Y   Unaccompanied   \n",
       "1         Cash loans           F            N               N          Family   \n",
       "2    Revolving loans           M            Y               Y   Unaccompanied   \n",
       "3         Cash loans           F            N               Y   Unaccompanied   \n",
       "4         Cash loans           M            N               Y   Unaccompanied   \n",
       "\n",
       "  NAME_INCOME_TYPE            NAME_EDUCATION_TYPE    NAME_FAMILY_STATUS  \\\n",
       "0          Working  Secondary / secondary special  Single / not married   \n",
       "1    State servant               Higher education               Married   \n",
       "2          Working  Secondary / secondary special  Single / not married   \n",
       "3          Working  Secondary / secondary special        Civil marriage   \n",
       "4          Working  Secondary / secondary special  Single / not married   \n",
       "\n",
       "   NAME_HOUSING_TYPE OCCUPATION_TYPE WEEKDAY_APPR_PROCESS_START  \\\n",
       "0  House / apartment        Laborers                  WEDNESDAY   \n",
       "1  House / apartment      Core staff                     MONDAY   \n",
       "2  House / apartment        Laborers                     MONDAY   \n",
       "3  House / apartment        Laborers                  WEDNESDAY   \n",
       "4  House / apartment      Core staff                   THURSDAY   \n",
       "\n",
       "        ORGANIZATION_TYPE FONDKAPREMONT_MODE  HOUSETYPE_MODE  \\\n",
       "0  Business Entity Type 3   reg oper account  block of flats   \n",
       "1                  School   reg oper account  block of flats   \n",
       "2              Government                NaN             NaN   \n",
       "3  Business Entity Type 3                NaN             NaN   \n",
       "4                Religion                NaN             NaN   \n",
       "\n",
       "  WALLSMATERIAL_MODE EMERGENCYSTATE_MODE  \n",
       "0       Stone, brick                  No  \n",
       "1              Block                  No  \n",
       "2                NaN                 NaN  \n",
       "3                NaN                 NaN  \n",
       "4                NaN                 NaN  "
      ]
     },
     "execution_count": 5,
     "metadata": {},
     "output_type": "execute_result"
    }
   ],
   "source": [
    "#オブジェクト列を抜き出し\n",
    "df[df.columns[df.dtypes == \"object\"]].head(5)"
   ]
  },
  {
   "cell_type": "code",
   "execution_count": 127,
   "metadata": {},
   "outputs": [
    {
     "name": "stdout",
     "output_type": "stream",
     "text": [
      "NAME_CONTRACT_TYPE:['Cash loans' 'Revolving loans']\n",
      "ユニーク数:2\n",
      "CODE_GENDER:['M' 'F' 'XNA']\n",
      "ユニーク数:3\n",
      "FLAG_OWN_CAR:['N' 'Y']\n",
      "ユニーク数:2\n",
      "FLAG_OWN_REALTY:['Y' 'N']\n",
      "ユニーク数:2\n",
      "NAME_TYPE_SUITE:['Unaccompanied' 'Family' 'Spouse, partner' 'Children' 'Other_A' nan\n",
      " 'Other_B' 'Group of people']\n",
      "ユニーク数:8\n",
      "NAME_INCOME_TYPE:['Working' 'State servant' 'Commercial associate' 'Pensioner' 'Unemployed'\n",
      " 'Student' 'Businessman' 'Maternity leave']\n",
      "ユニーク数:8\n",
      "NAME_EDUCATION_TYPE:['Secondary / secondary special' 'Higher education' 'Incomplete higher'\n",
      " 'Lower secondary' 'Academic degree']\n",
      "ユニーク数:5\n",
      "NAME_FAMILY_STATUS:['Single / not married' 'Married' 'Civil marriage' 'Widow' 'Separated'\n",
      " 'Unknown']\n",
      "ユニーク数:6\n",
      "NAME_HOUSING_TYPE:['House / apartment' 'Rented apartment' 'With parents'\n",
      " 'Municipal apartment' 'Office apartment' 'Co-op apartment']\n",
      "ユニーク数:6\n",
      "OCCUPATION_TYPE:['Laborers' 'Core staff' 'Accountants' 'Managers' nan 'Drivers'\n",
      " 'Sales staff' 'Cleaning staff' 'Cooking staff' 'Private service staff'\n",
      " 'Medicine staff' 'Security staff' 'High skill tech staff'\n",
      " 'Waiters/barmen staff' 'Low-skill Laborers' 'Realty agents' 'Secretaries'\n",
      " 'IT staff' 'HR staff']\n",
      "ユニーク数:19\n",
      "WEEKDAY_APPR_PROCESS_START:['WEDNESDAY' 'MONDAY' 'THURSDAY' 'SUNDAY' 'SATURDAY' 'FRIDAY' 'TUESDAY']\n",
      "ユニーク数:7\n",
      "ORGANIZATION_TYPE:['Business Entity Type 3' 'School' 'Government' 'Religion' 'Other' 'XNA'\n",
      " 'Electricity' 'Medicine' 'Business Entity Type 2' 'Self-employed'\n",
      " 'Transport: type 2' 'Construction' 'Housing' 'Kindergarten'\n",
      " 'Trade: type 7' 'Industry: type 11' 'Military' 'Services'\n",
      " 'Security Ministries' 'Transport: type 4' 'Industry: type 1' 'Emergency'\n",
      " 'Security' 'Trade: type 2' 'University' 'Transport: type 3' 'Police'\n",
      " 'Business Entity Type 1' 'Postal' 'Industry: type 4' 'Agriculture'\n",
      " 'Restaurant' 'Culture' 'Hotel' 'Industry: type 7' 'Trade: type 3'\n",
      " 'Industry: type 3' 'Bank' 'Industry: type 9' 'Insurance' 'Trade: type 6'\n",
      " 'Industry: type 2' 'Transport: type 1' 'Industry: type 12' 'Mobile'\n",
      " 'Trade: type 1' 'Industry: type 5' 'Industry: type 10' 'Legal Services'\n",
      " 'Advertising' 'Trade: type 5' 'Cleaning' 'Industry: type 13'\n",
      " 'Trade: type 4' 'Telecom' 'Industry: type 8' 'Realtor' 'Industry: type 6']\n",
      "ユニーク数:58\n",
      "FONDKAPREMONT_MODE:['reg oper account' nan 'org spec account' 'reg oper spec account'\n",
      " 'not specified']\n",
      "ユニーク数:5\n",
      "HOUSETYPE_MODE:['block of flats' nan 'terraced house' 'specific housing']\n",
      "ユニーク数:4\n",
      "WALLSMATERIAL_MODE:['Stone, brick' 'Block' nan 'Panel' 'Mixed' 'Wooden' 'Others' 'Monolithic']\n",
      "ユニーク数:8\n",
      "EMERGENCYSTATE_MODE:['No' nan 'Yes']\n",
      "ユニーク数:3\n",
      "●オブジェクト総数：16\n",
      "\n",
      "●ユニーク総数：146\n",
      "\n"
     ]
    }
   ],
   "source": [
    "#objectのユニーク、ユニーク数を確認。\n",
    "\n",
    "count = 0\n",
    "for column in df.columns[df.dtypes == \"object\"]:\n",
    "    print(\"{}:{}\".format(column, df[column].unique()))\n",
    "    print(\"ユニーク数:{}\".format(len(df[column].unique())))\n",
    "    count = count + len(df[column].unique())\n",
    "\n",
    "print(\"●オブジェクト総数：{}\\n\".format(len(df.columns[df.dtypes == \"object\"])))\n",
    "\n",
    "print(\"●ユニーク総数：{}\\n\".format(count))"
   ]
  },
  {
   "cell_type": "code",
   "execution_count": 47,
   "metadata": {},
   "outputs": [
    {
     "data": {
      "text/html": [
       "<div>\n",
       "<style scoped>\n",
       "    .dataframe tbody tr th:only-of-type {\n",
       "        vertical-align: middle;\n",
       "    }\n",
       "\n",
       "    .dataframe tbody tr th {\n",
       "        vertical-align: top;\n",
       "    }\n",
       "\n",
       "    .dataframe thead th {\n",
       "        text-align: right;\n",
       "    }\n",
       "</style>\n",
       "<table border=\"1\" class=\"dataframe\">\n",
       "  <thead>\n",
       "    <tr style=\"text-align: right;\">\n",
       "      <th></th>\n",
       "      <th>count</th>\n",
       "      <th>unique</th>\n",
       "      <th>top</th>\n",
       "      <th>freq</th>\n",
       "    </tr>\n",
       "  </thead>\n",
       "  <tbody>\n",
       "    <tr>\n",
       "      <td>NAME_CONTRACT_TYPE</td>\n",
       "      <td>307511</td>\n",
       "      <td>2</td>\n",
       "      <td>Cash loans</td>\n",
       "      <td>278232</td>\n",
       "    </tr>\n",
       "    <tr>\n",
       "      <td>CODE_GENDER</td>\n",
       "      <td>307511</td>\n",
       "      <td>3</td>\n",
       "      <td>F</td>\n",
       "      <td>202448</td>\n",
       "    </tr>\n",
       "    <tr>\n",
       "      <td>FLAG_OWN_CAR</td>\n",
       "      <td>307511</td>\n",
       "      <td>2</td>\n",
       "      <td>N</td>\n",
       "      <td>202924</td>\n",
       "    </tr>\n",
       "    <tr>\n",
       "      <td>FLAG_OWN_REALTY</td>\n",
       "      <td>307511</td>\n",
       "      <td>2</td>\n",
       "      <td>Y</td>\n",
       "      <td>213312</td>\n",
       "    </tr>\n",
       "    <tr>\n",
       "      <td>NAME_TYPE_SUITE</td>\n",
       "      <td>306219</td>\n",
       "      <td>7</td>\n",
       "      <td>Unaccompanied</td>\n",
       "      <td>248526</td>\n",
       "    </tr>\n",
       "    <tr>\n",
       "      <td>NAME_INCOME_TYPE</td>\n",
       "      <td>307511</td>\n",
       "      <td>8</td>\n",
       "      <td>Working</td>\n",
       "      <td>158774</td>\n",
       "    </tr>\n",
       "    <tr>\n",
       "      <td>NAME_EDUCATION_TYPE</td>\n",
       "      <td>307511</td>\n",
       "      <td>5</td>\n",
       "      <td>Secondary / secondary special</td>\n",
       "      <td>218391</td>\n",
       "    </tr>\n",
       "    <tr>\n",
       "      <td>NAME_FAMILY_STATUS</td>\n",
       "      <td>307511</td>\n",
       "      <td>6</td>\n",
       "      <td>Married</td>\n",
       "      <td>196432</td>\n",
       "    </tr>\n",
       "    <tr>\n",
       "      <td>NAME_HOUSING_TYPE</td>\n",
       "      <td>307511</td>\n",
       "      <td>6</td>\n",
       "      <td>House / apartment</td>\n",
       "      <td>272868</td>\n",
       "    </tr>\n",
       "    <tr>\n",
       "      <td>OCCUPATION_TYPE</td>\n",
       "      <td>211120</td>\n",
       "      <td>18</td>\n",
       "      <td>Laborers</td>\n",
       "      <td>55186</td>\n",
       "    </tr>\n",
       "    <tr>\n",
       "      <td>WEEKDAY_APPR_PROCESS_START</td>\n",
       "      <td>307511</td>\n",
       "      <td>7</td>\n",
       "      <td>TUESDAY</td>\n",
       "      <td>53901</td>\n",
       "    </tr>\n",
       "    <tr>\n",
       "      <td>ORGANIZATION_TYPE</td>\n",
       "      <td>307511</td>\n",
       "      <td>58</td>\n",
       "      <td>Business Entity Type 3</td>\n",
       "      <td>67992</td>\n",
       "    </tr>\n",
       "    <tr>\n",
       "      <td>FONDKAPREMONT_MODE</td>\n",
       "      <td>97216</td>\n",
       "      <td>4</td>\n",
       "      <td>reg oper account</td>\n",
       "      <td>73830</td>\n",
       "    </tr>\n",
       "    <tr>\n",
       "      <td>HOUSETYPE_MODE</td>\n",
       "      <td>153214</td>\n",
       "      <td>3</td>\n",
       "      <td>block of flats</td>\n",
       "      <td>150503</td>\n",
       "    </tr>\n",
       "    <tr>\n",
       "      <td>WALLSMATERIAL_MODE</td>\n",
       "      <td>151170</td>\n",
       "      <td>7</td>\n",
       "      <td>Panel</td>\n",
       "      <td>66040</td>\n",
       "    </tr>\n",
       "    <tr>\n",
       "      <td>EMERGENCYSTATE_MODE</td>\n",
       "      <td>161756</td>\n",
       "      <td>2</td>\n",
       "      <td>No</td>\n",
       "      <td>159428</td>\n",
       "    </tr>\n",
       "  </tbody>\n",
       "</table>\n",
       "</div>"
      ],
      "text/plain": [
       "                             count unique                            top  \\\n",
       "NAME_CONTRACT_TYPE          307511      2                     Cash loans   \n",
       "CODE_GENDER                 307511      3                              F   \n",
       "FLAG_OWN_CAR                307511      2                              N   \n",
       "FLAG_OWN_REALTY             307511      2                              Y   \n",
       "NAME_TYPE_SUITE             306219      7                  Unaccompanied   \n",
       "NAME_INCOME_TYPE            307511      8                        Working   \n",
       "NAME_EDUCATION_TYPE         307511      5  Secondary / secondary special   \n",
       "NAME_FAMILY_STATUS          307511      6                        Married   \n",
       "NAME_HOUSING_TYPE           307511      6              House / apartment   \n",
       "OCCUPATION_TYPE             211120     18                       Laborers   \n",
       "WEEKDAY_APPR_PROCESS_START  307511      7                        TUESDAY   \n",
       "ORGANIZATION_TYPE           307511     58         Business Entity Type 3   \n",
       "FONDKAPREMONT_MODE           97216      4               reg oper account   \n",
       "HOUSETYPE_MODE              153214      3                 block of flats   \n",
       "WALLSMATERIAL_MODE          151170      7                          Panel   \n",
       "EMERGENCYSTATE_MODE         161756      2                             No   \n",
       "\n",
       "                              freq  \n",
       "NAME_CONTRACT_TYPE          278232  \n",
       "CODE_GENDER                 202448  \n",
       "FLAG_OWN_CAR                202924  \n",
       "FLAG_OWN_REALTY             213312  \n",
       "NAME_TYPE_SUITE             248526  \n",
       "NAME_INCOME_TYPE            158774  \n",
       "NAME_EDUCATION_TYPE         218391  \n",
       "NAME_FAMILY_STATUS          196432  \n",
       "NAME_HOUSING_TYPE           272868  \n",
       "OCCUPATION_TYPE              55186  \n",
       "WEEKDAY_APPR_PROCESS_START   53901  \n",
       "ORGANIZATION_TYPE            67992  \n",
       "FONDKAPREMONT_MODE           73830  \n",
       "HOUSETYPE_MODE              150503  \n",
       "WALLSMATERIAL_MODE           66040  \n",
       "EMERGENCYSTATE_MODE         159428  "
      ]
     },
     "execution_count": 47,
     "metadata": {},
     "output_type": "execute_result"
    }
   ],
   "source": [
    "# いろいろやったがこれが一番わかりやすい\n",
    "df.describe(include='object').T"
   ]
  },
  {
   "cell_type": "markdown",
   "metadata": {},
   "source": [
    "## ＊前処理　（欠損値の置換処理と、ホットエンコーディングを行う）"
   ]
  },
  {
   "cell_type": "code",
   "execution_count": 5,
   "metadata": {},
   "outputs": [
    {
     "data": {
      "text/plain": [
       "0"
      ]
     },
     "execution_count": 5,
     "metadata": {},
     "output_type": "execute_result"
    }
   ],
   "source": [
    "# objectの欠損値をmodeで、int,floatの欠損値をmeanで置換。mode()後の[0]に注意。\n",
    "\n",
    "df_object = df.select_dtypes(include = \"object\")\n",
    "for column in df_object.columns:\n",
    "    df[column] = df_object[column].fillna(df_object[column].mode()[0])\n",
    "\n",
    "df_int_float = df.select_dtypes(include = [\"int\",\"float\"])\n",
    "for column in df_int_float.columns:\n",
    "    df[column] = df_int_float[column].fillna(df_int_float[column].mean())\n",
    "\n",
    "# メモ　上記の別表現\n",
    "# df_object = df.columns[df.dtypes == \"object\"]\n",
    "# for column in df_object:\n",
    "#     df[column] = df[column].fillna(df[column].mode())\n",
    "\n",
    "# df_int = []\n",
    "# df_int = df.columns[df.dtypes == \"int\"]\n",
    "# for column in df_int:\n",
    "#     df[column] = df[column].fillna(df[column].mean())    \n",
    "    \n",
    "# df_float = []\n",
    "# df_float = df.columns[df.dtypes == \"float\"]\n",
    "# for column in df_float:\n",
    "#     df[column] = df[column].fillna(df[column].mean())    \n",
    "\n",
    "# 欠損値が全て穴埋めされた確認。\n",
    "df.isnull().sum().sum()"
   ]
  },
  {
   "cell_type": "code",
   "execution_count": 6,
   "metadata": {},
   "outputs": [
    {
     "name": "stdout",
     "output_type": "stream",
     "text": [
      "(307511, 122)\n",
      "(307511, 262)\n",
      "(307511, 246)\n"
     ]
    }
   ],
   "source": [
    "# ダミー処理。one hot encode\n",
    "print(df.shape)\n",
    "df_onehot = df\n",
    "for column in df_object.columns:\n",
    "    df_onehot = pd.concat([df_onehot, pd.get_dummies(df[column])],axis=1)\n",
    "\n",
    "print(df_onehot.shape)\n",
    "for column in df_object.columns:\n",
    "    df_onehot = df_onehot.drop(column, axis=1)\n",
    "\n",
    "print(df_onehot.shape)\n",
    "\n",
    "# もともと122列。ホットエンコードにより140列増えて262列（上記のユニーク総数は146だが、このうち6列はNANである。）。\n",
    "# ドロップ処理によりオブジェクト16列が削除。"
   ]
  },
  {
   "cell_type": "markdown",
   "metadata": {},
   "source": [
    "## ＊学習～検証（評価）"
   ]
  },
  {
   "cell_type": "code",
   "execution_count": 6,
   "metadata": {},
   "outputs": [],
   "source": [
    "# とりあえずtrainデータの25％を検証用データとして確保する。\n",
    "\n",
    "from sklearn.model_selection import train_test_split\n",
    "X = df_onehot.drop([\"SK_ID_CURR\",\"TARGET\"],axis=1).values\n",
    "y = df_onehot.TARGET.values\n",
    "X_train, X_test, y_train, y_test = train_test_split(X,y, test_size=0.25)"
   ]
  },
  {
   "cell_type": "code",
   "execution_count": 7,
   "metadata": {},
   "outputs": [
    {
     "name": "stdout",
     "output_type": "stream",
     "text": [
      "評価値：0.08199632201465434\n"
     ]
    }
   ],
   "source": [
    "# 決定木でモデル作成。予測。評価。\n",
    "\n",
    "from sklearn.tree import DecisionTreeRegressor\n",
    "from sklearn.metrics import mean_squared_error\n",
    "\n",
    "DTC_reg = DecisionTreeRegressor(max_depth=15)\n",
    "DTC_reg.fit(X_train, y_train)\n",
    "\n",
    "y_pred_DTC = DTC_reg.predict(X_test)\n",
    "print(\"評価値：{}\".format(mean_squared_error(y_test, y_pred_DTC)))"
   ]
  },
  {
   "cell_type": "code",
   "execution_count": 8,
   "metadata": {},
   "outputs": [
    {
     "data": {
      "image/png": "[encoded data removed]",
      "text/plain": [
       "<Figure size 432x288 with 1 Axes>"
      ]
     },
     "metadata": {
      "needs_background": "light"
     },
     "output_type": "display_data"
    }
   ],
   "source": [
    "from sklearn import metrics\n",
    "from sklearn.metrics import roc_curve\n",
    "\n",
    "fpr, tpr, thresholds = roc_curve(y_test, y_pred_DTC)\n",
    "\n",
    "plt.plot(fpr, tpr, marker='o')\n",
    "plt.xlabel('FPR: False positive rate')\n",
    "plt.ylabel('TPR: True positive rate')\n",
    "plt.grid()"
   ]
  },
  {
   "cell_type": "markdown",
   "metadata": {},
   "source": [
    "## 【問題3】テストデータに対する推定（KAGGLE提出）"
   ]
  },
  {
   "cell_type": "code",
   "execution_count": 8,
   "metadata": {},
   "outputs": [
    {
     "name": "stdout",
     "output_type": "stream",
     "text": [
      "(48744, 121)\n",
      "(48744, 258)\n",
      "(48744, 242)\n"
     ]
    }
   ],
   "source": [
    "# application_test.csvについても同様の前処理を行う。\n",
    "# 欠損値処理。\n",
    "\n",
    "AT_object = application_test.select_dtypes(include = \"object\")\n",
    "for column in AT_object.columns:\n",
    "    application_test[column] = AT_object[column].fillna(AT_object[column].mode()[0])\n",
    "\n",
    "AT_int_float = application_test.select_dtypes(include = [\"int\",\"float\"])\n",
    "for column in AT_int_float.columns:\n",
    "    application_test[column] = AT_int_float[column].fillna(AT_int_float[column].mean())\n",
    "\n",
    "print(application_test.shape)\n",
    "\n",
    "#  ホットエンコーディング。\n",
    "\n",
    "AT_onehot = application_test\n",
    "for column in AT_object.columns:\n",
    "    AT_onehot = pd.concat([AT_onehot, pd.get_dummies(application_test[column])],axis=1)\n",
    "\n",
    "print(AT_onehot.shape)\n",
    "\n",
    "for column in AT_object.columns:\n",
    "    AT_onehot = AT_onehot.drop(column, axis=1)\n",
    "\n",
    "print(AT_onehot.shape)"
   ]
  },
  {
   "cell_type": "code",
   "execution_count": 9,
   "metadata": {},
   "outputs": [
    {
     "data": {
      "text/plain": [
       "0"
      ]
     },
     "execution_count": 9,
     "metadata": {},
     "output_type": "execute_result"
    }
   ],
   "source": [
    "AT_onehot.isnull().sum().sum()"
   ]
  },
  {
   "cell_type": "code",
   "execution_count": 10,
   "metadata": {},
   "outputs": [],
   "source": [
    "#　前処理後の学習データ（df_onehot）と前処理後のテストデータ（AT_onehot）で列の数が合わない。\n",
    "#  ダミー処理で増えた列が、両社で一致しない。\n",
    "#  学習データ→\"XNA\",\"Maternity leave\",\"Unknown\"列を取り除く。\n",
    "#　テストデータ→\"XNA\"列を取り除く。\n",
    "\n",
    "X2 = df_onehot.drop([\"SK_ID_CURR\",\"TARGET\",\"XNA\",\"Maternity leave\",\"Unknown\"],axis=1).values\n",
    "y = df_onehot.TARGET.values\n",
    "\n",
    "DTC2_reg = DecisionTreeRegressor(max_depth=15)\n",
    "DTC2_reg.fit(X2,y)\n",
    "\n",
    "X_AT = AT_onehot.drop([\"SK_ID_CURR\",\"XNA\"], axis=1).values\n",
    "\n",
    "y_pred_DTC2 = DTC2_reg.predict(X_AT)"
   ]
  },
  {
   "cell_type": "markdown",
   "metadata": {},
   "source": [
    "# Kaggle提出用のsubmissionファイル作成。"
   ]
  },
  {
   "cell_type": "code",
   "execution_count": 11,
   "metadata": {},
   "outputs": [],
   "source": [
    "sub = pd.read_csv('sample_submission.csv')\n",
    "\n",
    "sub['TARGET'] = y_pred_DTC2\n",
    "sub.to_csv('submission.csv', index=False)"
   ]
  },
  {
   "cell_type": "markdown",
   "metadata": {},
   "source": [
    "# （KAGGLEのScoreは0.64475となった。）"
   ]
  },
  {
   "cell_type": "markdown",
   "metadata": {},
   "source": [
    "# 【問題4】特徴量エンジニアリング"
   ]
  },
  {
   "cell_type": "markdown",
   "metadata": {},
   "source": [
    "# 検証1\n",
    "　特徴量の重要度を算出。あまり重要でない特徴量を排除してモデル作成・評価をしてみる。"
   ]
  },
  {
   "cell_type": "code",
   "execution_count": 9,
   "metadata": {},
   "outputs": [
    {
     "data": {
      "text/plain": [
       "<BarContainer object of 244 artists>"
      ]
     },
     "execution_count": 9,
     "metadata": {},
     "output_type": "execute_result"
    },
    {
     "data": {
      "image/png": "[encoded data removed]",
      "text/plain": [
       "<Figure size 576x2880 with 1 Axes>"
      ]
     },
     "metadata": {
      "needs_background": "light"
     },
     "output_type": "display_data"
    }
   ],
   "source": [
    "DTC_importance = pd.DataFrame([])\n",
    "DTC_importance[\"feature\"] = df_onehot.drop([\"SK_ID_CURR\",\"TARGET\"],axis=1).columns\n",
    "DTC_importance[\"importance\"] = DTC_reg.feature_importances_\n",
    "\n",
    "plt.figure(figsize=(8,40))\n",
    "DTC_importance = DTC_importance.sort_values(by=\"importance\", ascending=True)\n",
    "plt.barh(DTC_importance[\"feature\"],DTC_importance[\"importance\"])"
   ]
  },
  {
   "cell_type": "code",
   "execution_count": 10,
   "metadata": {},
   "outputs": [],
   "source": [
    "# DTCへの寄与が大きい上位をセレクト。df_onehotからDTC_importanceの0から180を排除（今回は180個排除して寄与率上位64個を使う）。\n",
    "\n",
    "f_select = DTC_importance[\"feature\"].iloc[180:244]\n",
    "df_onehot_select = pd.DataFrame([])\n",
    "\n",
    "for column in f_select.values:\n",
    "    df_onehot_select[column] = df_onehot[column]"
   ]
  },
  {
   "cell_type": "code",
   "execution_count": 12,
   "metadata": {},
   "outputs": [
    {
     "data": {
      "text/plain": [
       "(307511, 64)"
      ]
     },
     "metadata": {},
     "output_type": "display_data"
    },
    {
     "data": {
      "text/plain": [
       "(307511, 246)"
      ]
     },
     "metadata": {},
     "output_type": "display_data"
    },
    {
     "data": {
      "text/plain": [
       "Index(['NONLIVINGAPARTMENTS_MODE', 'LIVINGAPARTMENTS_MEDI',\n",
       "       'REG_CITY_NOT_LIVE_CITY', 'Managers', 'ENTRANCES_MODE',\n",
       "       'AMT_REQ_CREDIT_BUREAU_WEEK', 'AMT_REQ_CREDIT_BUREAU_QRT',\n",
       "       'REGION_RATING_CLIENT', 'AMT_REQ_CREDIT_BUREAU_MON', 'THURSDAY',\n",
       "       'ENTRANCES_AVG', 'BASEMENTAREA_MODE', 'Higher education', 'Working',\n",
       "       'Commercial associate', 'F', 'APARTMENTS_AVG', 'BASEMENTAREA_AVG',\n",
       "       'FLOORSMAX_MODE', 'DEF_60_CNT_SOCIAL_CIRCLE', 'ENTRANCES_MEDI',\n",
       "       'APARTMENTS_MODE', 'Married', 'NONLIVINGAREA_MEDI', 'TUESDAY',\n",
       "       'CNT_CHILDREN', 'NONLIVINGAREA_MODE', 'LANDAREA_AVG', 'LANDAREA_MODE',\n",
       "       'LANDAREA_MEDI', 'OBS_60_CNT_SOCIAL_CIRCLE', 'LIVINGAPARTMENTS_MODE',\n",
       "       'DEF_30_CNT_SOCIAL_CIRCLE', 'YEARS_BEGINEXPLUATATION_MEDI',\n",
       "       'YEARS_BEGINEXPLUATATION_AVG', 'FLAG_DOCUMENT_3',\n",
       "       'LIVINGAPARTMENTS_AVG', 'CNT_FAM_MEMBERS', 'LIVINGAREA_MEDI',\n",
       "       'OBS_30_CNT_SOCIAL_CIRCLE', 'YEARS_BUILD_MEDI', 'LIVINGAREA_AVG',\n",
       "       'LIVINGAREA_MODE', 'Secondary / secondary special',\n",
       "       'YEARS_BEGINEXPLUATATION_MODE', 'COMMONAREA_MODE', 'TOTALAREA_MODE',\n",
       "       'M', 'OWN_CAR_AGE', 'AMT_REQ_CREDIT_BUREAU_YEAR',\n",
       "       'HOUR_APPR_PROCESS_START', 'AMT_GOODS_PRICE', 'AMT_CREDIT',\n",
       "       'REGION_POPULATION_RELATIVE', 'AMT_INCOME_TOTAL',\n",
       "       'DAYS_LAST_PHONE_CHANGE', 'DAYS_EMPLOYED', 'AMT_ANNUITY',\n",
       "       'DAYS_ID_PUBLISH', 'DAYS_REGISTRATION', 'DAYS_BIRTH', 'EXT_SOURCE_1',\n",
       "       'EXT_SOURCE_2', 'EXT_SOURCE_3'],\n",
       "      dtype='object')"
      ]
     },
     "execution_count": 12,
     "metadata": {},
     "output_type": "execute_result"
    }
   ],
   "source": [
    "display(df_onehot_select.shape)\n",
    "display(df_onehot.shape)\n",
    "\n",
    "df_onehot_select.columns"
   ]
  },
  {
   "cell_type": "code",
   "execution_count": 13,
   "metadata": {},
   "outputs": [],
   "source": [
    "from sklearn.model_selection import train_test_split\n",
    "\n",
    "X3 = df_onehot_select.values\n",
    "y = df_onehot.TARGET.values\n",
    "X3_train, X3_test, y_train, y_test = train_test_split(X3,y, test_size=0.25)\n",
    "\n",
    "#X3には、df_onehot_selectを作成する段階で\"TARGET\"や\"SK_ID_CURR\"は入っていない。"
   ]
  },
  {
   "cell_type": "code",
   "execution_count": 14,
   "metadata": {},
   "outputs": [
    {
     "name": "stdout",
     "output_type": "stream",
     "text": [
      "評価値：0.08429091018361357\n"
     ]
    }
   ],
   "source": [
    "from sklearn.tree import DecisionTreeRegressor\n",
    "from sklearn.metrics import mean_squared_error\n",
    "\n",
    "DTC3_reg = DecisionTreeRegressor(max_depth=15)\n",
    "DTC3_reg.fit(X3_train,y_train)\n",
    "\n",
    "y_pred_DTC3 = DTC3_reg.predict(X3_test)\n",
    "\n",
    "print(\"評価値：{}\".format(mean_squared_error(y_test, y_pred_DTC3)))"
   ]
  },
  {
   "cell_type": "markdown",
   "metadata": {},
   "source": [
    "## 考察 \n",
    "　・全特徴量による評価値：0.08199632201465434\n",
    "　・特徴量64個での評価値：0.08429091018361357\n",
    "　\n",
    " 　影響の低い特徴量を削減した方がよさげである（tarinとtestの分割処理により、評価値が変動していそうなのでよくわからない）。"
   ]
  },
  {
   "cell_type": "code",
   "execution_count": 15,
   "metadata": {},
   "outputs": [
    {
     "data": {
      "image/png": "[encoded data removed]",
      "text/plain": [
       "<Figure size 432x288 with 1 Axes>"
      ]
     },
     "metadata": {
      "needs_background": "light"
     },
     "output_type": "display_data"
    }
   ],
   "source": [
    "fpr, tpr, thresholds = roc_curve(y_test, y_pred_DTC3)\n",
    "\n",
    "plt.plot(fpr, tpr, marker='o')\n",
    "plt.xlabel('FPR: False positive rate')\n",
    "plt.ylabel('TPR: True positive rate')\n",
    "plt.grid()"
   ]
  },
  {
   "cell_type": "markdown",
   "metadata": {},
   "source": [
    "## 検証２\n",
    "欠損値の存在自体を情報として取り込むべく欠損値数を特徴量として入れてみる。  \n",
    "  missing_value1～3は、カラム0～39、40～79、80～122までの欠損値の合計、missing_sumはカラム0～122までの欠損値の合計である。  \n",
    "  演算方法（計算時間）で苦労したため、missing_value1～3とmissing_sumの計算結果をcsvファイルで所持している。"
   ]
  },
  {
   "cell_type": "code",
   "execution_count": 3,
   "metadata": {},
   "outputs": [
    {
     "data": {
      "text/html": [
       "<div>\n",
       "<style scoped>\n",
       "    .dataframe tbody tr th:only-of-type {\n",
       "        vertical-align: middle;\n",
       "    }\n",
       "\n",
       "    .dataframe tbody tr th {\n",
       "        vertical-align: top;\n",
       "    }\n",
       "\n",
       "    .dataframe thead th {\n",
       "        text-align: right;\n",
       "    }\n",
       "</style>\n",
       "<table border=\"1\" class=\"dataframe\">\n",
       "  <thead>\n",
       "    <tr style=\"text-align: right;\">\n",
       "      <th></th>\n",
       "      <th>SK_ID_CURR</th>\n",
       "      <th>TARGET</th>\n",
       "      <th>NAME_CONTRACT_TYPE</th>\n",
       "      <th>CODE_GENDER</th>\n",
       "      <th>FLAG_OWN_CAR</th>\n",
       "      <th>FLAG_OWN_REALTY</th>\n",
       "      <th>CNT_CHILDREN</th>\n",
       "      <th>AMT_INCOME_TOTAL</th>\n",
       "      <th>AMT_CREDIT</th>\n",
       "      <th>AMT_ANNUITY</th>\n",
       "      <th>AMT_GOODS_PRICE</th>\n",
       "      <th>NAME_TYPE_SUITE</th>\n",
       "      <th>NAME_INCOME_TYPE</th>\n",
       "      <th>NAME_EDUCATION_TYPE</th>\n",
       "      <th>NAME_FAMILY_STATUS</th>\n",
       "      <th>NAME_HOUSING_TYPE</th>\n",
       "      <th>REGION_POPULATION_RELATIVE</th>\n",
       "      <th>DAYS_BIRTH</th>\n",
       "      <th>DAYS_EMPLOYED</th>\n",
       "      <th>DAYS_REGISTRATION</th>\n",
       "      <th>DAYS_ID_PUBLISH</th>\n",
       "      <th>OWN_CAR_AGE</th>\n",
       "      <th>FLAG_MOBIL</th>\n",
       "      <th>FLAG_EMP_PHONE</th>\n",
       "      <th>FLAG_WORK_PHONE</th>\n",
       "      <th>FLAG_CONT_MOBILE</th>\n",
       "      <th>FLAG_PHONE</th>\n",
       "      <th>FLAG_EMAIL</th>\n",
       "      <th>OCCUPATION_TYPE</th>\n",
       "      <th>CNT_FAM_MEMBERS</th>\n",
       "      <th>REGION_RATING_CLIENT</th>\n",
       "      <th>REGION_RATING_CLIENT_W_CITY</th>\n",
       "      <th>WEEKDAY_APPR_PROCESS_START</th>\n",
       "      <th>HOUR_APPR_PROCESS_START</th>\n",
       "      <th>REG_REGION_NOT_LIVE_REGION</th>\n",
       "      <th>REG_REGION_NOT_WORK_REGION</th>\n",
       "      <th>LIVE_REGION_NOT_WORK_REGION</th>\n",
       "      <th>REG_CITY_NOT_LIVE_CITY</th>\n",
       "      <th>REG_CITY_NOT_WORK_CITY</th>\n",
       "      <th>LIVE_CITY_NOT_WORK_CITY</th>\n",
       "      <th>ORGANIZATION_TYPE</th>\n",
       "      <th>EXT_SOURCE_1</th>\n",
       "      <th>EXT_SOURCE_2</th>\n",
       "      <th>EXT_SOURCE_3</th>\n",
       "      <th>APARTMENTS_AVG</th>\n",
       "      <th>BASEMENTAREA_AVG</th>\n",
       "      <th>YEARS_BEGINEXPLUATATION_AVG</th>\n",
       "      <th>YEARS_BUILD_AVG</th>\n",
       "      <th>COMMONAREA_AVG</th>\n",
       "      <th>ELEVATORS_AVG</th>\n",
       "      <th>ENTRANCES_AVG</th>\n",
       "      <th>FLOORSMAX_AVG</th>\n",
       "      <th>FLOORSMIN_AVG</th>\n",
       "      <th>LANDAREA_AVG</th>\n",
       "      <th>LIVINGAPARTMENTS_AVG</th>\n",
       "      <th>LIVINGAREA_AVG</th>\n",
       "      <th>NONLIVINGAPARTMENTS_AVG</th>\n",
       "      <th>NONLIVINGAREA_AVG</th>\n",
       "      <th>APARTMENTS_MODE</th>\n",
       "      <th>BASEMENTAREA_MODE</th>\n",
       "      <th>YEARS_BEGINEXPLUATATION_MODE</th>\n",
       "      <th>YEARS_BUILD_MODE</th>\n",
       "      <th>COMMONAREA_MODE</th>\n",
       "      <th>ELEVATORS_MODE</th>\n",
       "      <th>ENTRANCES_MODE</th>\n",
       "      <th>FLOORSMAX_MODE</th>\n",
       "      <th>FLOORSMIN_MODE</th>\n",
       "      <th>LANDAREA_MODE</th>\n",
       "      <th>LIVINGAPARTMENTS_MODE</th>\n",
       "      <th>LIVINGAREA_MODE</th>\n",
       "      <th>NONLIVINGAPARTMENTS_MODE</th>\n",
       "      <th>NONLIVINGAREA_MODE</th>\n",
       "      <th>APARTMENTS_MEDI</th>\n",
       "      <th>BASEMENTAREA_MEDI</th>\n",
       "      <th>YEARS_BEGINEXPLUATATION_MEDI</th>\n",
       "      <th>YEARS_BUILD_MEDI</th>\n",
       "      <th>COMMONAREA_MEDI</th>\n",
       "      <th>ELEVATORS_MEDI</th>\n",
       "      <th>ENTRANCES_MEDI</th>\n",
       "      <th>FLOORSMAX_MEDI</th>\n",
       "      <th>FLOORSMIN_MEDI</th>\n",
       "      <th>LANDAREA_MEDI</th>\n",
       "      <th>LIVINGAPARTMENTS_MEDI</th>\n",
       "      <th>LIVINGAREA_MEDI</th>\n",
       "      <th>NONLIVINGAPARTMENTS_MEDI</th>\n",
       "      <th>NONLIVINGAREA_MEDI</th>\n",
       "      <th>FONDKAPREMONT_MODE</th>\n",
       "      <th>HOUSETYPE_MODE</th>\n",
       "      <th>TOTALAREA_MODE</th>\n",
       "      <th>WALLSMATERIAL_MODE</th>\n",
       "      <th>EMERGENCYSTATE_MODE</th>\n",
       "      <th>OBS_30_CNT_SOCIAL_CIRCLE</th>\n",
       "      <th>DEF_30_CNT_SOCIAL_CIRCLE</th>\n",
       "      <th>OBS_60_CNT_SOCIAL_CIRCLE</th>\n",
       "      <th>DEF_60_CNT_SOCIAL_CIRCLE</th>\n",
       "      <th>DAYS_LAST_PHONE_CHANGE</th>\n",
       "      <th>FLAG_DOCUMENT_2</th>\n",
       "      <th>FLAG_DOCUMENT_3</th>\n",
       "      <th>FLAG_DOCUMENT_4</th>\n",
       "      <th>FLAG_DOCUMENT_5</th>\n",
       "      <th>FLAG_DOCUMENT_6</th>\n",
       "      <th>FLAG_DOCUMENT_7</th>\n",
       "      <th>FLAG_DOCUMENT_8</th>\n",
       "      <th>FLAG_DOCUMENT_9</th>\n",
       "      <th>FLAG_DOCUMENT_10</th>\n",
       "      <th>FLAG_DOCUMENT_11</th>\n",
       "      <th>FLAG_DOCUMENT_12</th>\n",
       "      <th>FLAG_DOCUMENT_13</th>\n",
       "      <th>FLAG_DOCUMENT_14</th>\n",
       "      <th>FLAG_DOCUMENT_15</th>\n",
       "      <th>FLAG_DOCUMENT_16</th>\n",
       "      <th>FLAG_DOCUMENT_17</th>\n",
       "      <th>FLAG_DOCUMENT_18</th>\n",
       "      <th>FLAG_DOCUMENT_19</th>\n",
       "      <th>FLAG_DOCUMENT_20</th>\n",
       "      <th>FLAG_DOCUMENT_21</th>\n",
       "      <th>AMT_REQ_CREDIT_BUREAU_HOUR</th>\n",
       "      <th>AMT_REQ_CREDIT_BUREAU_DAY</th>\n",
       "      <th>AMT_REQ_CREDIT_BUREAU_WEEK</th>\n",
       "      <th>AMT_REQ_CREDIT_BUREAU_MON</th>\n",
       "      <th>AMT_REQ_CREDIT_BUREAU_QRT</th>\n",
       "      <th>AMT_REQ_CREDIT_BUREAU_YEAR</th>\n",
       "      <th>missing_value1</th>\n",
       "      <th>missing_value2</th>\n",
       "      <th>missing_value3</th>\n",
       "    </tr>\n",
       "  </thead>\n",
       "  <tbody>\n",
       "    <tr>\n",
       "      <td>count</td>\n",
       "      <td>307511</td>\n",
       "      <td>307511</td>\n",
       "      <td>307511</td>\n",
       "      <td>307511</td>\n",
       "      <td>307511</td>\n",
       "      <td>307511</td>\n",
       "      <td>307511</td>\n",
       "      <td>307511.0</td>\n",
       "      <td>307511.0</td>\n",
       "      <td>307499.0</td>\n",
       "      <td>307233.0</td>\n",
       "      <td>306219</td>\n",
       "      <td>307511</td>\n",
       "      <td>307511</td>\n",
       "      <td>307511</td>\n",
       "      <td>307511</td>\n",
       "      <td>307511.000000</td>\n",
       "      <td>307511</td>\n",
       "      <td>307511</td>\n",
       "      <td>307511.0</td>\n",
       "      <td>307511</td>\n",
       "      <td>104582.0</td>\n",
       "      <td>307511</td>\n",
       "      <td>307511</td>\n",
       "      <td>307511</td>\n",
       "      <td>307511</td>\n",
       "      <td>307511</td>\n",
       "      <td>307511</td>\n",
       "      <td>211120</td>\n",
       "      <td>307509.0</td>\n",
       "      <td>307511</td>\n",
       "      <td>307511</td>\n",
       "      <td>307511</td>\n",
       "      <td>307511</td>\n",
       "      <td>307511</td>\n",
       "      <td>307511</td>\n",
       "      <td>307511</td>\n",
       "      <td>307511</td>\n",
       "      <td>307511</td>\n",
       "      <td>307511</td>\n",
       "      <td>307511</td>\n",
       "      <td>134133.000000</td>\n",
       "      <td>306851.000000</td>\n",
       "      <td>246546.0000</td>\n",
       "      <td>151450.0000</td>\n",
       "      <td>127568.0</td>\n",
       "      <td>157504.0000</td>\n",
       "      <td>103023.0000</td>\n",
       "      <td>92646.0</td>\n",
       "      <td>143620.0</td>\n",
       "      <td>152683.0000</td>\n",
       "      <td>154491.0000</td>\n",
       "      <td>98869.0000</td>\n",
       "      <td>124921.0</td>\n",
       "      <td>97312.0000</td>\n",
       "      <td>153161.0</td>\n",
       "      <td>93997.0</td>\n",
       "      <td>137829.0</td>\n",
       "      <td>151450.000</td>\n",
       "      <td>127568.0</td>\n",
       "      <td>157504.0000</td>\n",
       "      <td>103023.0000</td>\n",
       "      <td>92646.0</td>\n",
       "      <td>143620.0</td>\n",
       "      <td>152683.0000</td>\n",
       "      <td>154491.0000</td>\n",
       "      <td>98869.0000</td>\n",
       "      <td>124921.0</td>\n",
       "      <td>97312.0000</td>\n",
       "      <td>153161.0</td>\n",
       "      <td>93997.0</td>\n",
       "      <td>137829.0</td>\n",
       "      <td>151450.0000</td>\n",
       "      <td>127568.0</td>\n",
       "      <td>157504.0000</td>\n",
       "      <td>103023.0000</td>\n",
       "      <td>92646.0</td>\n",
       "      <td>143620.0</td>\n",
       "      <td>152683.0000</td>\n",
       "      <td>154491.0000</td>\n",
       "      <td>98869.0000</td>\n",
       "      <td>124921.0</td>\n",
       "      <td>97312.0000</td>\n",
       "      <td>153161.0</td>\n",
       "      <td>93997.0</td>\n",
       "      <td>137829.0</td>\n",
       "      <td>97216</td>\n",
       "      <td>153214</td>\n",
       "      <td>159080.0</td>\n",
       "      <td>151170</td>\n",
       "      <td>161756</td>\n",
       "      <td>306490.0</td>\n",
       "      <td>306490.0</td>\n",
       "      <td>306490.0</td>\n",
       "      <td>306490.0</td>\n",
       "      <td>307510.0</td>\n",
       "      <td>307511</td>\n",
       "      <td>307511</td>\n",
       "      <td>307511</td>\n",
       "      <td>307511</td>\n",
       "      <td>307511</td>\n",
       "      <td>307511</td>\n",
       "      <td>307511</td>\n",
       "      <td>307511</td>\n",
       "      <td>307511</td>\n",
       "      <td>307511</td>\n",
       "      <td>307511</td>\n",
       "      <td>307511</td>\n",
       "      <td>307511</td>\n",
       "      <td>307511</td>\n",
       "      <td>307511</td>\n",
       "      <td>307511</td>\n",
       "      <td>307511</td>\n",
       "      <td>307511</td>\n",
       "      <td>307511</td>\n",
       "      <td>307511</td>\n",
       "      <td>265992.0</td>\n",
       "      <td>265992.0</td>\n",
       "      <td>265992.0</td>\n",
       "      <td>265992.0</td>\n",
       "      <td>265992.0</td>\n",
       "      <td>265992.0</td>\n",
       "      <td>307511</td>\n",
       "      <td>307511</td>\n",
       "      <td>307511</td>\n",
       "    </tr>\n",
       "    <tr>\n",
       "      <td>unique</td>\n",
       "      <td>307511</td>\n",
       "      <td>2</td>\n",
       "      <td>2</td>\n",
       "      <td>3</td>\n",
       "      <td>2</td>\n",
       "      <td>2</td>\n",
       "      <td>15</td>\n",
       "      <td>2548.0</td>\n",
       "      <td>5603.0</td>\n",
       "      <td>13672.0</td>\n",
       "      <td>1002.0</td>\n",
       "      <td>7</td>\n",
       "      <td>8</td>\n",
       "      <td>5</td>\n",
       "      <td>6</td>\n",
       "      <td>6</td>\n",
       "      <td>81.000000</td>\n",
       "      <td>17460</td>\n",
       "      <td>12574</td>\n",
       "      <td>15688.0</td>\n",
       "      <td>6168</td>\n",
       "      <td>62.0</td>\n",
       "      <td>2</td>\n",
       "      <td>2</td>\n",
       "      <td>2</td>\n",
       "      <td>2</td>\n",
       "      <td>2</td>\n",
       "      <td>2</td>\n",
       "      <td>18</td>\n",
       "      <td>17.0</td>\n",
       "      <td>3</td>\n",
       "      <td>3</td>\n",
       "      <td>7</td>\n",
       "      <td>24</td>\n",
       "      <td>2</td>\n",
       "      <td>2</td>\n",
       "      <td>2</td>\n",
       "      <td>2</td>\n",
       "      <td>2</td>\n",
       "      <td>2</td>\n",
       "      <td>58</td>\n",
       "      <td>114584.000000</td>\n",
       "      <td>119831.000000</td>\n",
       "      <td>814.0000</td>\n",
       "      <td>2339.0000</td>\n",
       "      <td>3780.0</td>\n",
       "      <td>285.0000</td>\n",
       "      <td>149.0000</td>\n",
       "      <td>3181.0</td>\n",
       "      <td>257.0</td>\n",
       "      <td>285.0000</td>\n",
       "      <td>403.0000</td>\n",
       "      <td>305.0000</td>\n",
       "      <td>3527.0</td>\n",
       "      <td>1868.0000</td>\n",
       "      <td>5199.0</td>\n",
       "      <td>386.0</td>\n",
       "      <td>3290.0</td>\n",
       "      <td>760.000</td>\n",
       "      <td>3841.0</td>\n",
       "      <td>221.0000</td>\n",
       "      <td>154.0000</td>\n",
       "      <td>3128.0</td>\n",
       "      <td>26.0</td>\n",
       "      <td>30.0000</td>\n",
       "      <td>25.0000</td>\n",
       "      <td>25.0000</td>\n",
       "      <td>3563.0</td>\n",
       "      <td>736.0000</td>\n",
       "      <td>5301.0</td>\n",
       "      <td>167.0</td>\n",
       "      <td>3327.0</td>\n",
       "      <td>1148.0000</td>\n",
       "      <td>3772.0</td>\n",
       "      <td>245.0000</td>\n",
       "      <td>151.0000</td>\n",
       "      <td>3202.0</td>\n",
       "      <td>46.0</td>\n",
       "      <td>46.0000</td>\n",
       "      <td>49.0000</td>\n",
       "      <td>47.0000</td>\n",
       "      <td>3560.0</td>\n",
       "      <td>1097.0000</td>\n",
       "      <td>5281.0</td>\n",
       "      <td>214.0</td>\n",
       "      <td>3323.0</td>\n",
       "      <td>4</td>\n",
       "      <td>3</td>\n",
       "      <td>5116.0</td>\n",
       "      <td>7</td>\n",
       "      <td>2</td>\n",
       "      <td>33.0</td>\n",
       "      <td>10.0</td>\n",
       "      <td>33.0</td>\n",
       "      <td>9.0</td>\n",
       "      <td>3773.0</td>\n",
       "      <td>2</td>\n",
       "      <td>2</td>\n",
       "      <td>2</td>\n",
       "      <td>2</td>\n",
       "      <td>2</td>\n",
       "      <td>2</td>\n",
       "      <td>2</td>\n",
       "      <td>2</td>\n",
       "      <td>2</td>\n",
       "      <td>2</td>\n",
       "      <td>2</td>\n",
       "      <td>2</td>\n",
       "      <td>2</td>\n",
       "      <td>2</td>\n",
       "      <td>2</td>\n",
       "      <td>2</td>\n",
       "      <td>2</td>\n",
       "      <td>2</td>\n",
       "      <td>2</td>\n",
       "      <td>2</td>\n",
       "      <td>5.0</td>\n",
       "      <td>9.0</td>\n",
       "      <td>9.0</td>\n",
       "      <td>24.0</td>\n",
       "      <td>11.0</td>\n",
       "      <td>25.0</td>\n",
       "      <td>5</td>\n",
       "      <td>40</td>\n",
       "      <td>21</td>\n",
       "    </tr>\n",
       "    <tr>\n",
       "      <td>top</td>\n",
       "      <td>456255</td>\n",
       "      <td>0</td>\n",
       "      <td>Cash loans</td>\n",
       "      <td>F</td>\n",
       "      <td>N</td>\n",
       "      <td>Y</td>\n",
       "      <td>0</td>\n",
       "      <td>135000.0</td>\n",
       "      <td>450000.0</td>\n",
       "      <td>9000.0</td>\n",
       "      <td>450000.0</td>\n",
       "      <td>Unaccompanied</td>\n",
       "      <td>Working</td>\n",
       "      <td>Secondary / secondary special</td>\n",
       "      <td>Married</td>\n",
       "      <td>House / apartment</td>\n",
       "      <td>0.035792</td>\n",
       "      <td>-13749</td>\n",
       "      <td>365243</td>\n",
       "      <td>-1.0</td>\n",
       "      <td>-4053</td>\n",
       "      <td>7.0</td>\n",
       "      <td>1</td>\n",
       "      <td>1</td>\n",
       "      <td>0</td>\n",
       "      <td>1</td>\n",
       "      <td>0</td>\n",
       "      <td>0</td>\n",
       "      <td>Laborers</td>\n",
       "      <td>2.0</td>\n",
       "      <td>2</td>\n",
       "      <td>2</td>\n",
       "      <td>TUESDAY</td>\n",
       "      <td>10</td>\n",
       "      <td>0</td>\n",
       "      <td>0</td>\n",
       "      <td>0</td>\n",
       "      <td>0</td>\n",
       "      <td>0</td>\n",
       "      <td>0</td>\n",
       "      <td>Business Entity Type 3</td>\n",
       "      <td>0.605152</td>\n",
       "      <td>0.285898</td>\n",
       "      <td>0.7463</td>\n",
       "      <td>0.0825</td>\n",
       "      <td>0.0</td>\n",
       "      <td>0.9871</td>\n",
       "      <td>0.8232</td>\n",
       "      <td>0.0</td>\n",
       "      <td>0.0</td>\n",
       "      <td>0.1379</td>\n",
       "      <td>0.1667</td>\n",
       "      <td>0.2083</td>\n",
       "      <td>0.0</td>\n",
       "      <td>0.0504</td>\n",
       "      <td>0.0</td>\n",
       "      <td>0.0</td>\n",
       "      <td>0.0</td>\n",
       "      <td>0.084</td>\n",
       "      <td>0.0</td>\n",
       "      <td>0.9871</td>\n",
       "      <td>0.8301</td>\n",
       "      <td>0.0</td>\n",
       "      <td>0.0</td>\n",
       "      <td>0.1379</td>\n",
       "      <td>0.1667</td>\n",
       "      <td>0.2083</td>\n",
       "      <td>0.0</td>\n",
       "      <td>0.0551</td>\n",
       "      <td>0.0</td>\n",
       "      <td>0.0</td>\n",
       "      <td>0.0</td>\n",
       "      <td>0.0833</td>\n",
       "      <td>0.0</td>\n",
       "      <td>0.9871</td>\n",
       "      <td>0.8256</td>\n",
       "      <td>0.0</td>\n",
       "      <td>0.0</td>\n",
       "      <td>0.1379</td>\n",
       "      <td>0.1667</td>\n",
       "      <td>0.2083</td>\n",
       "      <td>0.0</td>\n",
       "      <td>0.0513</td>\n",
       "      <td>0.0</td>\n",
       "      <td>0.0</td>\n",
       "      <td>0.0</td>\n",
       "      <td>reg oper account</td>\n",
       "      <td>block of flats</td>\n",
       "      <td>0.0</td>\n",
       "      <td>Panel</td>\n",
       "      <td>No</td>\n",
       "      <td>0.0</td>\n",
       "      <td>0.0</td>\n",
       "      <td>0.0</td>\n",
       "      <td>0.0</td>\n",
       "      <td>0.0</td>\n",
       "      <td>0</td>\n",
       "      <td>1</td>\n",
       "      <td>0</td>\n",
       "      <td>0</td>\n",
       "      <td>0</td>\n",
       "      <td>0</td>\n",
       "      <td>0</td>\n",
       "      <td>0</td>\n",
       "      <td>0</td>\n",
       "      <td>0</td>\n",
       "      <td>0</td>\n",
       "      <td>0</td>\n",
       "      <td>0</td>\n",
       "      <td>0</td>\n",
       "      <td>0</td>\n",
       "      <td>0</td>\n",
       "      <td>0</td>\n",
       "      <td>0</td>\n",
       "      <td>0</td>\n",
       "      <td>0</td>\n",
       "      <td>0.0</td>\n",
       "      <td>0.0</td>\n",
       "      <td>0.0</td>\n",
       "      <td>0.0</td>\n",
       "      <td>0.0</td>\n",
       "      <td>0.0</td>\n",
       "      <td>1</td>\n",
       "      <td>37</td>\n",
       "      <td>11</td>\n",
       "    </tr>\n",
       "    <tr>\n",
       "      <td>freq</td>\n",
       "      <td>1</td>\n",
       "      <td>282686</td>\n",
       "      <td>278232</td>\n",
       "      <td>202448</td>\n",
       "      <td>202924</td>\n",
       "      <td>213312</td>\n",
       "      <td>215371</td>\n",
       "      <td>35750.0</td>\n",
       "      <td>9709.0</td>\n",
       "      <td>6385.0</td>\n",
       "      <td>26022.0</td>\n",
       "      <td>248526</td>\n",
       "      <td>158774</td>\n",
       "      <td>218391</td>\n",
       "      <td>196432</td>\n",
       "      <td>272868</td>\n",
       "      <td>16408.000000</td>\n",
       "      <td>43</td>\n",
       "      <td>55374</td>\n",
       "      <td>113.0</td>\n",
       "      <td>169</td>\n",
       "      <td>7424.0</td>\n",
       "      <td>307510</td>\n",
       "      <td>252125</td>\n",
       "      <td>246203</td>\n",
       "      <td>306937</td>\n",
       "      <td>221080</td>\n",
       "      <td>290069</td>\n",
       "      <td>55186</td>\n",
       "      <td>158357.0</td>\n",
       "      <td>226984</td>\n",
       "      <td>229484</td>\n",
       "      <td>53901</td>\n",
       "      <td>37722</td>\n",
       "      <td>302854</td>\n",
       "      <td>291899</td>\n",
       "      <td>295008</td>\n",
       "      <td>283472</td>\n",
       "      <td>236644</td>\n",
       "      <td>252296</td>\n",
       "      <td>67992</td>\n",
       "      <td>5.000000</td>\n",
       "      <td>721.000000</td>\n",
       "      <td>1460.0000</td>\n",
       "      <td>6663.0000</td>\n",
       "      <td>14745.0</td>\n",
       "      <td>4311.0000</td>\n",
       "      <td>2999.0000</td>\n",
       "      <td>8442.0</td>\n",
       "      <td>85718.0</td>\n",
       "      <td>34007.0000</td>\n",
       "      <td>61875.0000</td>\n",
       "      <td>32875.0000</td>\n",
       "      <td>15600.0</td>\n",
       "      <td>4272.0000</td>\n",
       "      <td>284.0</td>\n",
       "      <td>54549.0</td>\n",
       "      <td>58735.0</td>\n",
       "      <td>7522.000</td>\n",
       "      <td>16598.0</td>\n",
       "      <td>4291.0000</td>\n",
       "      <td>2960.0000</td>\n",
       "      <td>9690.0</td>\n",
       "      <td>89498.0</td>\n",
       "      <td>36041.0000</td>\n",
       "      <td>65550.0000</td>\n",
       "      <td>34403.0000</td>\n",
       "      <td>17453.0</td>\n",
       "      <td>4931.0000</td>\n",
       "      <td>444.0</td>\n",
       "      <td>59255.0</td>\n",
       "      <td>67126.0</td>\n",
       "      <td>7109.0000</td>\n",
       "      <td>14991.0</td>\n",
       "      <td>4314.0000</td>\n",
       "      <td>2994.0000</td>\n",
       "      <td>8691.0</td>\n",
       "      <td>87026.0</td>\n",
       "      <td>35535.0000</td>\n",
       "      <td>63607.0000</td>\n",
       "      <td>33737.0000</td>\n",
       "      <td>15919.0</td>\n",
       "      <td>4500.0000</td>\n",
       "      <td>299.0</td>\n",
       "      <td>56097.0</td>\n",
       "      <td>60954.0</td>\n",
       "      <td>73830</td>\n",
       "      <td>150503</td>\n",
       "      <td>582.0</td>\n",
       "      <td>66040</td>\n",
       "      <td>159428</td>\n",
       "      <td>163910.0</td>\n",
       "      <td>271324.0</td>\n",
       "      <td>164666.0</td>\n",
       "      <td>280721.0</td>\n",
       "      <td>37672.0</td>\n",
       "      <td>307498</td>\n",
       "      <td>218340</td>\n",
       "      <td>307486</td>\n",
       "      <td>302863</td>\n",
       "      <td>280433</td>\n",
       "      <td>307452</td>\n",
       "      <td>282487</td>\n",
       "      <td>306313</td>\n",
       "      <td>307504</td>\n",
       "      <td>306308</td>\n",
       "      <td>307509</td>\n",
       "      <td>306427</td>\n",
       "      <td>306608</td>\n",
       "      <td>307139</td>\n",
       "      <td>304458</td>\n",
       "      <td>307429</td>\n",
       "      <td>305011</td>\n",
       "      <td>307328</td>\n",
       "      <td>307355</td>\n",
       "      <td>307408</td>\n",
       "      <td>264366.0</td>\n",
       "      <td>264503.0</td>\n",
       "      <td>257456.0</td>\n",
       "      <td>222233.0</td>\n",
       "      <td>215417.0</td>\n",
       "      <td>71801.0</td>\n",
       "      <td>154921</td>\n",
       "      <td>79586</td>\n",
       "      <td>126148</td>\n",
       "    </tr>\n",
       "  </tbody>\n",
       "</table>\n",
       "</div>"
      ],
      "text/plain": [
       "        SK_ID_CURR  TARGET NAME_CONTRACT_TYPE CODE_GENDER FLAG_OWN_CAR  \\\n",
       "count       307511  307511             307511      307511       307511   \n",
       "unique      307511       2                  2           3            2   \n",
       "top         456255       0         Cash loans           F            N   \n",
       "freq             1  282686             278232      202448       202924   \n",
       "\n",
       "       FLAG_OWN_REALTY  CNT_CHILDREN  AMT_INCOME_TOTAL  AMT_CREDIT  \\\n",
       "count           307511        307511          307511.0    307511.0   \n",
       "unique               2            15            2548.0      5603.0   \n",
       "top                  Y             0          135000.0    450000.0   \n",
       "freq            213312        215371           35750.0      9709.0   \n",
       "\n",
       "        AMT_ANNUITY  AMT_GOODS_PRICE NAME_TYPE_SUITE NAME_INCOME_TYPE  \\\n",
       "count      307499.0         307233.0          306219           307511   \n",
       "unique      13672.0           1002.0               7                8   \n",
       "top          9000.0         450000.0   Unaccompanied          Working   \n",
       "freq         6385.0          26022.0          248526           158774   \n",
       "\n",
       "                  NAME_EDUCATION_TYPE NAME_FAMILY_STATUS  NAME_HOUSING_TYPE  \\\n",
       "count                          307511             307511             307511   \n",
       "unique                              5                  6                  6   \n",
       "top     Secondary / secondary special            Married  House / apartment   \n",
       "freq                           218391             196432             272868   \n",
       "\n",
       "        REGION_POPULATION_RELATIVE  DAYS_BIRTH  DAYS_EMPLOYED  \\\n",
       "count                307511.000000      307511         307511   \n",
       "unique                   81.000000       17460          12574   \n",
       "top                       0.035792      -13749         365243   \n",
       "freq                  16408.000000          43          55374   \n",
       "\n",
       "        DAYS_REGISTRATION  DAYS_ID_PUBLISH  OWN_CAR_AGE  FLAG_MOBIL  \\\n",
       "count            307511.0           307511     104582.0      307511   \n",
       "unique            15688.0             6168         62.0           2   \n",
       "top                  -1.0            -4053          7.0           1   \n",
       "freq                113.0              169       7424.0      307510   \n",
       "\n",
       "        FLAG_EMP_PHONE  FLAG_WORK_PHONE  FLAG_CONT_MOBILE  FLAG_PHONE  \\\n",
       "count           307511           307511            307511      307511   \n",
       "unique               2                2                 2           2   \n",
       "top                  1                0                 1           0   \n",
       "freq            252125           246203            306937      221080   \n",
       "\n",
       "        FLAG_EMAIL OCCUPATION_TYPE  CNT_FAM_MEMBERS  REGION_RATING_CLIENT  \\\n",
       "count       307511          211120         307509.0                307511   \n",
       "unique           2              18             17.0                     3   \n",
       "top              0        Laborers              2.0                     2   \n",
       "freq        290069           55186         158357.0                226984   \n",
       "\n",
       "        REGION_RATING_CLIENT_W_CITY WEEKDAY_APPR_PROCESS_START  \\\n",
       "count                        307511                     307511   \n",
       "unique                            3                          7   \n",
       "top                               2                    TUESDAY   \n",
       "freq                         229484                      53901   \n",
       "\n",
       "        HOUR_APPR_PROCESS_START  REG_REGION_NOT_LIVE_REGION  \\\n",
       "count                    307511                      307511   \n",
       "unique                       24                           2   \n",
       "top                          10                           0   \n",
       "freq                      37722                      302854   \n",
       "\n",
       "        REG_REGION_NOT_WORK_REGION  LIVE_REGION_NOT_WORK_REGION  \\\n",
       "count                       307511                       307511   \n",
       "unique                           2                            2   \n",
       "top                              0                            0   \n",
       "freq                        291899                       295008   \n",
       "\n",
       "        REG_CITY_NOT_LIVE_CITY  REG_CITY_NOT_WORK_CITY  \\\n",
       "count                   307511                  307511   \n",
       "unique                       2                       2   \n",
       "top                          0                       0   \n",
       "freq                    283472                  236644   \n",
       "\n",
       "        LIVE_CITY_NOT_WORK_CITY       ORGANIZATION_TYPE   EXT_SOURCE_1  \\\n",
       "count                    307511                  307511  134133.000000   \n",
       "unique                        2                      58  114584.000000   \n",
       "top                           0  Business Entity Type 3       0.605152   \n",
       "freq                     252296                   67992       5.000000   \n",
       "\n",
       "         EXT_SOURCE_2  EXT_SOURCE_3  APARTMENTS_AVG  BASEMENTAREA_AVG  \\\n",
       "count   306851.000000   246546.0000     151450.0000          127568.0   \n",
       "unique  119831.000000      814.0000       2339.0000            3780.0   \n",
       "top          0.285898        0.7463          0.0825               0.0   \n",
       "freq       721.000000     1460.0000       6663.0000           14745.0   \n",
       "\n",
       "        YEARS_BEGINEXPLUATATION_AVG  YEARS_BUILD_AVG  COMMONAREA_AVG  \\\n",
       "count                   157504.0000      103023.0000         92646.0   \n",
       "unique                     285.0000         149.0000          3181.0   \n",
       "top                          0.9871           0.8232             0.0   \n",
       "freq                      4311.0000        2999.0000          8442.0   \n",
       "\n",
       "        ELEVATORS_AVG  ENTRANCES_AVG  FLOORSMAX_AVG  FLOORSMIN_AVG  \\\n",
       "count        143620.0    152683.0000    154491.0000     98869.0000   \n",
       "unique          257.0       285.0000       403.0000       305.0000   \n",
       "top               0.0         0.1379         0.1667         0.2083   \n",
       "freq          85718.0     34007.0000     61875.0000     32875.0000   \n",
       "\n",
       "        LANDAREA_AVG  LIVINGAPARTMENTS_AVG  LIVINGAREA_AVG  \\\n",
       "count       124921.0            97312.0000        153161.0   \n",
       "unique        3527.0             1868.0000          5199.0   \n",
       "top              0.0                0.0504             0.0   \n",
       "freq         15600.0             4272.0000           284.0   \n",
       "\n",
       "        NONLIVINGAPARTMENTS_AVG  NONLIVINGAREA_AVG  APARTMENTS_MODE  \\\n",
       "count                   93997.0           137829.0       151450.000   \n",
       "unique                    386.0             3290.0          760.000   \n",
       "top                         0.0                0.0            0.084   \n",
       "freq                    54549.0            58735.0         7522.000   \n",
       "\n",
       "        BASEMENTAREA_MODE  YEARS_BEGINEXPLUATATION_MODE  YEARS_BUILD_MODE  \\\n",
       "count            127568.0                   157504.0000       103023.0000   \n",
       "unique             3841.0                      221.0000          154.0000   \n",
       "top                   0.0                        0.9871            0.8301   \n",
       "freq              16598.0                     4291.0000         2960.0000   \n",
       "\n",
       "        COMMONAREA_MODE  ELEVATORS_MODE  ENTRANCES_MODE  FLOORSMAX_MODE  \\\n",
       "count           92646.0        143620.0     152683.0000     154491.0000   \n",
       "unique           3128.0            26.0         30.0000         25.0000   \n",
       "top                 0.0             0.0          0.1379          0.1667   \n",
       "freq             9690.0         89498.0      36041.0000      65550.0000   \n",
       "\n",
       "        FLOORSMIN_MODE  LANDAREA_MODE  LIVINGAPARTMENTS_MODE  LIVINGAREA_MODE  \\\n",
       "count       98869.0000       124921.0             97312.0000         153161.0   \n",
       "unique         25.0000         3563.0               736.0000           5301.0   \n",
       "top             0.2083            0.0                 0.0551              0.0   \n",
       "freq        34403.0000        17453.0              4931.0000            444.0   \n",
       "\n",
       "        NONLIVINGAPARTMENTS_MODE  NONLIVINGAREA_MODE  APARTMENTS_MEDI  \\\n",
       "count                    93997.0            137829.0      151450.0000   \n",
       "unique                     167.0              3327.0        1148.0000   \n",
       "top                          0.0                 0.0           0.0833   \n",
       "freq                     59255.0             67126.0        7109.0000   \n",
       "\n",
       "        BASEMENTAREA_MEDI  YEARS_BEGINEXPLUATATION_MEDI  YEARS_BUILD_MEDI  \\\n",
       "count            127568.0                   157504.0000       103023.0000   \n",
       "unique             3772.0                      245.0000          151.0000   \n",
       "top                   0.0                        0.9871            0.8256   \n",
       "freq              14991.0                     4314.0000         2994.0000   \n",
       "\n",
       "        COMMONAREA_MEDI  ELEVATORS_MEDI  ENTRANCES_MEDI  FLOORSMAX_MEDI  \\\n",
       "count           92646.0        143620.0     152683.0000     154491.0000   \n",
       "unique           3202.0            46.0         46.0000         49.0000   \n",
       "top                 0.0             0.0          0.1379          0.1667   \n",
       "freq             8691.0         87026.0      35535.0000      63607.0000   \n",
       "\n",
       "        FLOORSMIN_MEDI  LANDAREA_MEDI  LIVINGAPARTMENTS_MEDI  LIVINGAREA_MEDI  \\\n",
       "count       98869.0000       124921.0             97312.0000         153161.0   \n",
       "unique         47.0000         3560.0              1097.0000           5281.0   \n",
       "top             0.2083            0.0                 0.0513              0.0   \n",
       "freq        33737.0000        15919.0              4500.0000            299.0   \n",
       "\n",
       "        NONLIVINGAPARTMENTS_MEDI  NONLIVINGAREA_MEDI FONDKAPREMONT_MODE  \\\n",
       "count                    93997.0            137829.0              97216   \n",
       "unique                     214.0              3323.0                  4   \n",
       "top                          0.0                 0.0   reg oper account   \n",
       "freq                     56097.0             60954.0              73830   \n",
       "\n",
       "        HOUSETYPE_MODE  TOTALAREA_MODE WALLSMATERIAL_MODE EMERGENCYSTATE_MODE  \\\n",
       "count           153214        159080.0             151170              161756   \n",
       "unique               3          5116.0                  7                   2   \n",
       "top     block of flats             0.0              Panel                  No   \n",
       "freq            150503           582.0              66040              159428   \n",
       "\n",
       "        OBS_30_CNT_SOCIAL_CIRCLE  DEF_30_CNT_SOCIAL_CIRCLE  \\\n",
       "count                   306490.0                  306490.0   \n",
       "unique                      33.0                      10.0   \n",
       "top                          0.0                       0.0   \n",
       "freq                    163910.0                  271324.0   \n",
       "\n",
       "        OBS_60_CNT_SOCIAL_CIRCLE  DEF_60_CNT_SOCIAL_CIRCLE  \\\n",
       "count                   306490.0                  306490.0   \n",
       "unique                      33.0                       9.0   \n",
       "top                          0.0                       0.0   \n",
       "freq                    164666.0                  280721.0   \n",
       "\n",
       "        DAYS_LAST_PHONE_CHANGE  FLAG_DOCUMENT_2  FLAG_DOCUMENT_3  \\\n",
       "count                 307510.0           307511           307511   \n",
       "unique                  3773.0                2                2   \n",
       "top                        0.0                0                1   \n",
       "freq                   37672.0           307498           218340   \n",
       "\n",
       "        FLAG_DOCUMENT_4  FLAG_DOCUMENT_5  FLAG_DOCUMENT_6  FLAG_DOCUMENT_7  \\\n",
       "count            307511           307511           307511           307511   \n",
       "unique                2                2                2                2   \n",
       "top                   0                0                0                0   \n",
       "freq             307486           302863           280433           307452   \n",
       "\n",
       "        FLAG_DOCUMENT_8  FLAG_DOCUMENT_9  FLAG_DOCUMENT_10  FLAG_DOCUMENT_11  \\\n",
       "count            307511           307511            307511            307511   \n",
       "unique                2                2                 2                 2   \n",
       "top                   0                0                 0                 0   \n",
       "freq             282487           306313            307504            306308   \n",
       "\n",
       "        FLAG_DOCUMENT_12  FLAG_DOCUMENT_13  FLAG_DOCUMENT_14  \\\n",
       "count             307511            307511            307511   \n",
       "unique                 2                 2                 2   \n",
       "top                    0                 0                 0   \n",
       "freq              307509            306427            306608   \n",
       "\n",
       "        FLAG_DOCUMENT_15  FLAG_DOCUMENT_16  FLAG_DOCUMENT_17  \\\n",
       "count             307511            307511            307511   \n",
       "unique                 2                 2                 2   \n",
       "top                    0                 0                 0   \n",
       "freq              307139            304458            307429   \n",
       "\n",
       "        FLAG_DOCUMENT_18  FLAG_DOCUMENT_19  FLAG_DOCUMENT_20  \\\n",
       "count             307511            307511            307511   \n",
       "unique                 2                 2                 2   \n",
       "top                    0                 0                 0   \n",
       "freq              305011            307328            307355   \n",
       "\n",
       "        FLAG_DOCUMENT_21  AMT_REQ_CREDIT_BUREAU_HOUR  \\\n",
       "count             307511                    265992.0   \n",
       "unique                 2                         5.0   \n",
       "top                    0                         0.0   \n",
       "freq              307408                    264366.0   \n",
       "\n",
       "        AMT_REQ_CREDIT_BUREAU_DAY  AMT_REQ_CREDIT_BUREAU_WEEK  \\\n",
       "count                    265992.0                    265992.0   \n",
       "unique                        9.0                         9.0   \n",
       "top                           0.0                         0.0   \n",
       "freq                     264503.0                    257456.0   \n",
       "\n",
       "        AMT_REQ_CREDIT_BUREAU_MON  AMT_REQ_CREDIT_BUREAU_QRT  \\\n",
       "count                    265992.0                   265992.0   \n",
       "unique                       24.0                       11.0   \n",
       "top                           0.0                        0.0   \n",
       "freq                     222233.0                   215417.0   \n",
       "\n",
       "        AMT_REQ_CREDIT_BUREAU_YEAR  missing_value1  missing_value2  \\\n",
       "count                     265992.0          307511          307511   \n",
       "unique                        25.0               5              40   \n",
       "top                            0.0               1              37   \n",
       "freq                       71801.0          154921           79586   \n",
       "\n",
       "        missing_value3  \n",
       "count           307511  \n",
       "unique              21  \n",
       "top                 11  \n",
       "freq            126148  "
      ]
     },
     "execution_count": 3,
     "metadata": {},
     "output_type": "execute_result"
    }
   ],
   "source": [
    "#（このコードでは、計算時間が20分近くかかるので計算結果を外部ファイルに記憶。）\n",
    "\n",
    "df[\"missing_value1\"] = 0\n",
    "df[\"missing_value2\"] = 0\n",
    "df[\"missing_value3\"] = 0\n",
    "\n",
    "#len(df)=307511\n",
    "df_t = df.T\n",
    "\n",
    "for i in range(307511):\n",
    "    df_t.at[\"missing_value1\",i]=df_t.iloc[0:40,i].isnull().sum()\n",
    "    df_t.at[\"missing_value2\",i]=df_t.iloc[40:80,i].isnull().sum()\n",
    "    df_t.at[\"missing_value3\",i]=df_t.iloc[80:122,i].isnull().sum()\n",
    "\n",
    "df = df_t.T\n",
    "df.describe()"
   ]
  },
  {
   "cell_type": "code",
   "execution_count": 5,
   "metadata": {},
   "outputs": [],
   "source": [
    "# mis[\"missing_value1\"] = df[\"missing_value1\"]\n",
    "# mis[\"missing_value2\"] = df[\"missing_value2\"]\n",
    "# mis[\"missing_value3\"] = df[\"missing_value3\"]\n",
    "# mis[\"missing_sum\"] = mis[\"missing_value1\"]+mis[\"missing_value2\"]+mis[\"missing_value3\"]\n",
    "# mis.to_csv('missing_values.csv', index=False)"
   ]
  },
  {
   "cell_type": "code",
   "execution_count": 3,
   "metadata": {},
   "outputs": [],
   "source": [
    "mis = pd.read_csv('missing_values.csv')\n",
    "\n",
    "df[\"missing_value1\"] = mis[\"missing_value1\"]\n",
    "df[\"missing_value2\"] = mis[\"missing_value2\"]\n",
    "df[\"missing_value3\"] = mis[\"missing_value3\"]\n",
    "df[\"missing_sum\"] = mis[\"missing_sum\"]"
   ]
  },
  {
   "cell_type": "code",
   "execution_count": 4,
   "metadata": {},
   "outputs": [
    {
     "data": {
      "text/plain": [
       "0"
      ]
     },
     "execution_count": 4,
     "metadata": {},
     "output_type": "execute_result"
    }
   ],
   "source": [
    "# objectの欠損値をmodeで、int,floatの欠損値をmeanで置換。mode()後の[0]に注意。\n",
    "\n",
    "df_object = df.select_dtypes(include = \"object\")\n",
    "for column in df_object.columns:\n",
    "    df[column] = df_object[column].fillna(df_object[column].mode()[0])\n",
    "\n",
    "df_int_float = df.select_dtypes(include = [\"int\",\"float\"])\n",
    "for column in df_int_float.columns:\n",
    "    df[column] = df_int_float[column].fillna(df_int_float[column].mean())\n",
    "\n",
    "df.isnull().sum().sum()"
   ]
  },
  {
   "cell_type": "code",
   "execution_count": 6,
   "metadata": {},
   "outputs": [
    {
     "name": "stdout",
     "output_type": "stream",
     "text": [
      "(307511, 266)\n",
      "(307511, 250)\n"
     ]
    }
   ],
   "source": [
    "# ダミー処理。one hot encode\n",
    "\n",
    "df_onehot = df\n",
    "for column in df_object.columns:\n",
    "    df_onehot = pd.concat([df_onehot, pd.get_dummies(df[column])],axis=1)\n",
    "\n",
    "print(df_onehot.shape)\n",
    "for column in df_object.columns:\n",
    "    df_onehot = df_onehot.drop(column, axis=1)\n",
    "\n",
    "print(df_onehot.shape)"
   ]
  },
  {
   "cell_type": "code",
   "execution_count": 10,
   "metadata": {},
   "outputs": [],
   "source": [
    "#計算負荷を少なくするため以降は64個の特徴量を使用。これにmissing_value1～3、missing_sumを加える(df_onehot_select)\n",
    "\n",
    "df_onehot_select=df_onehot[['NONLIVINGAPARTMENTS_MODE', 'LIVINGAPARTMENTS_MEDI',\n",
    "       'REG_CITY_NOT_LIVE_CITY', 'Managers', 'ENTRANCES_MODE',\n",
    "       'AMT_REQ_CREDIT_BUREAU_WEEK', 'AMT_REQ_CREDIT_BUREAU_QRT',\n",
    "       'REGION_RATING_CLIENT', 'AMT_REQ_CREDIT_BUREAU_MON', 'THURSDAY',\n",
    "       'ENTRANCES_AVG', 'BASEMENTAREA_MODE', 'Higher education', 'Working',\n",
    "       'Commercial associate', 'F', 'APARTMENTS_AVG', 'BASEMENTAREA_AVG',\n",
    "       'FLOORSMAX_MODE', 'DEF_60_CNT_SOCIAL_CIRCLE', 'ENTRANCES_MEDI',\n",
    "       'APARTMENTS_MODE', 'Married', 'NONLIVINGAREA_MEDI', 'TUESDAY',\n",
    "       'CNT_CHILDREN', 'NONLIVINGAREA_MODE', 'LANDAREA_AVG', 'LANDAREA_MODE',\n",
    "       'LANDAREA_MEDI', 'OBS_60_CNT_SOCIAL_CIRCLE', 'LIVINGAPARTMENTS_MODE',\n",
    "       'DEF_30_CNT_SOCIAL_CIRCLE', 'YEARS_BEGINEXPLUATATION_MEDI',\n",
    "       'YEARS_BEGINEXPLUATATION_AVG', 'FLAG_DOCUMENT_3',\n",
    "       'LIVINGAPARTMENTS_AVG', 'CNT_FAM_MEMBERS', 'LIVINGAREA_MEDI',\n",
    "       'OBS_30_CNT_SOCIAL_CIRCLE', 'YEARS_BUILD_MEDI', 'LIVINGAREA_AVG',\n",
    "       'LIVINGAREA_MODE', 'Secondary / secondary special',\n",
    "       'YEARS_BEGINEXPLUATATION_MODE', 'COMMONAREA_MODE', 'TOTALAREA_MODE',\n",
    "       'M', 'OWN_CAR_AGE', 'AMT_REQ_CREDIT_BUREAU_YEAR',\n",
    "       'HOUR_APPR_PROCESS_START', 'AMT_GOODS_PRICE', 'AMT_CREDIT',\n",
    "       'REGION_POPULATION_RELATIVE', 'AMT_INCOME_TOTAL',\n",
    "       'DAYS_LAST_PHONE_CHANGE', 'DAYS_EMPLOYED', 'AMT_ANNUITY',\n",
    "       'DAYS_ID_PUBLISH', 'DAYS_REGISTRATION', 'DAYS_BIRTH', 'EXT_SOURCE_1',\n",
    "       'EXT_SOURCE_2', 'EXT_SOURCE_3', 'missing_value1', 'missing_value2',\n",
    "       'missing_value3', 'missing_sum']]"
   ]
  },
  {
   "cell_type": "code",
   "execution_count": 11,
   "metadata": {},
   "outputs": [
    {
     "data": {
      "text/plain": [
       "(307511, 68)"
      ]
     },
     "execution_count": 11,
     "metadata": {},
     "output_type": "execute_result"
    }
   ],
   "source": [
    "df_onehot_select.shape"
   ]
  },
  {
   "cell_type": "code",
   "execution_count": 12,
   "metadata": {},
   "outputs": [],
   "source": [
    "from sklearn.model_selection import train_test_split\n",
    "X4 = df_onehot_select.values\n",
    "y = df_onehot.TARGET.values\n",
    "X4_train, X4_test, y_train, y_test = train_test_split(X4, y, test_size=0.25)"
   ]
  },
  {
   "cell_type": "code",
   "execution_count": 14,
   "metadata": {},
   "outputs": [
    {
     "name": "stdout",
     "output_type": "stream",
     "text": [
      "評価値：0.0835676822002996\n"
     ]
    }
   ],
   "source": [
    "from sklearn.tree import DecisionTreeRegressor\n",
    "from sklearn.metrics import mean_squared_error\n",
    "\n",
    "DTC4_reg = DecisionTreeRegressor(max_depth=15)\n",
    "DTC4_reg.fit(X4_train, y_train)\n",
    "\n",
    "y_pred_DTC4 = DTC4_reg.predict(X4_test)\n",
    "print(\"評価値：{}\".format(mean_squared_error(y_test, y_pred_DTC4)))"
   ]
  },
  {
   "cell_type": "code",
   "execution_count": 16,
   "metadata": {},
   "outputs": [
    {
     "data": {
      "image/png": "[encoded data removed]",
      "text/plain": [
       "<Figure size 432x288 with 1 Axes>"
      ]
     },
     "metadata": {
      "needs_background": "light"
     },
     "output_type": "display_data"
    }
   ],
   "source": [
    "from sklearn import metrics\n",
    "from sklearn.metrics import roc_curve\n",
    "\n",
    "fpr, tpr, thresholds = roc_curve(y_test, y_pred_DTC4)\n",
    "\n",
    "plt.plot(fpr, tpr, marker='o')\n",
    "plt.xlabel('FPR: False positive rate')\n",
    "plt.ylabel('TPR: True positive rate')\n",
    "plt.grid()"
   ]
  },
  {
   "cell_type": "code",
   "execution_count": 17,
   "metadata": {},
   "outputs": [],
   "source": [
    "#計算負荷を少なくするため以降は64個の特徴量を使う。これにmissing_sumのみを加える(df_onehot_select)\n",
    "df_onehot_select=df_onehot[['NONLIVINGAPARTMENTS_MODE', 'LIVINGAPARTMENTS_MEDI',\n",
    "       'REG_CITY_NOT_LIVE_CITY', 'Managers', 'ENTRANCES_MODE',\n",
    "       'AMT_REQ_CREDIT_BUREAU_WEEK', 'AMT_REQ_CREDIT_BUREAU_QRT',\n",
    "       'REGION_RATING_CLIENT', 'AMT_REQ_CREDIT_BUREAU_MON', 'THURSDAY',\n",
    "       'ENTRANCES_AVG', 'BASEMENTAREA_MODE', 'Higher education', 'Working',\n",
    "       'Commercial associate', 'F', 'APARTMENTS_AVG', 'BASEMENTAREA_AVG',\n",
    "       'FLOORSMAX_MODE', 'DEF_60_CNT_SOCIAL_CIRCLE', 'ENTRANCES_MEDI',\n",
    "       'APARTMENTS_MODE', 'Married', 'NONLIVINGAREA_MEDI', 'TUESDAY',\n",
    "       'CNT_CHILDREN', 'NONLIVINGAREA_MODE', 'LANDAREA_AVG', 'LANDAREA_MODE',\n",
    "       'LANDAREA_MEDI', 'OBS_60_CNT_SOCIAL_CIRCLE', 'LIVINGAPARTMENTS_MODE',\n",
    "       'DEF_30_CNT_SOCIAL_CIRCLE', 'YEARS_BEGINEXPLUATATION_MEDI',\n",
    "       'YEARS_BEGINEXPLUATATION_AVG', 'FLAG_DOCUMENT_3',\n",
    "       'LIVINGAPARTMENTS_AVG', 'CNT_FAM_MEMBERS', 'LIVINGAREA_MEDI',\n",
    "       'OBS_30_CNT_SOCIAL_CIRCLE', 'YEARS_BUILD_MEDI', 'LIVINGAREA_AVG',\n",
    "       'LIVINGAREA_MODE', 'Secondary / secondary special',\n",
    "       'YEARS_BEGINEXPLUATATION_MODE', 'COMMONAREA_MODE', 'TOTALAREA_MODE',\n",
    "       'M', 'OWN_CAR_AGE', 'AMT_REQ_CREDIT_BUREAU_YEAR',\n",
    "       'HOUR_APPR_PROCESS_START', 'AMT_GOODS_PRICE', 'AMT_CREDIT',\n",
    "       'REGION_POPULATION_RELATIVE', 'AMT_INCOME_TOTAL',\n",
    "       'DAYS_LAST_PHONE_CHANGE', 'DAYS_EMPLOYED', 'AMT_ANNUITY',\n",
    "       'DAYS_ID_PUBLISH', 'DAYS_REGISTRATION', 'DAYS_BIRTH', 'EXT_SOURCE_1',\n",
    "       'EXT_SOURCE_2', 'EXT_SOURCE_3', 'missing_sum']]"
   ]
  },
  {
   "cell_type": "code",
   "execution_count": 18,
   "metadata": {},
   "outputs": [
    {
     "name": "stdout",
     "output_type": "stream",
     "text": [
      "評価値：0.08570281856618982\n"
     ]
    }
   ],
   "source": [
    "from sklearn.model_selection import train_test_split\n",
    "X5 = df_onehot_select.values\n",
    "y = df_onehot.TARGET.values\n",
    "X5_train, X5_test, y_train, y_test = train_test_split(X5, y, test_size=0.25)\n",
    "\n",
    "from sklearn.tree import DecisionTreeRegressor\n",
    "from sklearn.metrics import mean_squared_error\n",
    "\n",
    "DTC5_reg = DecisionTreeRegressor(max_depth=15)\n",
    "DTC5_reg.fit(X5_train, y_train)\n",
    "\n",
    "y_pred_DTC5 = DTC5_reg.predict(X5_test)\n",
    "print(\"評価値：{}\".format(mean_squared_error(y_test, y_pred_DTC5)))"
   ]
  },
  {
   "cell_type": "code",
   "execution_count": 21,
   "metadata": {},
   "outputs": [
    {
     "data": {
      "image/png": "[encoded data removed]",
      "text/plain": [
       "<Figure size 432x288 with 1 Axes>"
      ]
     },
     "metadata": {
      "needs_background": "light"
     },
     "output_type": "display_data"
    }
   ],
   "source": [
    "from sklearn import metrics\n",
    "from sklearn.metrics import roc_curve\n",
    "\n",
    "fpr, tpr, thresholds = roc_curve(y_test, y_pred_DTC5)\n",
    "plt.plot(fpr, tpr, marker='o')\n",
    "plt.xlabel('FPR: False positive rate')\n",
    "plt.ylabel('TPR: True positive rate')\n",
    "plt.grid()"
   ]
  },
  {
   "cell_type": "markdown",
   "metadata": {},
   "source": [
    "### ＜考察＞  \n",
    "　missing_value1～3とmissing_sumの双方を入れると、評価値0.0835、missing_sumのみを入れると評価値0.0857となった。  \n",
    "missing_sumのみの方が良いかもしれない。"
   ]
  },
  {
   "cell_type": "markdown",
   "metadata": {},
   "source": [
    "# 検証３\n",
    "　欠損値の発生の仕方に傾向があるのではないか　→　欠損値の発生パターンでクラスタリングした結果を特徴量にしてみる（kmeans法）。"
   ]
  },
  {
   "cell_type": "code",
   "execution_count": 23,
   "metadata": {},
   "outputs": [],
   "source": [
    "mis_claster = df[[\"missing_value1\",\"missing_value2\",\"missing_value3\",\"missing_sum\"]].to_numpy()\n",
    "\n",
    "from sklearn.cluster import KMeans\n",
    "pred_claster = KMeans(n_clusters=8,random_state=10).fit_predict(mis_claster)"
   ]
  },
  {
   "cell_type": "code",
   "execution_count": 31,
   "metadata": {},
   "outputs": [],
   "source": [
    "df[\"missing_class\"] = pred_claster\n",
    "df_onehot[\"missing_class\"] = pred_claster"
   ]
  },
  {
   "cell_type": "code",
   "execution_count": 32,
   "metadata": {},
   "outputs": [],
   "source": [
    "df_onehot_select=df_onehot[['NONLIVINGAPARTMENTS_MODE', 'LIVINGAPARTMENTS_MEDI',\n",
    "       'REG_CITY_NOT_LIVE_CITY', 'Managers', 'ENTRANCES_MODE',\n",
    "       'AMT_REQ_CREDIT_BUREAU_WEEK', 'AMT_REQ_CREDIT_BUREAU_QRT',\n",
    "       'REGION_RATING_CLIENT', 'AMT_REQ_CREDIT_BUREAU_MON', 'THURSDAY',\n",
    "       'ENTRANCES_AVG', 'BASEMENTAREA_MODE', 'Higher education', 'Working',\n",
    "       'Commercial associate', 'F', 'APARTMENTS_AVG', 'BASEMENTAREA_AVG',\n",
    "       'FLOORSMAX_MODE', 'DEF_60_CNT_SOCIAL_CIRCLE', 'ENTRANCES_MEDI',\n",
    "       'APARTMENTS_MODE', 'Married', 'NONLIVINGAREA_MEDI', 'TUESDAY',\n",
    "       'CNT_CHILDREN', 'NONLIVINGAREA_MODE', 'LANDAREA_AVG', 'LANDAREA_MODE',\n",
    "       'LANDAREA_MEDI', 'OBS_60_CNT_SOCIAL_CIRCLE', 'LIVINGAPARTMENTS_MODE',\n",
    "       'DEF_30_CNT_SOCIAL_CIRCLE', 'YEARS_BEGINEXPLUATATION_MEDI',\n",
    "       'YEARS_BEGINEXPLUATATION_AVG', 'FLAG_DOCUMENT_3',\n",
    "       'LIVINGAPARTMENTS_AVG', 'CNT_FAM_MEMBERS', 'LIVINGAREA_MEDI',\n",
    "       'OBS_30_CNT_SOCIAL_CIRCLE', 'YEARS_BUILD_MEDI', 'LIVINGAREA_AVG',\n",
    "       'LIVINGAREA_MODE', 'Secondary / secondary special',\n",
    "       'YEARS_BEGINEXPLUATATION_MODE', 'COMMONAREA_MODE', 'TOTALAREA_MODE',\n",
    "       'M', 'OWN_CAR_AGE', 'AMT_REQ_CREDIT_BUREAU_YEAR',\n",
    "       'HOUR_APPR_PROCESS_START', 'AMT_GOODS_PRICE', 'AMT_CREDIT',\n",
    "       'REGION_POPULATION_RELATIVE', 'AMT_INCOME_TOTAL',\n",
    "       'DAYS_LAST_PHONE_CHANGE', 'DAYS_EMPLOYED', 'AMT_ANNUITY',\n",
    "       'DAYS_ID_PUBLISH', 'DAYS_REGISTRATION', 'DAYS_BIRTH', 'EXT_SOURCE_1',\n",
    "       'EXT_SOURCE_2', 'EXT_SOURCE_3', 'missing_sum', 'missing_class']]"
   ]
  },
  {
   "cell_type": "code",
   "execution_count": 33,
   "metadata": {},
   "outputs": [
    {
     "name": "stdout",
     "output_type": "stream",
     "text": [
      "評価値：0.08393184032321495\n"
     ]
    }
   ],
   "source": [
    "from sklearn.model_selection import train_test_split\n",
    "X6 = df_onehot_select.values\n",
    "y = df_onehot.TARGET.values\n",
    "X6_train, X6_test, y_train, y_test = train_test_split(X6, y, test_size=0.25)\n",
    "\n",
    "from sklearn.tree import DecisionTreeRegressor\n",
    "from sklearn.metrics import mean_squared_error\n",
    "\n",
    "DTC6_reg = DecisionTreeRegressor(max_depth=15)\n",
    "DTC6_reg.fit(X6_train, y_train)\n",
    "\n",
    "y_pred_DTC6 = DTC6_reg.predict(X6_test)\n",
    "print(\"評価値：{}\".format(mean_squared_error(y_test, y_pred_DTC6)))"
   ]
  },
  {
   "cell_type": "markdown",
   "metadata": {},
   "source": [
    "## missing_sumのヒストグラムを作成　→　この結果から、クラスタ数５で検証してみる。"
   ]
  },
  {
   "cell_type": "code",
   "execution_count": 36,
   "metadata": {},
   "outputs": [
    {
     "data": {
      "text/plain": [
       "<Figure size 1080x360 with 0 Axes>"
      ]
     },
     "metadata": {},
     "output_type": "display_data"
    },
    {
     "data": {
      "image/png": "[encoded data removed]",
      "text/plain": [
       "<Figure size 1080x360 with 1 Axes>"
      ]
     },
     "metadata": {
      "needs_background": "light"
     },
     "output_type": "display_data"
    }
   ],
   "source": [
    "plt.figure(figsize=(15,5))\n",
    "fig, ax = plt.subplots(figsize=[15, 5])\n",
    "ax=sns.distplot(df_onehot_select[\"missing_sum\"], bins = 45, kde = False)\n"
   ]
  },
  {
   "cell_type": "code",
   "execution_count": 39,
   "metadata": {},
   "outputs": [],
   "source": [
    "mis_claster = df[[\"missing_value1\",\"missing_value2\",\"missing_value3\",\"missing_sum\"]].to_numpy()\n",
    "from sklearn.cluster import KMeans\n",
    "pred_claster = KMeans(n_clusters=5,random_state=10).fit_predict(mis_claster)"
   ]
  },
  {
   "cell_type": "code",
   "execution_count": 40,
   "metadata": {},
   "outputs": [],
   "source": [
    "df[\"missing_class\"] = pred_claster\n",
    "df_onehot[\"missing_class\"] = pred_claster"
   ]
  },
  {
   "cell_type": "code",
   "execution_count": 41,
   "metadata": {},
   "outputs": [
    {
     "name": "stdout",
     "output_type": "stream",
     "text": [
      "評価値：0.08435667051624204\n"
     ]
    }
   ],
   "source": [
    "from sklearn.model_selection import train_test_split\n",
    "X7 = df_onehot_select.values\n",
    "y = df_onehot.TARGET.values\n",
    "X7_train, X7_test, y_train, y_test = train_test_split(X7, y, test_size=0.25)\n",
    "\n",
    "from sklearn.tree import DecisionTreeRegressor\n",
    "from sklearn.metrics import mean_squared_error\n",
    "\n",
    "DTC7_reg = DecisionTreeRegressor(max_depth=15)\n",
    "DTC7_reg.fit(X7_train, y_train)\n",
    "\n",
    "y_pred_DTC7 = DTC7_reg.predict(X7_test)\n",
    "print(\"評価値：{}\".format(mean_squared_error(y_test, y_pred_DTC7)))"
   ]
  },
  {
   "cell_type": "markdown",
   "metadata": {},
   "source": [
    "## ＜考察＞  \n",
    "　クラスタ数10よりもクラスタ数5のほうが、評価値が良さげである。"
   ]
  },
  {
   "cell_type": "markdown",
   "metadata": {},
   "source": [
    "## 検証4  \n",
    "　欠損値を、最頻値や平均値に変換するのではなく、もともと欠損値であったように扱われるような数値で変換をする。  \n",
    "　int,float型　→　最小値または最大値の10倍で変換。ほとんど家屋についてのパラメータなので意義は低そう。  \n",
    "　object型　　→　評価値が上昇しそうなパラメータのみ、特殊な文字列に変換する（OCCUPATION_TYPEの欠損値のみNO_RECORDに変換する）"
   ]
  },
  {
   "cell_type": "code",
   "execution_count": 16,
   "metadata": {},
   "outputs": [],
   "source": [
    "df_object = df.select_dtypes(include = \"object\")\n",
    "for column in df_object.columns:\n",
    "    if column != \"OCCUPATION_TYPE\" :\n",
    "        df[column] = df_object[column].fillna(df_object[column].mode()[0])\n",
    "    else :\n",
    "        df[column] = df_object[column].fillna(\"NO_RECORD\")\n",
    "\n",
    "df_int_float = df.select_dtypes(include = [\"int\",\"float\"])\n",
    "for column in df_int_float.columns:\n",
    "    if df_int_float[column].mean() < 0:\n",
    "        df[column] = df_int_float[column].fillna(df_int_float[column].min()*10)\n",
    "    if df_int_float[column].mean() >= 0:\n",
    "        df[column] = df_int_float[column].fillna(df_int_float[column].max()*10)"
   ]
  },
  {
   "cell_type": "code",
   "execution_count": 25,
   "metadata": {},
   "outputs": [
    {
     "name": "stdout",
     "output_type": "stream",
     "text": [
      "(307511, 122)\n",
      "(307511, 263)\n",
      "(307511, 247)\n"
     ]
    }
   ],
   "source": [
    "print(df.shape)\n",
    "df_onehot = df\n",
    "for column in df_object.columns:\n",
    "    df_onehot = pd.concat([df_onehot, pd.get_dummies(df[column])],axis=1)\n",
    "\n",
    "print(df_onehot.shape)\n",
    "for column in df_object.columns:\n",
    "    df_onehot = df_onehot.drop(column, axis=1)\n",
    "\n",
    "print(df_onehot.shape)"
   ]
  },
  {
   "cell_type": "code",
   "execution_count": 26,
   "metadata": {},
   "outputs": [],
   "source": [
    "# とりあえずtrainデータの25％を検証用データとして確保する。\n",
    "\n",
    "from sklearn.model_selection import train_test_split\n",
    "X8 = df_onehot.drop([\"SK_ID_CURR\",\"TARGET\"],axis=1).values\n",
    "y = df_onehot.TARGET.values\n",
    "X8_train, X8_test, y_train, y_test = train_test_split(X8,y, test_size=0.25)"
   ]
  },
  {
   "cell_type": "code",
   "execution_count": 28,
   "metadata": {},
   "outputs": [
    {
     "name": "stdout",
     "output_type": "stream",
     "text": [
      "評価値：0.08518261025760422\n"
     ]
    }
   ],
   "source": [
    "from sklearn.tree import DecisionTreeRegressor\n",
    "from sklearn.metrics import mean_squared_error\n",
    "\n",
    "DTC8_reg = DecisionTreeRegressor(max_depth=15)\n",
    "DTC8_reg.fit(X8_train, y_train)\n",
    "\n",
    "y_pred_DTC8 = DTC8_reg.predict(X8_test)\n",
    "print(\"評価値：{}\".format(mean_squared_error(y_test, y_pred_DTC8)))"
   ]
  },
  {
   "cell_type": "code",
   "execution_count": 29,
   "metadata": {},
   "outputs": [
    {
     "data": {
      "image/png": "[encoded data removed]",
      "text/plain": [
       "<Figure size 432x288 with 1 Axes>"
      ]
     },
     "metadata": {
      "needs_background": "light"
     },
     "output_type": "display_data"
    }
   ],
   "source": [
    "from sklearn import metrics\n",
    "from sklearn.metrics import roc_curve\n",
    "\n",
    "fpr, tpr, thresholds = roc_curve(y_test, y_pred_DTC8)\n",
    "plt.plot(fpr, tpr, marker='o')\n",
    "plt.xlabel('FPR: False positive rate')\n",
    "plt.ylabel('TPR: True positive rate')\n",
    "plt.grid()"
   ]
  },
  {
   "cell_type": "markdown",
   "metadata": {},
   "source": [
    "## ＜考察＞  \n",
    "　特徴量数は、「NO_RECORD」が増えて247個となる（1個増加）。  \n",
    "  評価値は、0.08518261025760422　となった（246個の場合よりもよさげ）。"
   ]
  },
  {
   "cell_type": "markdown",
   "metadata": {},
   "source": [
    "## 検証5  \n",
    "DAYS_EMPLOYED ・・・異常値である365243は、「雇用されていない」という解釈ができる→新カラム作成。  \n",
    "DAYS_LAST_PHONE_CHANGE　・・・\"DAYS_LAST_PHONE_CHANGE == 0\"　は、携帯を持っていないという解釈ができる→新カラム作成。  \n",
    "他の欠損値については、検証４と同様に処理する。"
   ]
  },
  {
   "cell_type": "code",
   "execution_count": 37,
   "metadata": {},
   "outputs": [],
   "source": [
    "NO_CELLULAR = df[\"DAYS_LAST_PHONE_CHANGE\"].values\n",
    "for i in range(307511):\n",
    "    if NO_CELLULAR[i] < 0:\n",
    "        NO_CELLULAR[i] = 0\n",
    "    else:\n",
    "        NO_CELLULAR[i] = 1"
   ]
  },
  {
   "cell_type": "code",
   "execution_count": 38,
   "metadata": {},
   "outputs": [],
   "source": [
    "df[\"NO_CELLULAR\"] = NO_CELLULAR"
   ]
  },
  {
   "cell_type": "code",
   "execution_count": 40,
   "metadata": {},
   "outputs": [],
   "source": [
    "NO_EMPLOYED = df[\"DAYS_EMPLOYED\"].values\n",
    "for i in range(307511):\n",
    "    if NO_EMPLOYED[i] < 0:\n",
    "        NO_EMPLOYED[i] = 0\n",
    "    else:\n",
    "        NO_EMPLOYED[i] = 1"
   ]
  },
  {
   "cell_type": "code",
   "execution_count": 41,
   "metadata": {},
   "outputs": [],
   "source": [
    "df[\"NO_EMPLOYED\"] = NO_EMPLOYED"
   ]
  },
  {
   "cell_type": "code",
   "execution_count": 43,
   "metadata": {},
   "outputs": [],
   "source": [
    "df_object = df.select_dtypes(include = \"object\")\n",
    "for column in df_object.columns:\n",
    "    if column != \"OCCUPATION_TYPE\" :\n",
    "        df[column] = df_object[column].fillna(df_object[column].mode()[0])\n",
    "    else :\n",
    "        df[column] = df_object[column].fillna(\"NO_RECORD\")\n",
    "\n",
    "df_int_float = df.select_dtypes(include = [\"int\",\"float\"])\n",
    "for column in df_int_float.columns:\n",
    "    if df_int_float[column].mean() < 0:\n",
    "        df[column] = df_int_float[column].fillna(df_int_float[column].min()*10)\n",
    "    if df_int_float[column].mean() >= 0:\n",
    "        df[column] = df_int_float[column].fillna(df_int_float[column].max()*10)"
   ]
  },
  {
   "cell_type": "code",
   "execution_count": 44,
   "metadata": {},
   "outputs": [
    {
     "name": "stdout",
     "output_type": "stream",
     "text": [
      "(307511, 124)\n",
      "(307511, 265)\n",
      "(307511, 249)\n"
     ]
    }
   ],
   "source": [
    "print(df.shape)\n",
    "df_onehot = df\n",
    "for column in df_object.columns:\n",
    "    df_onehot = pd.concat([df_onehot, pd.get_dummies(df[column])],axis=1)\n",
    "\n",
    "print(df_onehot.shape)\n",
    "for column in df_object.columns:\n",
    "    df_onehot = df_onehot.drop(column, axis=1)\n",
    "\n",
    "print(df_onehot.shape)"
   ]
  },
  {
   "cell_type": "code",
   "execution_count": 45,
   "metadata": {},
   "outputs": [],
   "source": [
    "from sklearn.model_selection import train_test_split\n",
    "X9 = df_onehot.drop([\"SK_ID_CURR\",\"TARGET\"],axis=1).values\n",
    "y = df_onehot.TARGET.values\n",
    "X9_train, X9_test, y_train, y_test = train_test_split(X9,y, test_size=0.25)"
   ]
  },
  {
   "cell_type": "code",
   "execution_count": 46,
   "metadata": {},
   "outputs": [
    {
     "name": "stdout",
     "output_type": "stream",
     "text": [
      "評価値：0.08555992060994702\n"
     ]
    }
   ],
   "source": [
    "from sklearn.tree import DecisionTreeRegressor\n",
    "from sklearn.metrics import mean_squared_error\n",
    "\n",
    "DTC9_reg = DecisionTreeRegressor(max_depth=15)\n",
    "DTC9_reg.fit(X9_train, y_train)\n",
    "\n",
    "y_pred_DTC9 = DTC9_reg.predict(X9_test)\n",
    "print(\"評価値：{}\".format(mean_squared_error(y_test, y_pred_DTC9)))"
   ]
  },
  {
   "cell_type": "markdown",
   "metadata": {},
   "source": [
    "＜考察＞\n",
    "　特徴量数は、「NO_RECORD」、「NO_CELLULAR」、「NO_EMPLOYED」が増えて249個となる（1＋2個増加）。  \n",
    "　評価値：0.08555992060994702 となった（246個や247個の場合よりもよさげ）。"
   ]
  },
  {
   "cell_type": "code",
   "execution_count": 47,
   "metadata": {},
   "outputs": [
    {
     "data": {
      "image/png": "[encoded data removed]",
      "text/plain": [
       "<Figure size 432x288 with 1 Axes>"
      ]
     },
     "metadata": {
      "needs_background": "light"
     },
     "output_type": "display_data"
    }
   ],
   "source": [
    "from sklearn import metrics\n",
    "from sklearn.metrics import roc_curve\n",
    "\n",
    "fpr, tpr, thresholds = roc_curve(y_test, y_pred_DTC9)\n",
    "plt.plot(fpr, tpr, marker='o')\n",
    "plt.xlabel('FPR: False positive rate')\n",
    "plt.ylabel('TPR: True positive rate')\n",
    "plt.grid()"
   ]
  },
  {
   "cell_type": "code",
   "execution_count": null,
   "metadata": {},
   "outputs": [],
   "source": []
  },
  {
   "cell_type": "code",
   "execution_count": null,
   "metadata": {},
   "outputs": [],
   "source": []
  },
  {
   "cell_type": "code",
   "execution_count": null,
   "metadata": {},
   "outputs": [],
   "source": []
  },
  {
   "cell_type": "code",
   "execution_count": null,
   "metadata": {},
   "outputs": [],
   "source": []
  },
  {
   "cell_type": "code",
   "execution_count": null,
   "metadata": {},
   "outputs": [],
   "source": []
  },
  {
   "cell_type": "code",
   "execution_count": null,
   "metadata": {},
   "outputs": [],
   "source": []
  },
  {
   "cell_type": "code",
   "execution_count": null,
   "metadata": {},
   "outputs": [],
   "source": []
  },
  {
   "cell_type": "code",
   "execution_count": null,
   "metadata": {},
   "outputs": [],
   "source": []
  },
  {
   "cell_type": "code",
   "execution_count": null,
   "metadata": {},
   "outputs": [],
   "source": []
  },
  {
   "cell_type": "code",
   "execution_count": null,
   "metadata": {},
   "outputs": [],
   "source": []
  },
  {
   "cell_type": "code",
   "execution_count": null,
   "metadata": {},
   "outputs": [],
   "source": []
  },
  {
   "cell_type": "code",
   "execution_count": null,
   "metadata": {},
   "outputs": [],
   "source": []
  },
  {
   "cell_type": "code",
   "execution_count": null,
   "metadata": {},
   "outputs": [],
   "source": []
  }
 ],
 "metadata": {
  "kernelspec": {
   "display_name": "Python 3",
   "language": "python",
   "name": "python3"
  },
  "language_info": {
   "codemirror_mode": {
    "name": "ipython",
    "version": 3
   },
   "file_extension": ".py",
   "mimetype": "text/x-python",
   "name": "python",
   "nbconvert_exporter": "python",
   "pygments_lexer": "ipython3",
   "version": "3.7.4"
  }
 },
 "nbformat": 4,
 "nbformat_minor": 2
}
